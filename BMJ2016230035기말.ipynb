{
 "cells": [
  {
   "cell_type": "markdown",
   "metadata": {},
   "source": [
    "데이터마이닝 특론 기말고사\n",
    "===\n",
    "* 2016230035 배명진"
   ]
  },
  {
   "cell_type": "markdown",
   "metadata": {},
   "source": [
    "데이터 전처리\n",
    "--"
   ]
  },
  {
   "cell_type": "code",
   "execution_count": 398,
   "metadata": {
    "collapsed": true
   },
   "outputs": [],
   "source": [
    "import mglearn\n",
    "import numpy as np\n",
    "import matplotlib.pyplot as plt\n",
    "import pandas as pd\n",
    "import IPython\n",
    "from IPython.display import display\n",
    "import sklearn\n",
    "import scipy as sp\n",
    "%matplotlib inline"
   ]
  },
  {
   "cell_type": "code",
   "execution_count": 399,
   "metadata": {
    "collapsed": true
   },
   "outputs": [],
   "source": [
    "credit = pd.read_csv(\"credit.csv\", encoding=\"utf-8\")"
   ]
  },
  {
   "cell_type": "code",
   "execution_count": 400,
   "metadata": {},
   "outputs": [
    {
     "name": "stdout",
     "output_type": "stream",
     "text": [
      "data size: \n",
      "(1000, 21)\n"
     ]
    }
   ],
   "source": [
    "print(\"data size: \\n{}\".format(credit.shape))"
   ]
  },
  {
   "cell_type": "code",
   "execution_count": 401,
   "metadata": {},
   "outputs": [
    {
     "name": "stdout",
     "output_type": "stream",
     "text": [
      "credit.key(): \n",
      "Index(['checkingstatus', 'duration', 'history', 'purpose', 'amount', 'savings',\n",
      "       'employ', 'installment', 'status', 'cosigners', 'residence',\n",
      "       'collateral', 'age', 'otherplans', 'housing', 'existing', 'job', 'no',\n",
      "       'telephone', 'foreign', 'default'],\n",
      "      dtype='object')\n"
     ]
    }
   ],
   "source": [
    "print(\"credit.key(): \\n{}\".format(credit.keys()))"
   ]
  },
  {
   "cell_type": "code",
   "execution_count": 402,
   "metadata": {},
   "outputs": [
    {
     "name": "stdout",
     "output_type": "stream",
     "text": [
      "['checkingstatus', 'duration', 'history', 'purpose', 'amount', 'savings', 'employ', 'installment', 'status', 'cosigners', 'residence', 'collateral', 'age', 'otherplans', 'housing', 'existing', 'job', 'no', 'telephone', 'foreign', 'default']\n",
      "duration\n"
     ]
    }
   ],
   "source": [
    "credit_index = (['checkingstatus', 'duration', 'history', 'purpose', 'amount', 'savings',\n",
    "       'employ', 'installment', 'status', 'cosigners', 'residence',\n",
    "       'collateral', 'age', 'otherplans', 'housing', 'existing', 'job', 'no',\n",
    "       'telephone', 'foreign', 'default'])\n",
    "print(credit_index)\n",
    "print(credit_index[1])"
   ]
  },
  {
   "cell_type": "code",
   "execution_count": 403,
   "metadata": {},
   "outputs": [
    {
     "data": {
      "text/html": [
       "<div>\n",
       "<style>\n",
       "    .dataframe thead tr:only-child th {\n",
       "        text-align: right;\n",
       "    }\n",
       "\n",
       "    .dataframe thead th {\n",
       "        text-align: left;\n",
       "    }\n",
       "\n",
       "    .dataframe tbody tr th {\n",
       "        vertical-align: top;\n",
       "    }\n",
       "</style>\n",
       "<table border=\"1\" class=\"dataframe\">\n",
       "  <thead>\n",
       "    <tr style=\"text-align: right;\">\n",
       "      <th></th>\n",
       "      <th>checkingstatus</th>\n",
       "      <th>duration</th>\n",
       "      <th>history</th>\n",
       "      <th>purpose</th>\n",
       "      <th>amount</th>\n",
       "      <th>savings</th>\n",
       "      <th>employ</th>\n",
       "      <th>installment</th>\n",
       "      <th>status</th>\n",
       "      <th>cosigners</th>\n",
       "      <th>...</th>\n",
       "      <th>collateral</th>\n",
       "      <th>age</th>\n",
       "      <th>otherplans</th>\n",
       "      <th>housing</th>\n",
       "      <th>existing</th>\n",
       "      <th>job</th>\n",
       "      <th>no</th>\n",
       "      <th>telephone</th>\n",
       "      <th>foreign</th>\n",
       "      <th>default</th>\n",
       "    </tr>\n",
       "  </thead>\n",
       "  <tbody>\n",
       "    <tr>\n",
       "      <th>0</th>\n",
       "      <td>A11</td>\n",
       "      <td>6</td>\n",
       "      <td>A34</td>\n",
       "      <td>A43</td>\n",
       "      <td>1169</td>\n",
       "      <td>A65</td>\n",
       "      <td>A75</td>\n",
       "      <td>4</td>\n",
       "      <td>A93</td>\n",
       "      <td>A101</td>\n",
       "      <td>...</td>\n",
       "      <td>A121</td>\n",
       "      <td>67</td>\n",
       "      <td>A143</td>\n",
       "      <td>A152</td>\n",
       "      <td>2</td>\n",
       "      <td>A173</td>\n",
       "      <td>1</td>\n",
       "      <td>A192</td>\n",
       "      <td>A201</td>\n",
       "      <td>1</td>\n",
       "    </tr>\n",
       "    <tr>\n",
       "      <th>1</th>\n",
       "      <td>A12</td>\n",
       "      <td>48</td>\n",
       "      <td>A32</td>\n",
       "      <td>A43</td>\n",
       "      <td>5951</td>\n",
       "      <td>A61</td>\n",
       "      <td>A73</td>\n",
       "      <td>2</td>\n",
       "      <td>A92</td>\n",
       "      <td>A101</td>\n",
       "      <td>...</td>\n",
       "      <td>A121</td>\n",
       "      <td>22</td>\n",
       "      <td>A143</td>\n",
       "      <td>A152</td>\n",
       "      <td>1</td>\n",
       "      <td>A173</td>\n",
       "      <td>1</td>\n",
       "      <td>A191</td>\n",
       "      <td>A201</td>\n",
       "      <td>2</td>\n",
       "    </tr>\n",
       "    <tr>\n",
       "      <th>2</th>\n",
       "      <td>A14</td>\n",
       "      <td>12</td>\n",
       "      <td>A34</td>\n",
       "      <td>A46</td>\n",
       "      <td>2096</td>\n",
       "      <td>A61</td>\n",
       "      <td>A74</td>\n",
       "      <td>2</td>\n",
       "      <td>A93</td>\n",
       "      <td>A101</td>\n",
       "      <td>...</td>\n",
       "      <td>A121</td>\n",
       "      <td>49</td>\n",
       "      <td>A143</td>\n",
       "      <td>A152</td>\n",
       "      <td>1</td>\n",
       "      <td>A172</td>\n",
       "      <td>2</td>\n",
       "      <td>A191</td>\n",
       "      <td>A201</td>\n",
       "      <td>1</td>\n",
       "    </tr>\n",
       "    <tr>\n",
       "      <th>3</th>\n",
       "      <td>A11</td>\n",
       "      <td>42</td>\n",
       "      <td>A32</td>\n",
       "      <td>A42</td>\n",
       "      <td>7882</td>\n",
       "      <td>A61</td>\n",
       "      <td>A74</td>\n",
       "      <td>2</td>\n",
       "      <td>A93</td>\n",
       "      <td>A103</td>\n",
       "      <td>...</td>\n",
       "      <td>A122</td>\n",
       "      <td>45</td>\n",
       "      <td>A143</td>\n",
       "      <td>A153</td>\n",
       "      <td>1</td>\n",
       "      <td>A173</td>\n",
       "      <td>2</td>\n",
       "      <td>A191</td>\n",
       "      <td>A201</td>\n",
       "      <td>1</td>\n",
       "    </tr>\n",
       "    <tr>\n",
       "      <th>4</th>\n",
       "      <td>A11</td>\n",
       "      <td>24</td>\n",
       "      <td>A33</td>\n",
       "      <td>A40</td>\n",
       "      <td>4870</td>\n",
       "      <td>A61</td>\n",
       "      <td>A73</td>\n",
       "      <td>3</td>\n",
       "      <td>A93</td>\n",
       "      <td>A101</td>\n",
       "      <td>...</td>\n",
       "      <td>A124</td>\n",
       "      <td>53</td>\n",
       "      <td>A143</td>\n",
       "      <td>A153</td>\n",
       "      <td>2</td>\n",
       "      <td>A173</td>\n",
       "      <td>2</td>\n",
       "      <td>A191</td>\n",
       "      <td>A201</td>\n",
       "      <td>2</td>\n",
       "    </tr>\n",
       "    <tr>\n",
       "      <th>5</th>\n",
       "      <td>A14</td>\n",
       "      <td>36</td>\n",
       "      <td>A32</td>\n",
       "      <td>A46</td>\n",
       "      <td>9055</td>\n",
       "      <td>A65</td>\n",
       "      <td>A73</td>\n",
       "      <td>2</td>\n",
       "      <td>A93</td>\n",
       "      <td>A101</td>\n",
       "      <td>...</td>\n",
       "      <td>A124</td>\n",
       "      <td>35</td>\n",
       "      <td>A143</td>\n",
       "      <td>A153</td>\n",
       "      <td>1</td>\n",
       "      <td>A172</td>\n",
       "      <td>2</td>\n",
       "      <td>A192</td>\n",
       "      <td>A201</td>\n",
       "      <td>1</td>\n",
       "    </tr>\n",
       "    <tr>\n",
       "      <th>6</th>\n",
       "      <td>A14</td>\n",
       "      <td>24</td>\n",
       "      <td>A32</td>\n",
       "      <td>A42</td>\n",
       "      <td>2835</td>\n",
       "      <td>A63</td>\n",
       "      <td>A75</td>\n",
       "      <td>3</td>\n",
       "      <td>A93</td>\n",
       "      <td>A101</td>\n",
       "      <td>...</td>\n",
       "      <td>A122</td>\n",
       "      <td>53</td>\n",
       "      <td>A143</td>\n",
       "      <td>A152</td>\n",
       "      <td>1</td>\n",
       "      <td>A173</td>\n",
       "      <td>1</td>\n",
       "      <td>A191</td>\n",
       "      <td>A201</td>\n",
       "      <td>1</td>\n",
       "    </tr>\n",
       "    <tr>\n",
       "      <th>7</th>\n",
       "      <td>A12</td>\n",
       "      <td>36</td>\n",
       "      <td>A32</td>\n",
       "      <td>A41</td>\n",
       "      <td>6948</td>\n",
       "      <td>A61</td>\n",
       "      <td>A73</td>\n",
       "      <td>2</td>\n",
       "      <td>A93</td>\n",
       "      <td>A101</td>\n",
       "      <td>...</td>\n",
       "      <td>A123</td>\n",
       "      <td>35</td>\n",
       "      <td>A143</td>\n",
       "      <td>A151</td>\n",
       "      <td>1</td>\n",
       "      <td>A174</td>\n",
       "      <td>1</td>\n",
       "      <td>A192</td>\n",
       "      <td>A201</td>\n",
       "      <td>1</td>\n",
       "    </tr>\n",
       "    <tr>\n",
       "      <th>8</th>\n",
       "      <td>A14</td>\n",
       "      <td>12</td>\n",
       "      <td>A32</td>\n",
       "      <td>A43</td>\n",
       "      <td>3059</td>\n",
       "      <td>A64</td>\n",
       "      <td>A74</td>\n",
       "      <td>2</td>\n",
       "      <td>A91</td>\n",
       "      <td>A101</td>\n",
       "      <td>...</td>\n",
       "      <td>A121</td>\n",
       "      <td>61</td>\n",
       "      <td>A143</td>\n",
       "      <td>A152</td>\n",
       "      <td>1</td>\n",
       "      <td>A172</td>\n",
       "      <td>1</td>\n",
       "      <td>A191</td>\n",
       "      <td>A201</td>\n",
       "      <td>1</td>\n",
       "    </tr>\n",
       "    <tr>\n",
       "      <th>9</th>\n",
       "      <td>A12</td>\n",
       "      <td>30</td>\n",
       "      <td>A34</td>\n",
       "      <td>A40</td>\n",
       "      <td>5234</td>\n",
       "      <td>A61</td>\n",
       "      <td>A71</td>\n",
       "      <td>4</td>\n",
       "      <td>A94</td>\n",
       "      <td>A101</td>\n",
       "      <td>...</td>\n",
       "      <td>A123</td>\n",
       "      <td>28</td>\n",
       "      <td>A143</td>\n",
       "      <td>A152</td>\n",
       "      <td>2</td>\n",
       "      <td>A174</td>\n",
       "      <td>1</td>\n",
       "      <td>A191</td>\n",
       "      <td>A201</td>\n",
       "      <td>2</td>\n",
       "    </tr>\n",
       "  </tbody>\n",
       "</table>\n",
       "<p>10 rows × 21 columns</p>\n",
       "</div>"
      ],
      "text/plain": [
       "  checkingstatus  duration history purpose  amount savings employ  \\\n",
       "0            A11         6     A34     A43    1169     A65    A75   \n",
       "1            A12        48     A32     A43    5951     A61    A73   \n",
       "2            A14        12     A34     A46    2096     A61    A74   \n",
       "3            A11        42     A32     A42    7882     A61    A74   \n",
       "4            A11        24     A33     A40    4870     A61    A73   \n",
       "5            A14        36     A32     A46    9055     A65    A73   \n",
       "6            A14        24     A32     A42    2835     A63    A75   \n",
       "7            A12        36     A32     A41    6948     A61    A73   \n",
       "8            A14        12     A32     A43    3059     A64    A74   \n",
       "9            A12        30     A34     A40    5234     A61    A71   \n",
       "\n",
       "   installment status cosigners   ...    collateral age  otherplans housing  \\\n",
       "0            4    A93      A101   ...          A121  67        A143    A152   \n",
       "1            2    A92      A101   ...          A121  22        A143    A152   \n",
       "2            2    A93      A101   ...          A121  49        A143    A152   \n",
       "3            2    A93      A103   ...          A122  45        A143    A153   \n",
       "4            3    A93      A101   ...          A124  53        A143    A153   \n",
       "5            2    A93      A101   ...          A124  35        A143    A153   \n",
       "6            3    A93      A101   ...          A122  53        A143    A152   \n",
       "7            2    A93      A101   ...          A123  35        A143    A151   \n",
       "8            2    A91      A101   ...          A121  61        A143    A152   \n",
       "9            4    A94      A101   ...          A123  28        A143    A152   \n",
       "\n",
       "  existing   job no  telephone foreign default  \n",
       "0        2  A173  1       A192    A201       1  \n",
       "1        1  A173  1       A191    A201       2  \n",
       "2        1  A172  2       A191    A201       1  \n",
       "3        1  A173  2       A191    A201       1  \n",
       "4        2  A173  2       A191    A201       2  \n",
       "5        1  A172  2       A192    A201       1  \n",
       "6        1  A173  1       A191    A201       1  \n",
       "7        1  A174  1       A192    A201       1  \n",
       "8        1  A172  1       A191    A201       1  \n",
       "9        2  A174  1       A191    A201       2  \n",
       "\n",
       "[10 rows x 21 columns]"
      ]
     },
     "execution_count": 403,
     "metadata": {},
     "output_type": "execute_result"
    }
   ],
   "source": [
    "credit.head(10)"
   ]
  },
  {
   "cell_type": "code",
   "execution_count": 404,
   "metadata": {
    "collapsed": true
   },
   "outputs": [],
   "source": [
    "import numpy as np\n",
    "from sklearn import preprocessing\n",
    "from sklearn import utils"
   ]
  },
  {
   "cell_type": "code",
   "execution_count": 405,
   "metadata": {
    "collapsed": true
   },
   "outputs": [],
   "source": [
    "#checkingstatus\n",
    "le = preprocessing.LabelEncoder()\n",
    "le.fit(credit.checkingstatus)\n",
    "le.classes_\n",
    "credit.checkingstatus = le.transform(credit.checkingstatus)\n",
    "\n",
    "#history\n",
    "le = preprocessing.LabelEncoder()\n",
    "le.fit(credit.history)\n",
    "le.classes_\n",
    "credit.history = le.transform(credit.history)\n",
    "\n",
    "#purpose\n",
    "le = preprocessing.LabelEncoder()\n",
    "le.fit(credit.purpose)\n",
    "le.classes_\n",
    "credit.purpose = le.transform(credit.purpose)\n",
    "\n",
    "#savings\n",
    "le = preprocessing.LabelEncoder()\n",
    "le.fit(credit.savings)\n",
    "le.classes_\n",
    "credit.savings = le.transform(credit.savings)\n",
    "\n",
    "#employ\n",
    "le = preprocessing.LabelEncoder()\n",
    "le.fit(credit.employ)\n",
    "le.classes_\n",
    "credit.employ = le.transform(credit.employ)\n",
    "\n",
    "#status\n",
    "le = preprocessing.LabelEncoder()\n",
    "le.fit(credit.status)\n",
    "le.classes_\n",
    "credit.status = le.transform(credit.status)\n",
    "\n",
    "#cosigners\n",
    "le = preprocessing.LabelEncoder()\n",
    "le.fit(credit.cosigners)\n",
    "le.classes_\n",
    "credit.cosigners = le.transform(credit.cosigners)\n",
    "\n",
    "#collateral\n",
    "le = preprocessing.LabelEncoder()\n",
    "le.fit(credit.collateral)\n",
    "le.classes_\n",
    "credit.collateral = le.transform(credit.collateral)\n",
    "\n",
    "#otherplans\n",
    "le = preprocessing.LabelEncoder()\n",
    "le.fit(credit.otherplans)\n",
    "le.classes_\n",
    "credit.otherplans = le.transform(credit.otherplans)\n",
    "\n",
    "#housing\n",
    "le = preprocessing.LabelEncoder()\n",
    "le.fit(credit.housing)\n",
    "le.classes_\n",
    "credit.housing = le.transform(credit.housing)\n",
    "\n",
    "#job\n",
    "le = preprocessing.LabelEncoder()\n",
    "le.fit(credit.job)\n",
    "le.classes_\n",
    "credit.job = le.transform(credit.job)\n",
    "\n",
    "#telephone\n",
    "le = preprocessing.LabelEncoder()\n",
    "le.fit(credit.telephone)\n",
    "le.classes_\n",
    "credit.telephone = le.transform(credit.telephone)\n",
    "\n",
    "#foreign\n",
    "le = preprocessing.LabelEncoder()\n",
    "le.fit(credit.foreign)\n",
    "le.classes_\n",
    "credit.foreign = le.transform(credit.foreign)\n"
   ]
  },
  {
   "cell_type": "code",
   "execution_count": 406,
   "metadata": {},
   "outputs": [
    {
     "data": {
      "text/html": [
       "<div>\n",
       "<style>\n",
       "    .dataframe thead tr:only-child th {\n",
       "        text-align: right;\n",
       "    }\n",
       "\n",
       "    .dataframe thead th {\n",
       "        text-align: left;\n",
       "    }\n",
       "\n",
       "    .dataframe tbody tr th {\n",
       "        vertical-align: top;\n",
       "    }\n",
       "</style>\n",
       "<table border=\"1\" class=\"dataframe\">\n",
       "  <thead>\n",
       "    <tr style=\"text-align: right;\">\n",
       "      <th></th>\n",
       "      <th>checkingstatus</th>\n",
       "      <th>duration</th>\n",
       "      <th>history</th>\n",
       "      <th>purpose</th>\n",
       "      <th>amount</th>\n",
       "      <th>savings</th>\n",
       "      <th>employ</th>\n",
       "      <th>installment</th>\n",
       "      <th>status</th>\n",
       "      <th>cosigners</th>\n",
       "      <th>...</th>\n",
       "      <th>collateral</th>\n",
       "      <th>age</th>\n",
       "      <th>otherplans</th>\n",
       "      <th>housing</th>\n",
       "      <th>existing</th>\n",
       "      <th>job</th>\n",
       "      <th>no</th>\n",
       "      <th>telephone</th>\n",
       "      <th>foreign</th>\n",
       "      <th>default</th>\n",
       "    </tr>\n",
       "  </thead>\n",
       "  <tbody>\n",
       "    <tr>\n",
       "      <th>0</th>\n",
       "      <td>0</td>\n",
       "      <td>6</td>\n",
       "      <td>4</td>\n",
       "      <td>4</td>\n",
       "      <td>1169</td>\n",
       "      <td>4</td>\n",
       "      <td>4</td>\n",
       "      <td>4</td>\n",
       "      <td>2</td>\n",
       "      <td>0</td>\n",
       "      <td>...</td>\n",
       "      <td>0</td>\n",
       "      <td>67</td>\n",
       "      <td>2</td>\n",
       "      <td>1</td>\n",
       "      <td>2</td>\n",
       "      <td>2</td>\n",
       "      <td>1</td>\n",
       "      <td>1</td>\n",
       "      <td>0</td>\n",
       "      <td>1</td>\n",
       "    </tr>\n",
       "    <tr>\n",
       "      <th>1</th>\n",
       "      <td>1</td>\n",
       "      <td>48</td>\n",
       "      <td>2</td>\n",
       "      <td>4</td>\n",
       "      <td>5951</td>\n",
       "      <td>0</td>\n",
       "      <td>2</td>\n",
       "      <td>2</td>\n",
       "      <td>1</td>\n",
       "      <td>0</td>\n",
       "      <td>...</td>\n",
       "      <td>0</td>\n",
       "      <td>22</td>\n",
       "      <td>2</td>\n",
       "      <td>1</td>\n",
       "      <td>1</td>\n",
       "      <td>2</td>\n",
       "      <td>1</td>\n",
       "      <td>0</td>\n",
       "      <td>0</td>\n",
       "      <td>2</td>\n",
       "    </tr>\n",
       "    <tr>\n",
       "      <th>2</th>\n",
       "      <td>3</td>\n",
       "      <td>12</td>\n",
       "      <td>4</td>\n",
       "      <td>7</td>\n",
       "      <td>2096</td>\n",
       "      <td>0</td>\n",
       "      <td>3</td>\n",
       "      <td>2</td>\n",
       "      <td>2</td>\n",
       "      <td>0</td>\n",
       "      <td>...</td>\n",
       "      <td>0</td>\n",
       "      <td>49</td>\n",
       "      <td>2</td>\n",
       "      <td>1</td>\n",
       "      <td>1</td>\n",
       "      <td>1</td>\n",
       "      <td>2</td>\n",
       "      <td>0</td>\n",
       "      <td>0</td>\n",
       "      <td>1</td>\n",
       "    </tr>\n",
       "    <tr>\n",
       "      <th>3</th>\n",
       "      <td>0</td>\n",
       "      <td>42</td>\n",
       "      <td>2</td>\n",
       "      <td>3</td>\n",
       "      <td>7882</td>\n",
       "      <td>0</td>\n",
       "      <td>3</td>\n",
       "      <td>2</td>\n",
       "      <td>2</td>\n",
       "      <td>2</td>\n",
       "      <td>...</td>\n",
       "      <td>1</td>\n",
       "      <td>45</td>\n",
       "      <td>2</td>\n",
       "      <td>2</td>\n",
       "      <td>1</td>\n",
       "      <td>2</td>\n",
       "      <td>2</td>\n",
       "      <td>0</td>\n",
       "      <td>0</td>\n",
       "      <td>1</td>\n",
       "    </tr>\n",
       "    <tr>\n",
       "      <th>4</th>\n",
       "      <td>0</td>\n",
       "      <td>24</td>\n",
       "      <td>3</td>\n",
       "      <td>0</td>\n",
       "      <td>4870</td>\n",
       "      <td>0</td>\n",
       "      <td>2</td>\n",
       "      <td>3</td>\n",
       "      <td>2</td>\n",
       "      <td>0</td>\n",
       "      <td>...</td>\n",
       "      <td>3</td>\n",
       "      <td>53</td>\n",
       "      <td>2</td>\n",
       "      <td>2</td>\n",
       "      <td>2</td>\n",
       "      <td>2</td>\n",
       "      <td>2</td>\n",
       "      <td>0</td>\n",
       "      <td>0</td>\n",
       "      <td>2</td>\n",
       "    </tr>\n",
       "    <tr>\n",
       "      <th>5</th>\n",
       "      <td>3</td>\n",
       "      <td>36</td>\n",
       "      <td>2</td>\n",
       "      <td>7</td>\n",
       "      <td>9055</td>\n",
       "      <td>4</td>\n",
       "      <td>2</td>\n",
       "      <td>2</td>\n",
       "      <td>2</td>\n",
       "      <td>0</td>\n",
       "      <td>...</td>\n",
       "      <td>3</td>\n",
       "      <td>35</td>\n",
       "      <td>2</td>\n",
       "      <td>2</td>\n",
       "      <td>1</td>\n",
       "      <td>1</td>\n",
       "      <td>2</td>\n",
       "      <td>1</td>\n",
       "      <td>0</td>\n",
       "      <td>1</td>\n",
       "    </tr>\n",
       "    <tr>\n",
       "      <th>6</th>\n",
       "      <td>3</td>\n",
       "      <td>24</td>\n",
       "      <td>2</td>\n",
       "      <td>3</td>\n",
       "      <td>2835</td>\n",
       "      <td>2</td>\n",
       "      <td>4</td>\n",
       "      <td>3</td>\n",
       "      <td>2</td>\n",
       "      <td>0</td>\n",
       "      <td>...</td>\n",
       "      <td>1</td>\n",
       "      <td>53</td>\n",
       "      <td>2</td>\n",
       "      <td>1</td>\n",
       "      <td>1</td>\n",
       "      <td>2</td>\n",
       "      <td>1</td>\n",
       "      <td>0</td>\n",
       "      <td>0</td>\n",
       "      <td>1</td>\n",
       "    </tr>\n",
       "    <tr>\n",
       "      <th>7</th>\n",
       "      <td>1</td>\n",
       "      <td>36</td>\n",
       "      <td>2</td>\n",
       "      <td>1</td>\n",
       "      <td>6948</td>\n",
       "      <td>0</td>\n",
       "      <td>2</td>\n",
       "      <td>2</td>\n",
       "      <td>2</td>\n",
       "      <td>0</td>\n",
       "      <td>...</td>\n",
       "      <td>2</td>\n",
       "      <td>35</td>\n",
       "      <td>2</td>\n",
       "      <td>0</td>\n",
       "      <td>1</td>\n",
       "      <td>3</td>\n",
       "      <td>1</td>\n",
       "      <td>1</td>\n",
       "      <td>0</td>\n",
       "      <td>1</td>\n",
       "    </tr>\n",
       "    <tr>\n",
       "      <th>8</th>\n",
       "      <td>3</td>\n",
       "      <td>12</td>\n",
       "      <td>2</td>\n",
       "      <td>4</td>\n",
       "      <td>3059</td>\n",
       "      <td>3</td>\n",
       "      <td>3</td>\n",
       "      <td>2</td>\n",
       "      <td>0</td>\n",
       "      <td>0</td>\n",
       "      <td>...</td>\n",
       "      <td>0</td>\n",
       "      <td>61</td>\n",
       "      <td>2</td>\n",
       "      <td>1</td>\n",
       "      <td>1</td>\n",
       "      <td>1</td>\n",
       "      <td>1</td>\n",
       "      <td>0</td>\n",
       "      <td>0</td>\n",
       "      <td>1</td>\n",
       "    </tr>\n",
       "    <tr>\n",
       "      <th>9</th>\n",
       "      <td>1</td>\n",
       "      <td>30</td>\n",
       "      <td>4</td>\n",
       "      <td>0</td>\n",
       "      <td>5234</td>\n",
       "      <td>0</td>\n",
       "      <td>0</td>\n",
       "      <td>4</td>\n",
       "      <td>3</td>\n",
       "      <td>0</td>\n",
       "      <td>...</td>\n",
       "      <td>2</td>\n",
       "      <td>28</td>\n",
       "      <td>2</td>\n",
       "      <td>1</td>\n",
       "      <td>2</td>\n",
       "      <td>3</td>\n",
       "      <td>1</td>\n",
       "      <td>0</td>\n",
       "      <td>0</td>\n",
       "      <td>2</td>\n",
       "    </tr>\n",
       "  </tbody>\n",
       "</table>\n",
       "<p>10 rows × 21 columns</p>\n",
       "</div>"
      ],
      "text/plain": [
       "   checkingstatus  duration  history  purpose  amount  savings  employ  \\\n",
       "0               0         6        4        4    1169        4       4   \n",
       "1               1        48        2        4    5951        0       2   \n",
       "2               3        12        4        7    2096        0       3   \n",
       "3               0        42        2        3    7882        0       3   \n",
       "4               0        24        3        0    4870        0       2   \n",
       "5               3        36        2        7    9055        4       2   \n",
       "6               3        24        2        3    2835        2       4   \n",
       "7               1        36        2        1    6948        0       2   \n",
       "8               3        12        2        4    3059        3       3   \n",
       "9               1        30        4        0    5234        0       0   \n",
       "\n",
       "   installment  status  cosigners   ...     collateral  age  otherplans  \\\n",
       "0            4       2          0   ...              0   67           2   \n",
       "1            2       1          0   ...              0   22           2   \n",
       "2            2       2          0   ...              0   49           2   \n",
       "3            2       2          2   ...              1   45           2   \n",
       "4            3       2          0   ...              3   53           2   \n",
       "5            2       2          0   ...              3   35           2   \n",
       "6            3       2          0   ...              1   53           2   \n",
       "7            2       2          0   ...              2   35           2   \n",
       "8            2       0          0   ...              0   61           2   \n",
       "9            4       3          0   ...              2   28           2   \n",
       "\n",
       "   housing  existing  job  no  telephone  foreign  default  \n",
       "0        1         2    2   1          1        0        1  \n",
       "1        1         1    2   1          0        0        2  \n",
       "2        1         1    1   2          0        0        1  \n",
       "3        2         1    2   2          0        0        1  \n",
       "4        2         2    2   2          0        0        2  \n",
       "5        2         1    1   2          1        0        1  \n",
       "6        1         1    2   1          0        0        1  \n",
       "7        0         1    3   1          1        0        1  \n",
       "8        1         1    1   1          0        0        1  \n",
       "9        1         2    3   1          0        0        2  \n",
       "\n",
       "[10 rows x 21 columns]"
      ]
     },
     "execution_count": 406,
     "metadata": {},
     "output_type": "execute_result"
    }
   ],
   "source": [
    "credit.head(10)"
   ]
  },
  {
   "cell_type": "code",
   "execution_count": 407,
   "metadata": {},
   "outputs": [],
   "source": [
    "from sklearn.preprocessing import normalize\n",
    "\n",
    "X = normalize(credit.drop('default', axis= 1))\n",
    "y = credit.default"
   ]
  },
  {
   "cell_type": "code",
   "execution_count": 408,
   "metadata": {},
   "outputs": [
    {
     "name": "stdout",
     "output_type": "stream",
     "text": [
      "multiclass-multioutput\n"
     ]
    }
   ],
   "source": [
    "print(utils.multiclass.type_of_target(credit))"
   ]
  },
  {
   "cell_type": "code",
   "execution_count": 409,
   "metadata": {
    "collapsed": true
   },
   "outputs": [],
   "source": [
    "from sklearn.model_selection import train_test_split\n",
    "X_train, X_test, y_train, y_test = train_test_split(X, y, test_size = 0.25,  random_state=42)"
   ]
  },
  {
   "cell_type": "code",
   "execution_count": 410,
   "metadata": {},
   "outputs": [
    {
     "name": "stdout",
     "output_type": "stream",
     "text": [
      "X train shape: (750, 20)\n",
      "X test shape: (250, 20)\n",
      "y train shape: (750,)\n",
      "y test shape: (250,)\n"
     ]
    }
   ],
   "source": [
    "print('X train shape:', X_train.shape)\n",
    "print('X test shape:', X_test.shape)\n",
    "print('y train shape:', y_train.shape)\n",
    "print('y test shape:', y_test.shape)"
   ]
  },
  {
   "cell_type": "markdown",
   "metadata": {},
   "source": [
    "앙상블(Ensemble)\n",
    "--\n",
    "\n",
    "* 배깅(Bagging)\n"
   ]
  },
  {
   "cell_type": "code",
   "execution_count": 411,
   "metadata": {
    "collapsed": true
   },
   "outputs": [],
   "source": [
    "from sklearn import datasets\n",
    "from sklearn.ensemble import RandomForestClassifier\n",
    "from sklearn.metrics import accuracy_score\n",
    "import numpy as np\n",
    "import pandas as pd\n",
    "from sklearn.metrics import classification_report\n",
    "from sklearn.metrics import confusion_matrix\n",
    "from sklearn.metrics import accuracy_score"
   ]
  },
  {
   "cell_type": "code",
   "execution_count": 412,
   "metadata": {},
   "outputs": [
    {
     "data": {
      "text/plain": [
       "RandomForestClassifier(bootstrap=True, class_weight=None, criterion='gini',\n",
       "            max_depth=None, max_features=None, max_leaf_nodes=None,\n",
       "            min_impurity_split=1e-07, min_samples_leaf=1,\n",
       "            min_samples_split=2, min_weight_fraction_leaf=0.0,\n",
       "            n_estimators=10, n_jobs=1, oob_score=False, random_state=42,\n",
       "            verbose=0, warm_start=False)"
      ]
     },
     "execution_count": 412,
     "metadata": {},
     "output_type": "execute_result"
    }
   ],
   "source": [
    "clf_bagging = RandomForestClassifier(n_estimators = 10, max_features = None, random_state = 42)\n",
    "clf_bagging.fit(X_train, y_train)"
   ]
  },
  {
   "cell_type": "code",
   "execution_count": 413,
   "metadata": {},
   "outputs": [
    {
     "name": "stdout",
     "output_type": "stream",
     "text": [
      "[1 1 2 1 1 1 1 1 1 1 1 1 1 2 2 1 1 1 1 1 1 1 1 1 1 2 1 2 1 1 1 1 1 1 1 1 1\n",
      " 1 1 2 1 1 1 1 1 1 2 1 1 1 2 1 2 2 2 1 1 2 1 1 1 2 2 1 1 1 1 1 1 1 1 1 1 1\n",
      " 1 1 1 1 1 2 1 1 1 1 1 1 2 2 1 1 1 1 2 2 1 1 1 1 2 2 1 1 1 1 1 1 1 1 1 2 2\n",
      " 1 1 1 1 1 1 1 1 1 1 1 1 1 2 2 1 1 1 1 1 1 1 1 1 2 1 1 1 1 2 1 1 1 1 2 1 1\n",
      " 1 2 1 1 1 2 1 1 1 1 2 1 1 1 2 2 1 1 1 1 1 1 1 1 1 1 1 1 1 1 2 2 1 1 1 1 1\n",
      " 1 1 1 1 1 1 2 1 1 1 1 1 1 1 2 2 1 1 2 1 2 1 2 1 1 1 2 2 1 1 1 1 1 1 1 1 1\n",
      " 1 1 2 1 1 1 1 1 1 1 1 1 2 1 1 1 1 1 2 1 1 1 1 1 1 1 1 2]\n"
     ]
    }
   ],
   "source": [
    "clf_bagging_pred= clf_bagging.predict(X_test)\n",
    "print(clf_bagging_pred)"
   ]
  },
  {
   "cell_type": "code",
   "execution_count": 414,
   "metadata": {},
   "outputs": [
    {
     "data": {
      "text/plain": [
       "521    2\n",
       "737    1\n",
       "740    1\n",
       "660    1\n",
       "411    1\n",
       "Name: default, dtype: int64"
      ]
     },
     "execution_count": 414,
     "metadata": {},
     "output_type": "execute_result"
    }
   ],
   "source": [
    "y_test.head()"
   ]
  },
  {
   "cell_type": "code",
   "execution_count": 415,
   "metadata": {},
   "outputs": [
    {
     "name": "stdout",
     "output_type": "stream",
     "text": [
      "521    False\n",
      "737     True\n",
      "740    False\n",
      "660     True\n",
      "411     True\n",
      "678     True\n",
      "626     True\n",
      "513     True\n",
      "859     True\n",
      "136     True\n",
      "811     True\n",
      "76     False\n",
      "636     True\n",
      "973     True\n",
      "938     True\n",
      "899    False\n",
      "280     True\n",
      "883     True\n",
      "761    False\n",
      "319     True\n",
      "549     True\n",
      "174    False\n",
      "371     True\n",
      "527     True\n",
      "210     True\n",
      "235     True\n",
      "101     True\n",
      "986    False\n",
      "902     True\n",
      "947     True\n",
      "       ...  \n",
      "305     True\n",
      "734     True\n",
      "975     True\n",
      "49      True\n",
      "896    False\n",
      "2       True\n",
      "544     True\n",
      "350     True\n",
      "904     True\n",
      "536     True\n",
      "344     True\n",
      "994     True\n",
      "481     True\n",
      "575     True\n",
      "33     False\n",
      "31      True\n",
      "231     True\n",
      "963    False\n",
      "192    False\n",
      "333    False\n",
      "3      False\n",
      "204     True\n",
      "514     True\n",
      "799     True\n",
      "306     True\n",
      "109     True\n",
      "430     True\n",
      "77      True\n",
      "84      True\n",
      "286    False\n",
      "Name: default, Length: 250, dtype: bool\n"
     ]
    }
   ],
   "source": [
    "print(y_test==clf_bagging_pred)"
   ]
  },
  {
   "cell_type": "code",
   "execution_count": 416,
   "metadata": {},
   "outputs": [
    {
     "data": {
      "text/plain": [
       "array([1, 1, 2, 1, 1, 1, 1, 1, 1, 1, 1, 1, 1, 2, 2, 1, 1, 1, 1, 1, 1, 1, 1,\n",
       "       1, 1, 2, 1, 2, 1, 1, 1, 1, 1, 1, 1, 1, 1, 1, 1, 2, 1, 1, 1, 1, 1, 1,\n",
       "       2, 1, 1, 1, 2, 1, 2, 2, 2, 1, 1, 2, 1, 1, 1, 2, 2, 1, 1, 1, 1, 1, 1,\n",
       "       1, 1, 1, 1, 1, 1, 1, 1, 1, 1, 2, 1, 1, 1, 1, 1, 1, 2, 2, 1, 1, 1, 1,\n",
       "       2, 2, 1, 1, 1, 1, 2, 2, 1, 1, 1, 1, 1, 1, 1, 1, 1, 2, 2, 1, 1, 1, 1,\n",
       "       1, 1, 1, 1, 1, 1, 1, 1, 1, 2, 2, 1, 1, 1, 1, 1, 1, 1, 1, 1, 2, 1, 1,\n",
       "       1, 1, 2, 1, 1, 1, 1, 2, 1, 1, 1, 2, 1, 1, 1, 2, 1, 1, 1, 1, 2, 1, 1,\n",
       "       1, 2, 2, 1, 1, 1, 1, 1, 1, 1, 1, 1, 1, 1, 1, 1, 1, 2, 2, 1, 1, 1, 1,\n",
       "       1, 1, 1, 1, 1, 1, 1, 2, 1, 1, 1, 1, 1, 1, 1, 2, 2, 1, 1, 2, 1, 2, 1,\n",
       "       2, 1, 1, 1, 2, 2, 1, 1, 1, 1, 1, 1, 1, 1, 1, 1, 1, 2, 1, 1, 1, 1, 1,\n",
       "       1, 1, 1, 1, 2, 1, 1, 1, 1, 1, 2, 1, 1, 1, 1, 1, 1, 1, 1, 2], dtype=int64)"
      ]
     },
     "execution_count": 416,
     "metadata": {},
     "output_type": "execute_result"
    }
   ],
   "source": [
    "clf_bagging_pred"
   ]
  },
  {
   "cell_type": "code",
   "execution_count": 417,
   "metadata": {},
   "outputs": [
    {
     "name": "stdout",
     "output_type": "stream",
     "text": [
      "Confusion matrix(checkingstatus):\n",
      "[[162  16]\n",
      " [ 41  31]]\n"
     ]
    }
   ],
   "source": [
    "print('Confusion matrix(checkingstatus):')\n",
    "print(confusion_matrix(y_test, clf_bagging_pred))"
   ]
  },
  {
   "cell_type": "code",
   "execution_count": 418,
   "metadata": {},
   "outputs": [
    {
     "name": "stdout",
     "output_type": "stream",
     "text": [
      "Accuracy\n",
      "0.77\n"
     ]
    }
   ],
   "source": [
    "accuracy = round(accuracy_score(y_test, clf_bagging_pred, normalize = True),2)\n",
    "print('Accuracy')\n",
    "print(accuracy)"
   ]
  },
  {
   "cell_type": "code",
   "execution_count": 419,
   "metadata": {},
   "outputs": [
    {
     "name": "stdout",
     "output_type": "stream",
     "text": [
      "classification report:\n",
      "             precision    recall  f1-score   support\n",
      "\n",
      "          1       0.80      0.91      0.85       178\n",
      "          2       0.66      0.43      0.52        72\n",
      "\n",
      "avg / total       0.76      0.77      0.76       250\n",
      "\n"
     ]
    }
   ],
   "source": [
    "print('classification report:')\n",
    "print(classification_report(y_test, clf_bagging_pred))"
   ]
  },
  {
   "cell_type": "code",
   "execution_count": 420,
   "metadata": {},
   "outputs": [
    {
     "name": "stdout",
     "output_type": "stream",
     "text": [
      "[ 0.14578627  0.09062999  0.11759223  0.04695373  0.03970535  0.03575152\n",
      "  0.06209498  0.0506468   0.05897999  0.01856062  0.03535609  0.0706366\n",
      "  0.03601341  0.03232293  0.0361867   0.03224696  0.0374683   0.0220996\n",
      "  0.02856602  0.00240189]\n",
      "\n",
      "[ 0.00240189  0.01856062  0.0220996   0.02856602  0.03224696  0.03232293\n",
      "  0.03535609  0.03575152  0.03601341  0.0361867   0.0374683   0.03970535\n",
      "  0.04695373  0.0506468   0.05897999  0.06209498  0.0706366   0.09062999\n",
      "  0.11759223  0.14578627]\n",
      "\n",
      "[19  9 17 18 15 13 10  5 12 14 16  4  3  7  8  6 11  1  2  0]\n",
      "\n",
      "20\n",
      "\n",
      "[]\n",
      "\n",
      "[ 0.00240189  0.01856062  0.0220996   0.02856602  0.03224696  0.03232293\n",
      "  0.03535609  0.03575152  0.03601341  0.0361867   0.0374683   0.03970535\n",
      "  0.04695373  0.0506468   0.05897999  0.06209498  0.0706366   0.09062999\n",
      "  0.11759223  0.14578627]\n"
     ]
    }
   ],
   "source": [
    "importance = clf_bagging.feature_importances_\n",
    "importance1 = importance\n",
    "imp_sort = np.sort(importance1)\n",
    "indices = np.argsort(importance1)\n",
    "print(importance)\n",
    "print()\n",
    "print(imp_sort)\n",
    "print()\n",
    "print(indices)\n",
    "print()\n",
    "print(len(indices))\n",
    "print()\n",
    "print(indices[20:])\n",
    "print()\n",
    "print(importance[indices])"
   ]
  },
  {
   "cell_type": "code",
   "execution_count": 421,
   "metadata": {
    "collapsed": true
   },
   "outputs": [],
   "source": [
    "import matplotlib.pyplot as plt\n",
    "%matplotlib inline"
   ]
  },
  {
   "cell_type": "code",
   "execution_count": 422,
   "metadata": {},
   "outputs": [
    {
     "data": {
      "image/png": "[encoded data removed]",
      "text/plain": [
       "<matplotlib.figure.Figure at 0x16e9788d390>"
      ]
     },
     "metadata": {},
     "output_type": "display_data"
    }
   ],
   "source": [
    "indices = indices[:21]\n",
    "plt.figure(figsize=(10,6))\n",
    "plt.title('Feature Importances')\n",
    "plt.barh(range(len(indices)), importance[indices], color='b', align='center')\n",
    "plt.yticks(range(len(indices)), credit.index[indices])\n",
    "plt.xlabel('Relative Importance')\n",
    "plt.show()"
   ]
  },
  {
   "cell_type": "code",
   "execution_count": 423,
   "metadata": {},
   "outputs": [
    {
     "name": "stdout",
     "output_type": "stream",
     "text": [
      "checkingstatus 0.00240189294323\n",
      "duration 0.0185606244065\n",
      "history 0.0220995998844\n",
      "purpose 0.0285660241586\n",
      "amount 0.0322469647389\n",
      "savings 0.0323229315528\n",
      "employ 0.0353560922245\n",
      "installment 0.0357515154479\n",
      "status 0.0360134124921\n",
      "cosigners 0.0361867037772\n",
      "residence 0.0374683005655\n",
      "collateral 0.039705351642\n",
      "age 0.0469537319484\n",
      "otherplans 0.0506467959284\n",
      "housing 0.0589799850245\n",
      "existing 0.0620949839254\n",
      "job 0.0706366013709\n",
      "no 0.0906299896069\n",
      "telephone 0.117592228054\n",
      "foreign 0.145786270308\n"
     ]
    }
   ],
   "source": [
    "for feature, imp in zip(credit_index,imp_sort):\n",
    "    print(feature, imp)"
   ]
  },
  {
   "cell_type": "code",
   "execution_count": 424,
   "metadata": {
    "collapsed": true
   },
   "outputs": [],
   "source": [
    "X_train, X_test, y_train, y_test = train_test_split(X, y,random_state=42, test_size=0.2)"
   ]
  },
  {
   "cell_type": "code",
   "execution_count": 425,
   "metadata": {},
   "outputs": [
    {
     "data": {
      "text/plain": [
       "RandomForestClassifier(bootstrap=True, class_weight=None, criterion='gini',\n",
       "            max_depth=None, max_features=None, max_leaf_nodes=None,\n",
       "            min_impurity_split=1e-07, min_samples_leaf=1,\n",
       "            min_samples_split=2, min_weight_fraction_leaf=0.0,\n",
       "            n_estimators=10, n_jobs=1, oob_score=False, random_state=42,\n",
       "            verbose=0, warm_start=False)"
      ]
     },
     "execution_count": 425,
     "metadata": {},
     "output_type": "execute_result"
    }
   ],
   "source": [
    "clf_bagging_02 = RandomForestClassifier(n_estimators = 10, max_features = None, random_state = 42)\n",
    "clf_bagging_02.fit(X_train, y_train)"
   ]
  },
  {
   "cell_type": "code",
   "execution_count": 426,
   "metadata": {},
   "outputs": [
    {
     "name": "stdout",
     "output_type": "stream",
     "text": [
      "[1 1 2 1 1 2 1 1 1 1 1 2 1 2 2 1 1 1 1 1 1 1 1 1 1 2 1 2 1 1 1 1 1 1 1 1 1\n",
      " 1 1 1 2 1 1 1 1 1 2 1 1 1 2 1 2 1 1 1 1 2 2 1 1 1 1 1 1 1 1 2 2 1 1 1 1 1\n",
      " 1 1 1 1 1 2 1 1 1 1 1 2 2 2 1 1 1 1 2 2 1 1 1 1 2 1 1 1 1 1 1 1 1 1 1 2 2\n",
      " 1 1 1 2 2 2 1 1 1 1 1 1 1 2 2 2 1 1 1 1 1 1 1 1 1 2 1 1 1 2 2 1 1 1 2 1 1\n",
      " 2 2 1 1 1 2 1 1 1 1 1 1 1 1 1 1 1 1 1 1 1 1 1 2 1 1 1 1 1 1 1 1 1 1 1 1 1\n",
      " 1 1 1 1 1 1 1 2 1 1 1 2 2 1 1]\n"
     ]
    }
   ],
   "source": [
    "clf_bagging_02_pred= clf_bagging_02.predict(X_test)\n",
    "print(clf_bagging_02_pred)"
   ]
  },
  {
   "cell_type": "code",
   "execution_count": 427,
   "metadata": {},
   "outputs": [
    {
     "name": "stdout",
     "output_type": "stream",
     "text": [
      "Confusion matrix:\n",
      "[[127  14]\n",
      " [ 32  27]]\n"
     ]
    }
   ],
   "source": [
    "print('Confusion matrix:')\n",
    "print(confusion_matrix(y_test, clf_bagging_02_pred))"
   ]
  },
  {
   "cell_type": "code",
   "execution_count": 428,
   "metadata": {},
   "outputs": [
    {
     "name": "stdout",
     "output_type": "stream",
     "text": [
      "Accuracy\n",
      "0.77\n"
     ]
    }
   ],
   "source": [
    "accuracy = round(accuracy_score(y_test, clf_bagging_02_pred, normalize = True),2)\n",
    "print('Accuracy')\n",
    "print(accuracy)"
   ]
  },
  {
   "cell_type": "code",
   "execution_count": 429,
   "metadata": {},
   "outputs": [
    {
     "name": "stdout",
     "output_type": "stream",
     "text": [
      "classification report:\n",
      "             precision    recall  f1-score   support\n",
      "\n",
      "          1       0.80      0.90      0.85       141\n",
      "          2       0.66      0.46      0.54        59\n",
      "\n",
      "avg / total       0.76      0.77      0.76       200\n",
      "\n"
     ]
    }
   ],
   "source": [
    "print('classification report:')\n",
    "print(classification_report(y_test, clf_bagging_02_pred))"
   ]
  },
  {
   "cell_type": "code",
   "execution_count": 430,
   "metadata": {
    "collapsed": true
   },
   "outputs": [],
   "source": [
    "importance02 = clf_bagging_02.feature_importances_\n",
    "importance2 = importance02\n",
    "indices2 = np.argsort(importance2)"
   ]
  },
  {
   "cell_type": "code",
   "execution_count": 431,
   "metadata": {},
   "outputs": [
    {
     "data": {
      "image/png": "[encoded data removed]",
      "text/plain": [
       "<matplotlib.figure.Figure at 0x16e976eab70>"
      ]
     },
     "metadata": {},
     "output_type": "display_data"
    }
   ],
   "source": [
    "indices2 = indices2[:21]\n",
    "plt.figure(figsize=(10,6))\n",
    "plt.title('Feature Importances')\n",
    "plt.barh(range(len(indices2)), importance02[indices2], color='b', align='center')\n",
    "plt.yticks(range(len(indices2)), credit.index[indices2])\n",
    "plt.xlabel('Relative Importance')\n",
    "plt.show()"
   ]
  },
  {
   "cell_type": "code",
   "execution_count": 432,
   "metadata": {
    "collapsed": true
   },
   "outputs": [],
   "source": [
    "X_train, X_test, y_train, y_test = train_test_split(X, y,random_state=42)"
   ]
  },
  {
   "cell_type": "code",
   "execution_count": 433,
   "metadata": {},
   "outputs": [
    {
     "data": {
      "text/plain": [
       "RandomForestClassifier(bootstrap=True, class_weight=None, criterion='gini',\n",
       "            max_depth=None, max_features=None, max_leaf_nodes=None,\n",
       "            min_impurity_split=1e-07, min_samples_leaf=1,\n",
       "            min_samples_split=2, min_weight_fraction_leaf=0.0,\n",
       "            n_estimators=100, n_jobs=1, oob_score=False, random_state=42,\n",
       "            verbose=0, warm_start=False)"
      ]
     },
     "execution_count": 433,
     "metadata": {},
     "output_type": "execute_result"
    }
   ],
   "source": [
    "clf_bagging100 = RandomForestClassifier(n_estimators = 100, max_features = None, random_state = 42)\n",
    "clf_bagging100.fit(X_train, y_train)"
   ]
  },
  {
   "cell_type": "code",
   "execution_count": 434,
   "metadata": {
    "collapsed": true
   },
   "outputs": [],
   "source": [
    "clf_bagging100_pred= clf_bagging100.predict(X_test)"
   ]
  },
  {
   "cell_type": "code",
   "execution_count": 435,
   "metadata": {},
   "outputs": [
    {
     "name": "stdout",
     "output_type": "stream",
     "text": [
      "Confusion matrix:\n",
      "[[163  15]\n",
      " [ 37  35]]\n"
     ]
    }
   ],
   "source": [
    "print('Confusion matrix:')\n",
    "print(confusion_matrix(y_test, clf_bagging100_pred))"
   ]
  },
  {
   "cell_type": "code",
   "execution_count": 436,
   "metadata": {},
   "outputs": [
    {
     "name": "stdout",
     "output_type": "stream",
     "text": [
      "Accuracy\n",
      "0.79\n"
     ]
    }
   ],
   "source": [
    "accuracy = round(accuracy_score(y_test, clf_bagging100_pred, normalize = True),2)\n",
    "print('Accuracy')\n",
    "print(accuracy)"
   ]
  },
  {
   "cell_type": "code",
   "execution_count": 437,
   "metadata": {},
   "outputs": [
    {
     "name": "stdout",
     "output_type": "stream",
     "text": [
      "classification report:\n",
      "             precision    recall  f1-score   support\n",
      "\n",
      "          1       0.81      0.92      0.86       178\n",
      "          2       0.70      0.49      0.57        72\n",
      "\n",
      "avg / total       0.78      0.79      0.78       250\n",
      "\n"
     ]
    }
   ],
   "source": [
    "print('classification report:')\n",
    "print(classification_report(y_test, clf_bagging100_pred))"
   ]
  },
  {
   "cell_type": "code",
   "execution_count": 438,
   "metadata": {
    "scrolled": true
   },
   "outputs": [
    {
     "data": {
      "image/png": "[encoded data removed]",
      "text/plain": [
       "<matplotlib.figure.Figure at 0x16e95f8bf28>"
      ]
     },
     "metadata": {},
     "output_type": "display_data"
    }
   ],
   "source": [
    "importance100 = clf_bagging100.feature_importances_\n",
    "importance3 = importance100\n",
    "indices3 = np.argsort(importance3)\n",
    "indices3 = indices3[:21]\n",
    "plt.figure(figsize=(10,6))\n",
    "plt.title('Feature Importances')\n",
    "plt.barh(range(len(indices3)), importance100[indices3], color='b', align='center')\n",
    "plt.yticks(range(len(indices3)), credit.index[indices3])\n",
    "plt.xlabel('Relative Importance')\n",
    "plt.show()"
   ]
  },
  {
   "cell_type": "code",
   "execution_count": 439,
   "metadata": {},
   "outputs": [
    {
     "ename": "SyntaxError",
     "evalue": "invalid syntax (<ipython-input-439-fb4cdfe555ac>, line 10)",
     "output_type": "error",
     "traceback": [
      "\u001b[1;36m  File \u001b[1;32m\"<ipython-input-439-fb4cdfe555ac>\"\u001b[1;36m, line \u001b[1;32m10\u001b[0m\n\u001b[1;33m    bestparams_bagging.fit(X_train, y_train)cv, param_grid, cv = 5)\u001b[0m\n\u001b[1;37m                     ^\u001b[0m\n\u001b[1;31mSyntaxError\u001b[0m\u001b[1;31m:\u001b[0m invalid syntax\n"
     ]
    }
   ],
   "source": [
    "from sklearn.grid_search import GridSearchCV\n",
    "clf_bagging_cv = RandomForestClassifier(random_state = 10, max_features=None)\n",
    "param_grid = {'n_estimators': [10, 20, 30, 40, 50,100],\n",
    "              'max_depth': [1, 2, 3, 4]\n",
    "              }\n",
    "\n",
    "clf_grid = GridSearchCV(clf_bagging_bestparams_bagging = RandomForestClassifier(random_state= 42, max_features=None,\n",
    "                                             max_depth = clf_grid.best_params_['max_depth'],\n",
    "                                             n_estimators = clf_grid.best_params_['n_estimators'])\n",
    "bestparams_bagging.fit(X_train, y_train)cv, param_grid, cv = 5)\n",
    "clf_grid.fit(X_train, y_train)\n",
    "print('best params:', clf_grid.best_params_)\n",
    "print('best score:', clf_grid.best_score_)"
   ]
  },
  {
   "cell_type": "code",
   "execution_count": 440,
   "metadata": {},
   "outputs": [
    {
     "data": {
      "text/plain": [
       "RandomForestClassifier(bootstrap=True, class_weight=None, criterion='gini',\n",
       "            max_depth=4, max_features=None, max_leaf_nodes=None,\n",
       "            min_impurity_split=1e-07, min_samples_leaf=1,\n",
       "            min_samples_split=2, min_weight_fraction_leaf=0.0,\n",
       "            n_estimators=100, n_jobs=1, oob_score=False, random_state=42,\n",
       "            verbose=0, warm_start=False)"
      ]
     },
     "execution_count": 440,
     "metadata": {},
     "output_type": "execute_result"
    }
   ],
   "source": [
    "bestparams_bagging = RandomForestClassifier(random_state= 42, max_features=None,\n",
    "                                             max_depth = clf_grid.best_params_['max_depth'],\n",
    "                                             n_estimators = clf_grid.best_params_['n_estimators'])\n",
    "bestparams_bagging.fit(X_train, y_train)"
   ]
  },
  {
   "cell_type": "code",
   "execution_count": 441,
   "metadata": {
    "collapsed": true
   },
   "outputs": [],
   "source": [
    "bestparameter_bagging_pred= bestparams_bagging.predict(X_test)"
   ]
  },
  {
   "cell_type": "code",
   "execution_count": 442,
   "metadata": {},
   "outputs": [
    {
     "name": "stdout",
     "output_type": "stream",
     "text": [
      "Accuracy\n",
      "0.76\n"
     ]
    }
   ],
   "source": [
    "accuracy = round(accuracy_score(y_test, bestparameter_bagging_pred, normalize = True),2)\n",
    "print('Accuracy')\n",
    "print(accuracy)"
   ]
  },
  {
   "cell_type": "markdown",
   "metadata": {},
   "source": [
    "### Random Forest"
   ]
  },
  {
   "cell_type": "code",
   "execution_count": 443,
   "metadata": {},
   "outputs": [
    {
     "data": {
      "text/plain": [
       "RandomForestClassifier(bootstrap=True, class_weight=None, criterion='gini',\n",
       "            max_depth=None, max_features='sqrt', max_leaf_nodes=None,\n",
       "            min_impurity_split=1e-07, min_samples_leaf=1,\n",
       "            min_samples_split=2, min_weight_fraction_leaf=0.0,\n",
       "            n_estimators=10, n_jobs=1, oob_score=False, random_state=42,\n",
       "            verbose=0, warm_start=False)"
      ]
     },
     "execution_count": 443,
     "metadata": {},
     "output_type": "execute_result"
    }
   ],
   "source": [
    "clf_RFC = RandomForestClassifier(n_estimators = 10, max_features = 'sqrt', random_state = 42)\n",
    "clf_RFC.fit(X_train, y_train)"
   ]
  },
  {
   "cell_type": "code",
   "execution_count": 444,
   "metadata": {
    "collapsed": true
   },
   "outputs": [],
   "source": [
    "clf_RFC_pred= clf_RFC.predict(X_test)"
   ]
  },
  {
   "cell_type": "code",
   "execution_count": 445,
   "metadata": {},
   "outputs": [
    {
     "name": "stdout",
     "output_type": "stream",
     "text": [
      "Confusion matrix:\n",
      "[[166  12]\n",
      " [ 52  20]]\n"
     ]
    }
   ],
   "source": [
    "print('Confusion matrix:')\n",
    "print(confusion_matrix(y_test, clf_RFC_pred))"
   ]
  },
  {
   "cell_type": "code",
   "execution_count": 446,
   "metadata": {},
   "outputs": [
    {
     "name": "stdout",
     "output_type": "stream",
     "text": [
      "Accuracy\n",
      "0.74\n"
     ]
    }
   ],
   "source": [
    "accuracy = round(accuracy_score(y_test, clf_RFC_pred, normalize = True),2)\n",
    "print('Accuracy')\n",
    "print(accuracy)"
   ]
  },
  {
   "cell_type": "code",
   "execution_count": 447,
   "metadata": {},
   "outputs": [
    {
     "name": "stdout",
     "output_type": "stream",
     "text": [
      "classification report:\n",
      "             precision    recall  f1-score   support\n",
      "\n",
      "          1       0.76      0.93      0.84       178\n",
      "          2       0.62      0.28      0.38        72\n",
      "\n",
      "avg / total       0.72      0.74      0.71       250\n",
      "\n"
     ]
    }
   ],
   "source": [
    "print('classification report:')\n",
    "print(classification_report(y_test, clf_RFC_pred))"
   ]
  },
  {
   "cell_type": "code",
   "execution_count": 448,
   "metadata": {},
   "outputs": [
    {
     "data": {
      "image/png": "[encoded data removed]",
      "text/plain": [
       "<matplotlib.figure.Figure at 0x16e97a64908>"
      ]
     },
     "metadata": {},
     "output_type": "display_data"
    }
   ],
   "source": [
    "importanceRFC = clf_RFC.feature_importances_\n",
    "importance4 = importanceRFC\n",
    "indices4 = np.argsort(importance4)\n",
    "indices4 = indices4[:21]\n",
    "plt.figure(figsize=(10,6))\n",
    "plt.title('Feature Importances')\n",
    "plt.barh(range(len(indices4)), importanceRFC[indices4], color='b', align='center')\n",
    "plt.yticks(range(len(indices4)), credit.index[indices4])\n",
    "plt.xlabel('Relative Importance')\n",
    "plt.show()"
   ]
  },
  {
   "cell_type": "code",
   "execution_count": 449,
   "metadata": {},
   "outputs": [
    {
     "data": {
      "text/plain": [
       "Int64Index([19, 9, 18, 12, 3, 14, 10, 5, 17, 13, 16, 4, 8, 1, 15, 11, 6, 2, 7,\n",
       "            0],\n",
       "           dtype='int64')"
      ]
     },
     "execution_count": 449,
     "metadata": {},
     "output_type": "execute_result"
    }
   ],
   "source": [
    "credit.index[indices4]"
   ]
  },
  {
   "cell_type": "code",
   "execution_count": 450,
   "metadata": {},
   "outputs": [
    {
     "name": "stderr",
     "output_type": "stream",
     "text": [
      "C:\\ProgramData\\Anaconda3\\lib\\site-packages\\sklearn\\ensemble\\forest.py:439: UserWarning: Some inputs do not have OOB scores. This probably means too few trees were used to compute any reliable oob estimates.\n",
      "  warn(\"Some inputs do not have OOB scores. \"\n",
      "C:\\ProgramData\\Anaconda3\\lib\\site-packages\\sklearn\\ensemble\\forest.py:444: RuntimeWarning: invalid value encountered in true_divide\n",
      "  predictions[k].sum(axis=1)[:, np.newaxis])\n"
     ]
    },
    {
     "data": {
      "text/plain": [
       "RandomForestClassifier(bootstrap=True, class_weight=None, criterion='gini',\n",
       "            max_depth=None, max_features='sqrt', max_leaf_nodes=None,\n",
       "            min_impurity_split=1e-07, min_samples_leaf=1,\n",
       "            min_samples_split=2, min_weight_fraction_leaf=0.0,\n",
       "            n_estimators=10, n_jobs=1, oob_score=True, random_state=42,\n",
       "            verbose=0, warm_start=False)"
      ]
     },
     "execution_count": 450,
     "metadata": {},
     "output_type": "execute_result"
    }
   ],
   "source": [
    "clf_RFC_oob = RandomForestClassifier(n_estimators = 10, max_features = 'sqrt', random_state = 42,  oob_score=True)\n",
    "clf_RFC_oob.fit(X_train, y_train)"
   ]
  },
  {
   "cell_type": "code",
   "execution_count": 451,
   "metadata": {
    "collapsed": true
   },
   "outputs": [],
   "source": [
    "clf_RFC_oob_pred= clf_RFC_oob.predict(X_test)"
   ]
  },
  {
   "cell_type": "code",
   "execution_count": 452,
   "metadata": {},
   "outputs": [
    {
     "name": "stdout",
     "output_type": "stream",
     "text": [
      "Confusion matrix:\n",
      "[[166  12]\n",
      " [ 52  20]]\n"
     ]
    }
   ],
   "source": [
    "print('Confusion matrix:')\n",
    "print(confusion_matrix(y_test, clf_RFC_oob_pred))"
   ]
  },
  {
   "cell_type": "code",
   "execution_count": 453,
   "metadata": {},
   "outputs": [
    {
     "name": "stdout",
     "output_type": "stream",
     "text": [
      "Accuracy\n",
      "0.74\n"
     ]
    }
   ],
   "source": [
    "accuracy = round(accuracy_score(y_test, clf_RFC_oob_pred, normalize = True),2)\n",
    "print('Accuracy')\n",
    "print(accuracy)"
   ]
  },
  {
   "cell_type": "code",
   "execution_count": 454,
   "metadata": {},
   "outputs": [
    {
     "name": "stdout",
     "output_type": "stream",
     "text": [
      "classification report:\n",
      "             precision    recall  f1-score   support\n",
      "\n",
      "          1       0.76      0.93      0.84       178\n",
      "          2       0.62      0.28      0.38        72\n",
      "\n",
      "avg / total       0.72      0.74      0.71       250\n",
      "\n"
     ]
    }
   ],
   "source": [
    "print('classification report:')\n",
    "print(classification_report(y_test, clf_RFC_oob_pred))"
   ]
  },
  {
   "cell_type": "code",
   "execution_count": 455,
   "metadata": {},
   "outputs": [
    {
     "data": {
      "text/plain": [
       "RandomForestClassifier(bootstrap=True, class_weight=None, criterion='gini',\n",
       "            max_depth=None, max_features='sqrt', max_leaf_nodes=None,\n",
       "            min_impurity_split=1e-07, min_samples_leaf=1,\n",
       "            min_samples_split=2, min_weight_fraction_leaf=0.0,\n",
       "            n_estimators=100, n_jobs=1, oob_score=True, random_state=42,\n",
       "            verbose=0, warm_start=False)"
      ]
     },
     "execution_count": 455,
     "metadata": {},
     "output_type": "execute_result"
    }
   ],
   "source": [
    "clf_RFC_oob100 = RandomForestClassifier(n_estimators = 100, max_features = 'sqrt', random_state = 42,  oob_score=True)\n",
    "clf_RFC_oob100.fit(X_train, y_train)"
   ]
  },
  {
   "cell_type": "code",
   "execution_count": 456,
   "metadata": {
    "collapsed": true
   },
   "outputs": [],
   "source": [
    "clf_RFC_oob100_pred= clf_RFC_oob100.predict(X_test)"
   ]
  },
  {
   "cell_type": "code",
   "execution_count": 457,
   "metadata": {},
   "outputs": [
    {
     "name": "stdout",
     "output_type": "stream",
     "text": [
      "Confusion matrix:\n",
      "[[167  11]\n",
      " [ 46  26]]\n"
     ]
    }
   ],
   "source": [
    "print('Confusion matrix:')\n",
    "print(confusion_matrix(y_test, clf_RFC_oob100_pred))"
   ]
  },
  {
   "cell_type": "code",
   "execution_count": 458,
   "metadata": {},
   "outputs": [
    {
     "name": "stdout",
     "output_type": "stream",
     "text": [
      "Accuracy\n",
      "0.77\n"
     ]
    }
   ],
   "source": [
    "accuracy = round(accuracy_score(y_test, clf_RFC_oob100_pred, normalize = True),2)\n",
    "print('Accuracy')\n",
    "print(accuracy)"
   ]
  },
  {
   "cell_type": "code",
   "execution_count": 459,
   "metadata": {},
   "outputs": [
    {
     "name": "stdout",
     "output_type": "stream",
     "text": [
      "classification report:\n",
      "             precision    recall  f1-score   support\n",
      "\n",
      "          1       0.78      0.94      0.85       178\n",
      "          2       0.70      0.36      0.48        72\n",
      "\n",
      "avg / total       0.76      0.77      0.75       250\n",
      "\n"
     ]
    }
   ],
   "source": [
    "print('classification report:')\n",
    "print(classification_report(y_test, clf_RFC_oob100_pred))"
   ]
  },
  {
   "cell_type": "code",
   "execution_count": 460,
   "metadata": {},
   "outputs": [
    {
     "name": "stdout",
     "output_type": "stream",
     "text": [
      "best params: {'max_depth': 4, 'max_features': 'sqrt', 'n_estimators': 40}\n",
      "best score: 0.7333333333333333\n"
     ]
    }
   ],
   "source": [
    "clf_RFC_cv = RandomForestClassifier(random_state = 42)\n",
    "param_grid = {'n_estimators': [10, 20, 30, 40, 50, 100],\n",
    "              'max_features': ['sqrt', 'log2'],\n",
    "              'max_depth': [1, 2, 3, 4]\n",
    "              }\n",
    "\n",
    "clf_RFC_grid = GridSearchCV(clf_RFC_cv, param_grid, cv = 5)\n",
    "clf_RFC_grid.fit(X_train, y_train)\n",
    "print('best params:', clf_RFC_grid.best_params_)\n",
    "print('best score:', clf_RFC_grid.best_score_)"
   ]
  },
  {
   "cell_type": "code",
   "execution_count": 461,
   "metadata": {},
   "outputs": [
    {
     "data": {
      "text/plain": [
       "RandomForestClassifier(bootstrap=True, class_weight=None, criterion='gini',\n",
       "            max_depth=4, max_features='sqrt', max_leaf_nodes=None,\n",
       "            min_impurity_split=1e-07, min_samples_leaf=1,\n",
       "            min_samples_split=2, min_weight_fraction_leaf=0.0,\n",
       "            n_estimators=40, n_jobs=1, oob_score=False, random_state=42,\n",
       "            verbose=0, warm_start=False)"
      ]
     },
     "execution_count": 461,
     "metadata": {},
     "output_type": "execute_result"
    }
   ],
   "source": [
    "bestparams_RFC = RandomForestClassifier(random_state= 42, max_features=clf_RFC_grid.best_params_['max_features'],\n",
    "                                           max_depth = clf_RFC_grid.best_params_['max_depth'],\n",
    "                                           n_estimators = clf_RFC_grid.best_params_['n_estimators'])\n",
    "bestparams_RFC.fit(X_train, y_train)"
   ]
  },
  {
   "cell_type": "code",
   "execution_count": 462,
   "metadata": {
    "collapsed": true
   },
   "outputs": [],
   "source": [
    "bestparams_RFC_pred= bestparams_RFC.predict(X_test)"
   ]
  },
  {
   "cell_type": "code",
   "execution_count": 463,
   "metadata": {},
   "outputs": [
    {
     "name": "stdout",
     "output_type": "stream",
     "text": [
      "Confusion matrix:\n",
      "[[174   4]\n",
      " [ 65   7]]\n"
     ]
    }
   ],
   "source": [
    "print('Confusion matrix:')\n",
    "print(confusion_matrix(y_test, bestparams_RFC_pred))"
   ]
  },
  {
   "cell_type": "code",
   "execution_count": 464,
   "metadata": {},
   "outputs": [
    {
     "name": "stdout",
     "output_type": "stream",
     "text": [
      "Accuracy\n",
      "0.72\n"
     ]
    }
   ],
   "source": [
    "accuracy = round(accuracy_score(y_test, bestparams_RFC_pred, normalize = True),2)\n",
    "print('Accuracy')\n",
    "print(accuracy)"
   ]
  },
  {
   "cell_type": "code",
   "execution_count": 465,
   "metadata": {},
   "outputs": [
    {
     "name": "stdout",
     "output_type": "stream",
     "text": [
      "classification report:\n",
      "             precision    recall  f1-score   support\n",
      "\n",
      "          1       0.73      0.98      0.83       178\n",
      "          2       0.64      0.10      0.17        72\n",
      "\n",
      "avg / total       0.70      0.72      0.64       250\n",
      "\n"
     ]
    }
   ],
   "source": [
    "print('classification report:')\n",
    "print(classification_report(y_test, bestparams_RFC_pred))"
   ]
  },
  {
   "cell_type": "markdown",
   "metadata": {},
   "source": [
    "그래디언트 부스팅(Gradient Boosting)\n",
    "--"
   ]
  },
  {
   "cell_type": "code",
   "execution_count": 466,
   "metadata": {
    "collapsed": true
   },
   "outputs": [],
   "source": [
    "from sklearn import datasets\n",
    "from sklearn.ensemble import GradientBoostingClassifier\n",
    "from sklearn.metrics import accuracy_score\n",
    "import numpy as np\n",
    "import pandas as pd\n",
    "from sklearn.metrics import classification_report\n",
    "from sklearn.metrics import confusion_matrix"
   ]
  },
  {
   "cell_type": "code",
   "execution_count": 467,
   "metadata": {},
   "outputs": [
    {
     "name": "stdout",
     "output_type": "stream",
     "text": [
      "data size: \n",
      "(1000, 21)\n",
      "credit.key(): \n",
      "Index(['checkingstatus', 'duration', 'history', 'purpose', 'amount', 'savings',\n",
      "       'employ', 'installment', 'status', 'cosigners', 'residence',\n",
      "       'collateral', 'age', 'otherplans', 'housing', 'existing', 'job', 'no',\n",
      "       'telephone', 'foreign', 'default'],\n",
      "      dtype='object')\n"
     ]
    },
    {
     "data": {
      "text/html": [
       "<div>\n",
       "<style>\n",
       "    .dataframe thead tr:only-child th {\n",
       "        text-align: right;\n",
       "    }\n",
       "\n",
       "    .dataframe thead th {\n",
       "        text-align: left;\n",
       "    }\n",
       "\n",
       "    .dataframe tbody tr th {\n",
       "        vertical-align: top;\n",
       "    }\n",
       "</style>\n",
       "<table border=\"1\" class=\"dataframe\">\n",
       "  <thead>\n",
       "    <tr style=\"text-align: right;\">\n",
       "      <th></th>\n",
       "      <th>checkingstatus</th>\n",
       "      <th>duration</th>\n",
       "      <th>history</th>\n",
       "      <th>purpose</th>\n",
       "      <th>amount</th>\n",
       "      <th>savings</th>\n",
       "      <th>employ</th>\n",
       "      <th>installment</th>\n",
       "      <th>status</th>\n",
       "      <th>cosigners</th>\n",
       "      <th>...</th>\n",
       "      <th>collateral</th>\n",
       "      <th>age</th>\n",
       "      <th>otherplans</th>\n",
       "      <th>housing</th>\n",
       "      <th>existing</th>\n",
       "      <th>job</th>\n",
       "      <th>no</th>\n",
       "      <th>telephone</th>\n",
       "      <th>foreign</th>\n",
       "      <th>default</th>\n",
       "    </tr>\n",
       "  </thead>\n",
       "  <tbody>\n",
       "    <tr>\n",
       "      <th>0</th>\n",
       "      <td>A11</td>\n",
       "      <td>6</td>\n",
       "      <td>A34</td>\n",
       "      <td>A43</td>\n",
       "      <td>1169</td>\n",
       "      <td>A65</td>\n",
       "      <td>A75</td>\n",
       "      <td>4</td>\n",
       "      <td>A93</td>\n",
       "      <td>A101</td>\n",
       "      <td>...</td>\n",
       "      <td>A121</td>\n",
       "      <td>67</td>\n",
       "      <td>A143</td>\n",
       "      <td>A152</td>\n",
       "      <td>2</td>\n",
       "      <td>A173</td>\n",
       "      <td>1</td>\n",
       "      <td>A192</td>\n",
       "      <td>A201</td>\n",
       "      <td>1</td>\n",
       "    </tr>\n",
       "    <tr>\n",
       "      <th>1</th>\n",
       "      <td>A12</td>\n",
       "      <td>48</td>\n",
       "      <td>A32</td>\n",
       "      <td>A43</td>\n",
       "      <td>5951</td>\n",
       "      <td>A61</td>\n",
       "      <td>A73</td>\n",
       "      <td>2</td>\n",
       "      <td>A92</td>\n",
       "      <td>A101</td>\n",
       "      <td>...</td>\n",
       "      <td>A121</td>\n",
       "      <td>22</td>\n",
       "      <td>A143</td>\n",
       "      <td>A152</td>\n",
       "      <td>1</td>\n",
       "      <td>A173</td>\n",
       "      <td>1</td>\n",
       "      <td>A191</td>\n",
       "      <td>A201</td>\n",
       "      <td>2</td>\n",
       "    </tr>\n",
       "    <tr>\n",
       "      <th>2</th>\n",
       "      <td>A14</td>\n",
       "      <td>12</td>\n",
       "      <td>A34</td>\n",
       "      <td>A46</td>\n",
       "      <td>2096</td>\n",
       "      <td>A61</td>\n",
       "      <td>A74</td>\n",
       "      <td>2</td>\n",
       "      <td>A93</td>\n",
       "      <td>A101</td>\n",
       "      <td>...</td>\n",
       "      <td>A121</td>\n",
       "      <td>49</td>\n",
       "      <td>A143</td>\n",
       "      <td>A152</td>\n",
       "      <td>1</td>\n",
       "      <td>A172</td>\n",
       "      <td>2</td>\n",
       "      <td>A191</td>\n",
       "      <td>A201</td>\n",
       "      <td>1</td>\n",
       "    </tr>\n",
       "    <tr>\n",
       "      <th>3</th>\n",
       "      <td>A11</td>\n",
       "      <td>42</td>\n",
       "      <td>A32</td>\n",
       "      <td>A42</td>\n",
       "      <td>7882</td>\n",
       "      <td>A61</td>\n",
       "      <td>A74</td>\n",
       "      <td>2</td>\n",
       "      <td>A93</td>\n",
       "      <td>A103</td>\n",
       "      <td>...</td>\n",
       "      <td>A122</td>\n",
       "      <td>45</td>\n",
       "      <td>A143</td>\n",
       "      <td>A153</td>\n",
       "      <td>1</td>\n",
       "      <td>A173</td>\n",
       "      <td>2</td>\n",
       "      <td>A191</td>\n",
       "      <td>A201</td>\n",
       "      <td>1</td>\n",
       "    </tr>\n",
       "    <tr>\n",
       "      <th>4</th>\n",
       "      <td>A11</td>\n",
       "      <td>24</td>\n",
       "      <td>A33</td>\n",
       "      <td>A40</td>\n",
       "      <td>4870</td>\n",
       "      <td>A61</td>\n",
       "      <td>A73</td>\n",
       "      <td>3</td>\n",
       "      <td>A93</td>\n",
       "      <td>A101</td>\n",
       "      <td>...</td>\n",
       "      <td>A124</td>\n",
       "      <td>53</td>\n",
       "      <td>A143</td>\n",
       "      <td>A153</td>\n",
       "      <td>2</td>\n",
       "      <td>A173</td>\n",
       "      <td>2</td>\n",
       "      <td>A191</td>\n",
       "      <td>A201</td>\n",
       "      <td>2</td>\n",
       "    </tr>\n",
       "  </tbody>\n",
       "</table>\n",
       "<p>5 rows × 21 columns</p>\n",
       "</div>"
      ],
      "text/plain": [
       "  checkingstatus  duration history purpose  amount savings employ  \\\n",
       "0            A11         6     A34     A43    1169     A65    A75   \n",
       "1            A12        48     A32     A43    5951     A61    A73   \n",
       "2            A14        12     A34     A46    2096     A61    A74   \n",
       "3            A11        42     A32     A42    7882     A61    A74   \n",
       "4            A11        24     A33     A40    4870     A61    A73   \n",
       "\n",
       "   installment status cosigners   ...    collateral age  otherplans housing  \\\n",
       "0            4    A93      A101   ...          A121  67        A143    A152   \n",
       "1            2    A92      A101   ...          A121  22        A143    A152   \n",
       "2            2    A93      A101   ...          A121  49        A143    A152   \n",
       "3            2    A93      A103   ...          A122  45        A143    A153   \n",
       "4            3    A93      A101   ...          A124  53        A143    A153   \n",
       "\n",
       "  existing   job no  telephone foreign default  \n",
       "0        2  A173  1       A192    A201       1  \n",
       "1        1  A173  1       A191    A201       2  \n",
       "2        1  A172  2       A191    A201       1  \n",
       "3        1  A173  2       A191    A201       1  \n",
       "4        2  A173  2       A191    A201       2  \n",
       "\n",
       "[5 rows x 21 columns]"
      ]
     },
     "execution_count": 467,
     "metadata": {},
     "output_type": "execute_result"
    }
   ],
   "source": [
    "credit = pd.read_csv(\"credit.csv\")\n",
    "print(\"data size: \\n{}\".format(credit.shape))\n",
    "print(\"credit.key(): \\n{}\".format(credit.keys()))\n",
    "credit.head()"
   ]
  },
  {
   "cell_type": "code",
   "execution_count": 468,
   "metadata": {
    "collapsed": true
   },
   "outputs": [],
   "source": [
    "import numpy as np\n",
    "from sklearn import preprocessing\n",
    "from sklearn import utils"
   ]
  },
  {
   "cell_type": "code",
   "execution_count": 469,
   "metadata": {
    "collapsed": true
   },
   "outputs": [],
   "source": [
    "#checkingstatus\n",
    "le = preprocessing.LabelEncoder()\n",
    "le.fit(credit.checkingstatus)\n",
    "le.classes_\n",
    "credit.checkingstatus = le.transform(credit.checkingstatus)\n",
    "\n",
    "#history\n",
    "le = preprocessing.LabelEncoder()\n",
    "le.fit(credit.history)\n",
    "le.classes_\n",
    "credit.history = le.transform(credit.history)\n",
    "\n",
    "#purpose\n",
    "le = preprocessing.LabelEncoder()\n",
    "le.fit(credit.purpose)\n",
    "le.classes_\n",
    "credit.purpose = le.transform(credit.purpose)\n",
    "\n",
    "#savings\n",
    "le = preprocessing.LabelEncoder()\n",
    "le.fit(credit.savings)\n",
    "le.classes_\n",
    "credit.savings = le.transform(credit.savings)\n",
    "\n",
    "#employ\n",
    "le = preprocessing.LabelEncoder()\n",
    "le.fit(credit.employ)\n",
    "le.classes_\n",
    "credit.employ = le.transform(credit.employ)\n",
    "\n",
    "#status\n",
    "le = preprocessing.LabelEncoder()\n",
    "le.fit(credit.status)\n",
    "le.classes_\n",
    "credit.status = le.transform(credit.status)\n",
    "\n",
    "#cosigners\n",
    "le = preprocessing.LabelEncoder()\n",
    "le.fit(credit.cosigners)\n",
    "le.classes_\n",
    "credit.cosigners = le.transform(credit.cosigners)\n",
    "\n",
    "#collateral\n",
    "le = preprocessing.LabelEncoder()\n",
    "le.fit(credit.collateral)\n",
    "le.classes_\n",
    "credit.collateral = le.transform(credit.collateral)\n",
    "\n",
    "#otherplans\n",
    "le = preprocessing.LabelEncoder()\n",
    "le.fit(credit.otherplans)\n",
    "le.classes_\n",
    "credit.otherplans = le.transform(credit.otherplans)\n",
    "\n",
    "#housing\n",
    "le = preprocessing.LabelEncoder()\n",
    "le.fit(credit.housing)\n",
    "le.classes_\n",
    "credit.housing = le.transform(credit.housing)\n",
    "\n",
    "#job\n",
    "le = preprocessing.LabelEncoder()\n",
    "le.fit(credit.job)\n",
    "le.classes_\n",
    "credit.job = le.transform(credit.job)\n",
    "\n",
    "#telephone\n",
    "le = preprocessing.LabelEncoder()\n",
    "le.fit(credit.telephone)\n",
    "le.classes_\n",
    "credit.telephone = le.transform(credit.telephone)\n",
    "\n",
    "#foreign\n",
    "le = preprocessing.LabelEncoder()\n",
    "le.fit(credit.foreign)\n",
    "le.classes_\n",
    "credit.foreign = le.transform(credit.foreign)\n"
   ]
  },
  {
   "cell_type": "code",
   "execution_count": 470,
   "metadata": {},
   "outputs": [
    {
     "data": {
      "text/html": [
       "<div>\n",
       "<style>\n",
       "    .dataframe thead tr:only-child th {\n",
       "        text-align: right;\n",
       "    }\n",
       "\n",
       "    .dataframe thead th {\n",
       "        text-align: left;\n",
       "    }\n",
       "\n",
       "    .dataframe tbody tr th {\n",
       "        vertical-align: top;\n",
       "    }\n",
       "</style>\n",
       "<table border=\"1\" class=\"dataframe\">\n",
       "  <thead>\n",
       "    <tr style=\"text-align: right;\">\n",
       "      <th></th>\n",
       "      <th>checkingstatus</th>\n",
       "      <th>duration</th>\n",
       "      <th>history</th>\n",
       "      <th>purpose</th>\n",
       "      <th>amount</th>\n",
       "      <th>savings</th>\n",
       "      <th>employ</th>\n",
       "      <th>installment</th>\n",
       "      <th>status</th>\n",
       "      <th>cosigners</th>\n",
       "      <th>...</th>\n",
       "      <th>collateral</th>\n",
       "      <th>age</th>\n",
       "      <th>otherplans</th>\n",
       "      <th>housing</th>\n",
       "      <th>existing</th>\n",
       "      <th>job</th>\n",
       "      <th>no</th>\n",
       "      <th>telephone</th>\n",
       "      <th>foreign</th>\n",
       "      <th>default</th>\n",
       "    </tr>\n",
       "  </thead>\n",
       "  <tbody>\n",
       "    <tr>\n",
       "      <th>0</th>\n",
       "      <td>0</td>\n",
       "      <td>6</td>\n",
       "      <td>4</td>\n",
       "      <td>4</td>\n",
       "      <td>1169</td>\n",
       "      <td>4</td>\n",
       "      <td>4</td>\n",
       "      <td>4</td>\n",
       "      <td>2</td>\n",
       "      <td>0</td>\n",
       "      <td>...</td>\n",
       "      <td>0</td>\n",
       "      <td>67</td>\n",
       "      <td>2</td>\n",
       "      <td>1</td>\n",
       "      <td>2</td>\n",
       "      <td>2</td>\n",
       "      <td>1</td>\n",
       "      <td>1</td>\n",
       "      <td>0</td>\n",
       "      <td>1</td>\n",
       "    </tr>\n",
       "    <tr>\n",
       "      <th>1</th>\n",
       "      <td>1</td>\n",
       "      <td>48</td>\n",
       "      <td>2</td>\n",
       "      <td>4</td>\n",
       "      <td>5951</td>\n",
       "      <td>0</td>\n",
       "      <td>2</td>\n",
       "      <td>2</td>\n",
       "      <td>1</td>\n",
       "      <td>0</td>\n",
       "      <td>...</td>\n",
       "      <td>0</td>\n",
       "      <td>22</td>\n",
       "      <td>2</td>\n",
       "      <td>1</td>\n",
       "      <td>1</td>\n",
       "      <td>2</td>\n",
       "      <td>1</td>\n",
       "      <td>0</td>\n",
       "      <td>0</td>\n",
       "      <td>2</td>\n",
       "    </tr>\n",
       "    <tr>\n",
       "      <th>2</th>\n",
       "      <td>3</td>\n",
       "      <td>12</td>\n",
       "      <td>4</td>\n",
       "      <td>7</td>\n",
       "      <td>2096</td>\n",
       "      <td>0</td>\n",
       "      <td>3</td>\n",
       "      <td>2</td>\n",
       "      <td>2</td>\n",
       "      <td>0</td>\n",
       "      <td>...</td>\n",
       "      <td>0</td>\n",
       "      <td>49</td>\n",
       "      <td>2</td>\n",
       "      <td>1</td>\n",
       "      <td>1</td>\n",
       "      <td>1</td>\n",
       "      <td>2</td>\n",
       "      <td>0</td>\n",
       "      <td>0</td>\n",
       "      <td>1</td>\n",
       "    </tr>\n",
       "    <tr>\n",
       "      <th>3</th>\n",
       "      <td>0</td>\n",
       "      <td>42</td>\n",
       "      <td>2</td>\n",
       "      <td>3</td>\n",
       "      <td>7882</td>\n",
       "      <td>0</td>\n",
       "      <td>3</td>\n",
       "      <td>2</td>\n",
       "      <td>2</td>\n",
       "      <td>2</td>\n",
       "      <td>...</td>\n",
       "      <td>1</td>\n",
       "      <td>45</td>\n",
       "      <td>2</td>\n",
       "      <td>2</td>\n",
       "      <td>1</td>\n",
       "      <td>2</td>\n",
       "      <td>2</td>\n",
       "      <td>0</td>\n",
       "      <td>0</td>\n",
       "      <td>1</td>\n",
       "    </tr>\n",
       "    <tr>\n",
       "      <th>4</th>\n",
       "      <td>0</td>\n",
       "      <td>24</td>\n",
       "      <td>3</td>\n",
       "      <td>0</td>\n",
       "      <td>4870</td>\n",
       "      <td>0</td>\n",
       "      <td>2</td>\n",
       "      <td>3</td>\n",
       "      <td>2</td>\n",
       "      <td>0</td>\n",
       "      <td>...</td>\n",
       "      <td>3</td>\n",
       "      <td>53</td>\n",
       "      <td>2</td>\n",
       "      <td>2</td>\n",
       "      <td>2</td>\n",
       "      <td>2</td>\n",
       "      <td>2</td>\n",
       "      <td>0</td>\n",
       "      <td>0</td>\n",
       "      <td>2</td>\n",
       "    </tr>\n",
       "  </tbody>\n",
       "</table>\n",
       "<p>5 rows × 21 columns</p>\n",
       "</div>"
      ],
      "text/plain": [
       "   checkingstatus  duration  history  purpose  amount  savings  employ  \\\n",
       "0               0         6        4        4    1169        4       4   \n",
       "1               1        48        2        4    5951        0       2   \n",
       "2               3        12        4        7    2096        0       3   \n",
       "3               0        42        2        3    7882        0       3   \n",
       "4               0        24        3        0    4870        0       2   \n",
       "\n",
       "   installment  status  cosigners   ...     collateral  age  otherplans  \\\n",
       "0            4       2          0   ...              0   67           2   \n",
       "1            2       1          0   ...              0   22           2   \n",
       "2            2       2          0   ...              0   49           2   \n",
       "3            2       2          2   ...              1   45           2   \n",
       "4            3       2          0   ...              3   53           2   \n",
       "\n",
       "   housing  existing  job  no  telephone  foreign  default  \n",
       "0        1         2    2   1          1        0        1  \n",
       "1        1         1    2   1          0        0        2  \n",
       "2        1         1    1   2          0        0        1  \n",
       "3        2         1    2   2          0        0        1  \n",
       "4        2         2    2   2          0        0        2  \n",
       "\n",
       "[5 rows x 21 columns]"
      ]
     },
     "execution_count": 470,
     "metadata": {},
     "output_type": "execute_result"
    }
   ],
   "source": [
    "credit.head()"
   ]
  },
  {
   "cell_type": "code",
   "execution_count": 471,
   "metadata": {
    "collapsed": true
   },
   "outputs": [],
   "source": [
    "from sklearn.preprocessing import normalize\n",
    "\n",
    "X = normalize(credit.drop('default', axis= 1))\n",
    "y = credit.default"
   ]
  },
  {
   "cell_type": "code",
   "execution_count": 472,
   "metadata": {
    "collapsed": true
   },
   "outputs": [],
   "source": [
    "from sklearn.model_selection import train_test_split\n",
    "X_train, X_test, y_train, y_test = train_test_split(X, y, test_size = 0.25,  random_state=42)"
   ]
  },
  {
   "cell_type": "code",
   "execution_count": 473,
   "metadata": {},
   "outputs": [
    {
     "name": "stdout",
     "output_type": "stream",
     "text": [
      "X train shape: (750, 20)\n",
      "X test shape: (750,)\n",
      "82     1\n",
      "991    1\n",
      "789    2\n",
      "894    1\n",
      "398    2\n",
      "323    1\n",
      "519    1\n",
      "916    1\n",
      "922    2\n",
      "5      1\n",
      "731    2\n",
      "465    1\n",
      "97     1\n",
      "266    1\n",
      "357    2\n",
      "868    1\n",
      "798    1\n",
      "380    1\n",
      "631    2\n",
      "381    2\n",
      "490    1\n",
      "118    2\n",
      "900    2\n",
      "250    1\n",
      "523    1\n",
      "9      2\n",
      "196    1\n",
      "603    2\n",
      "81     1\n",
      "783    2\n",
      "      ..\n",
      "955    1\n",
      "191    2\n",
      "385    1\n",
      "805    2\n",
      "413    1\n",
      "491    2\n",
      "343    1\n",
      "769    1\n",
      "308    2\n",
      "661    2\n",
      "130    1\n",
      "663    1\n",
      "871    1\n",
      "99     1\n",
      "372    1\n",
      "87     2\n",
      "458    1\n",
      "330    1\n",
      "214    1\n",
      "466    2\n",
      "121    1\n",
      "614    2\n",
      "20     1\n",
      "700    2\n",
      "71     1\n",
      "106    2\n",
      "270    1\n",
      "860    1\n",
      "435    2\n",
      "102    1\n",
      "Name: default, Length: 750, dtype: int64\n",
      "Int64Index([ 82, 991, 789, 894, 398, 323, 519, 916, 922,   5,\n",
      "            ...\n",
      "            121, 614,  20, 700,  71, 106, 270, 860, 435, 102],\n",
      "           dtype='int64', length=750)\n"
     ]
    }
   ],
   "source": [
    "print('X train shape:', X_train.shape)\n",
    "print('X test shape:', y_train.shape)\n",
    "print(y_train)\n",
    "print(y_train.index)"
   ]
  },
  {
   "cell_type": "code",
   "execution_count": 474,
   "metadata": {},
   "outputs": [
    {
     "data": {
      "text/plain": [
       "GradientBoostingClassifier(criterion='friedman_mse', init=None,\n",
       "              learning_rate=0.1, loss='deviance', max_depth=3,\n",
       "              max_features=None, max_leaf_nodes=None,\n",
       "              min_impurity_split=1e-07, min_samples_leaf=1,\n",
       "              min_samples_split=2, min_weight_fraction_leaf=0.0,\n",
       "              n_estimators=100, presort='auto', random_state=42,\n",
       "              subsample=1.0, verbose=0, warm_start=False)"
      ]
     },
     "execution_count": 474,
     "metadata": {},
     "output_type": "execute_result"
    }
   ],
   "source": [
    "grabc = GradientBoostingClassifier(random_state=42)\n",
    "grabc.fit(X_train,y_train)"
   ]
  },
  {
   "cell_type": "code",
   "execution_count": 475,
   "metadata": {
    "collapsed": true
   },
   "outputs": [],
   "source": [
    "grabc_pred= grabc.predict(X_test)"
   ]
  },
  {
   "cell_type": "code",
   "execution_count": 476,
   "metadata": {},
   "outputs": [
    {
     "name": "stdout",
     "output_type": "stream",
     "text": [
      "Confusion matrix:\n",
      "[[161  17]\n",
      " [ 40  32]]\n"
     ]
    }
   ],
   "source": [
    "print('Confusion matrix:')\n",
    "print(confusion_matrix(y_test, grabc_pred))"
   ]
  },
  {
   "cell_type": "code",
   "execution_count": 477,
   "metadata": {},
   "outputs": [
    {
     "name": "stdout",
     "output_type": "stream",
     "text": [
      "Test Accuracy\n",
      "0.77\n"
     ]
    }
   ],
   "source": [
    "accuracy = round(accuracy_score(y_test, grabc_pred, normalize = True),2)\n",
    "print('Test Accuracy')\n",
    "print(accuracy)"
   ]
  },
  {
   "cell_type": "code",
   "execution_count": 478,
   "metadata": {},
   "outputs": [
    {
     "name": "stdout",
     "output_type": "stream",
     "text": [
      "Train Accuracy\n",
      "0.942666666667\n"
     ]
    }
   ],
   "source": [
    "print('Train Accuracy')\n",
    "print(grabc.score(X_train, y_train))"
   ]
  },
  {
   "cell_type": "code",
   "execution_count": 479,
   "metadata": {},
   "outputs": [
    {
     "name": "stdout",
     "output_type": "stream",
     "text": [
      "Test Accuracy\n",
      "0.772\n"
     ]
    }
   ],
   "source": [
    "print('Test Accuracy')\n",
    "print(grabc.score(X_test, y_test))"
   ]
  },
  {
   "cell_type": "code",
   "execution_count": 480,
   "metadata": {},
   "outputs": [
    {
     "name": "stdout",
     "output_type": "stream",
     "text": [
      "classification report:\n",
      "             precision    recall  f1-score   support\n",
      "\n",
      "          1       0.80      0.90      0.85       178\n",
      "          2       0.65      0.44      0.53        72\n",
      "\n",
      "avg / total       0.76      0.77      0.76       250\n",
      "\n"
     ]
    }
   ],
   "source": [
    "print('classification report:')\n",
    "print(classification_report(y_test, grabc_pred))"
   ]
  },
  {
   "cell_type": "code",
   "execution_count": 481,
   "metadata": {
    "collapsed": true
   },
   "outputs": [],
   "source": [
    "import matplotlib.pyplot as plt\n",
    "%matplotlib inline"
   ]
  },
  {
   "cell_type": "code",
   "execution_count": 509,
   "metadata": {},
   "outputs": [
    {
     "data": {
      "image/png": "[encoded data removed]",
      "text/plain": [
       "<matplotlib.figure.Figure at 0x16e9a00a208>"
      ]
     },
     "metadata": {},
     "output_type": "display_data"
    }
   ],
   "source": [
    "importance_grabc = grabc.feature_importances_\n",
    "importance_1 = importance_grabc\n",
    "indices_1 = np.argsort(importance_1)\n",
    "indices_1 = indices_1[:21]\n",
    "plt.figure(figsize=(10,6))\n",
    "plt.title('Feature Importances')\n",
    "plt.barh(range(len(indices_1)), importance_grabc[indices_1], color='b', align='center')\n",
    "plt.yticks(range(len(indices_1)), credit.index[indices_1])\n",
    "plt.xlabel('Relative Importance')\n",
    "plt.show()"
   ]
  },
  {
   "cell_type": "markdown",
   "metadata": {},
   "source": [
    "###  성능제고"
   ]
  },
  {
   "cell_type": "code",
   "execution_count": 510,
   "metadata": {},
   "outputs": [
    {
     "data": {
      "text/plain": [
       "GradientBoostingClassifier(criterion='friedman_mse', init=None,\n",
       "              learning_rate=0.1, loss='deviance', max_depth=1,\n",
       "              max_features=None, max_leaf_nodes=None,\n",
       "              min_impurity_split=1e-07, min_samples_leaf=1,\n",
       "              min_samples_split=2, min_weight_fraction_leaf=0.0,\n",
       "              n_estimators=100, presort='auto', random_state=42,\n",
       "              subsample=1.0, verbose=0, warm_start=False)"
      ]
     },
     "execution_count": 510,
     "metadata": {},
     "output_type": "execute_result"
    }
   ],
   "source": [
    "grabc1 = GradientBoostingClassifier(random_state=42, max_depth=1)\n",
    "grabc1.fit(X_train,y_train)"
   ]
  },
  {
   "cell_type": "code",
   "execution_count": 511,
   "metadata": {
    "collapsed": true
   },
   "outputs": [],
   "source": [
    "grabc1_pred= grabc1.predict(X_test)"
   ]
  },
  {
   "cell_type": "code",
   "execution_count": 512,
   "metadata": {},
   "outputs": [
    {
     "name": "stdout",
     "output_type": "stream",
     "text": [
      "Confusion matrix:\n",
      "[[171   7]\n",
      " [ 55  17]]\n"
     ]
    }
   ],
   "source": [
    "print('Confusion matrix:')\n",
    "print(confusion_matrix(y_test, grabc1_pred))"
   ]
  },
  {
   "cell_type": "code",
   "execution_count": 513,
   "metadata": {},
   "outputs": [
    {
     "name": "stdout",
     "output_type": "stream",
     "text": [
      "Test Accuracy\n",
      "0.752\n"
     ]
    }
   ],
   "source": [
    "print('Test Accuracy')\n",
    "print(grabc1.score(X_test, y_test))"
   ]
  },
  {
   "cell_type": "code",
   "execution_count": 514,
   "metadata": {},
   "outputs": [
    {
     "name": "stdout",
     "output_type": "stream",
     "text": [
      "Train Accuracy\n",
      "0.792\n"
     ]
    }
   ],
   "source": [
    "print('Train Accuracy')\n",
    "print(grabc1.score(X_train, y_train))"
   ]
  },
  {
   "cell_type": "code",
   "execution_count": 515,
   "metadata": {},
   "outputs": [
    {
     "name": "stdout",
     "output_type": "stream",
     "text": [
      "classification report:\n",
      "             precision    recall  f1-score   support\n",
      "\n",
      "          1       0.76      0.96      0.85       178\n",
      "          2       0.71      0.24      0.35        72\n",
      "\n",
      "avg / total       0.74      0.75      0.70       250\n",
      "\n"
     ]
    }
   ],
   "source": [
    "print('classification report:')\n",
    "print(classification_report(y_test, grabc1_pred))"
   ]
  },
  {
   "cell_type": "code",
   "execution_count": 516,
   "metadata": {},
   "outputs": [
    {
     "data": {
      "image/png": "[encoded data removed]",
      "text/plain": [
       "<matplotlib.figure.Figure at 0x16e97825a58>"
      ]
     },
     "metadata": {},
     "output_type": "display_data"
    }
   ],
   "source": [
    "importance_grabc1 = grabc1.feature_importances_\n",
    "importance_1 = importance_grabc1\n",
    "indices_1 = np.argsort(importance_1)\n",
    "indices_1 = indices_1[:21]\n",
    "plt.figure(figsize=(10,6))\n",
    "plt.title('Feature Importances')\n",
    "plt.barh(range(len(indices_1)), importance_grabc1[indices_1], color='b', align='center')\n",
    "plt.yticks(range(len(indices_1)), credit.index[indices_1])\n",
    "plt.xlabel('Relative Importance')\n",
    "plt.show()"
   ]
  },
  {
   "cell_type": "code",
   "execution_count": 517,
   "metadata": {},
   "outputs": [
    {
     "data": {
      "text/plain": [
       "GradientBoostingClassifier(criterion='friedman_mse', init=None,\n",
       "              learning_rate=0.01, loss='deviance', max_depth=3,\n",
       "              max_features=None, max_leaf_nodes=None,\n",
       "              min_impurity_split=1e-07, min_samples_leaf=1,\n",
       "              min_samples_split=2, min_weight_fraction_leaf=0.0,\n",
       "              n_estimators=100, presort='auto', random_state=42,\n",
       "              subsample=1.0, verbose=0, warm_start=False)"
      ]
     },
     "execution_count": 517,
     "metadata": {},
     "output_type": "execute_result"
    }
   ],
   "source": [
    "grabc2 = GradientBoostingClassifier(random_state=42, learning_rate=0.01)\n",
    "grabc2.fit(X_train,y_train)"
   ]
  },
  {
   "cell_type": "code",
   "execution_count": 518,
   "metadata": {
    "collapsed": true
   },
   "outputs": [],
   "source": [
    "grabc2_pred= grabc2.predict(X_test)"
   ]
  },
  {
   "cell_type": "code",
   "execution_count": 519,
   "metadata": {},
   "outputs": [
    {
     "name": "stdout",
     "output_type": "stream",
     "text": [
      "Confusion matrix:\n",
      "[[175   3]\n",
      " [ 59  13]]\n",
      "Test Accuracy\n",
      "0.752\n",
      "Train Accuracy\n",
      "0.782666666667\n",
      "classification report:\n",
      "             precision    recall  f1-score   support\n",
      "\n",
      "          1       0.75      0.98      0.85       178\n",
      "          2       0.81      0.18      0.30        72\n",
      "\n",
      "avg / total       0.77      0.75      0.69       250\n",
      "\n"
     ]
    }
   ],
   "source": [
    "print('Confusion matrix:')\n",
    "print(confusion_matrix(y_test, grabc2_pred))\n",
    "print('Test Accuracy')\n",
    "print(grabc2.score(X_test, y_test))\n",
    "print('Train Accuracy')\n",
    "print(grabc2.score(X_train, y_train))\n",
    "print('classification report:')\n",
    "print(classification_report(y_test, grabc2_pred))"
   ]
  },
  {
   "cell_type": "code",
   "execution_count": 520,
   "metadata": {},
   "outputs": [
    {
     "data": {
      "image/png": "[encoded data removed]",
      "text/plain": [
       "<matplotlib.figure.Figure at 0x16e97926a20>"
      ]
     },
     "metadata": {},
     "output_type": "display_data"
    }
   ],
   "source": [
    "importance_grabc2 = grabc2.feature_importances_\n",
    "importance_1 = importance_grabc2\n",
    "indices_1 = np.argsort(importance_1)\n",
    "indices_1 = indices_1[:21]\n",
    "plt.figure(figsize=(10,6))\n",
    "plt.title('Feature Importances')\n",
    "plt.barh(range(len(indices_1)), importance_grabc2[indices_1], color='b', align='center')\n",
    "plt.yticks(range(len(indices_1)), credit.index[indices_1])\n",
    "plt.xlabel('Relative Importance')\n",
    "plt.show()"
   ]
  },
  {
   "cell_type": "code",
   "execution_count": 521,
   "metadata": {},
   "outputs": [
    {
     "data": {
      "text/plain": [
       "GradientBoostingClassifier(criterion='friedman_mse', init=None,\n",
       "              learning_rate=0.1, loss='deviance', max_depth=3,\n",
       "              max_features=None, max_leaf_nodes=None,\n",
       "              min_impurity_split=1e-07, min_samples_leaf=1,\n",
       "              min_samples_split=2, min_weight_fraction_leaf=0.0,\n",
       "              n_estimators=10, presort='auto', random_state=42,\n",
       "              subsample=1.0, verbose=0, warm_start=False)"
      ]
     },
     "execution_count": 521,
     "metadata": {},
     "output_type": "execute_result"
    }
   ],
   "source": [
    "grabc3 = GradientBoostingClassifier(random_state=42, n_estimators=10)\n",
    "grabc3.fit(X_train,y_train)"
   ]
  },
  {
   "cell_type": "code",
   "execution_count": 522,
   "metadata": {
    "collapsed": true
   },
   "outputs": [],
   "source": [
    "grabc3_pred= grabc3.predict(X_test)"
   ]
  },
  {
   "cell_type": "code",
   "execution_count": 523,
   "metadata": {},
   "outputs": [
    {
     "name": "stdout",
     "output_type": "stream",
     "text": [
      "Confusion matrix:\n",
      "[[172   6]\n",
      " [ 55  17]]\n",
      "Test Accuracy\n",
      "0.756\n",
      "Train Accuracy\n",
      "0.78\n",
      "classification report:\n",
      "             precision    recall  f1-score   support\n",
      "\n",
      "          1       0.76      0.97      0.85       178\n",
      "          2       0.74      0.24      0.36        72\n",
      "\n",
      "avg / total       0.75      0.76      0.71       250\n",
      "\n"
     ]
    }
   ],
   "source": [
    "print('Confusion matrix:')\n",
    "print(confusion_matrix(y_test, grabc3_pred))\n",
    "print('Test Accuracy')\n",
    "print(grabc3.score(X_test, y_test))\n",
    "print('Train Accuracy')\n",
    "print(grabc3.score(X_train, y_train))\n",
    "print('classification report:')\n",
    "print(classification_report(y_test, grabc3_pred))"
   ]
  },
  {
   "cell_type": "code",
   "execution_count": 524,
   "metadata": {},
   "outputs": [
    {
     "data": {
      "image/png": "[encoded data removed]",
      "text/plain": [
       "<matplotlib.figure.Figure at 0x16e98edf908>"
      ]
     },
     "metadata": {},
     "output_type": "display_data"
    }
   ],
   "source": [
    "importance_grabc3 = grabc3.feature_importances_\n",
    "importance_1 = importance_grabc3\n",
    "indices_1 = np.argsort(importance_1)\n",
    "indices_1 = indices_1[:21]\n",
    "plt.figure(figsize=(10,6))\n",
    "plt.title('Feature Importances')\n",
    "plt.barh(range(len(indices_1)), importance_grabc3[indices_1], color='b', align='center')\n",
    "plt.yticks(range(len(indices_1)), credit.index[indices_1])\n",
    "plt.xlabel('Relative Importance')\n",
    "plt.show()"
   ]
  },
  {
   "cell_type": "code",
   "execution_count": 525,
   "metadata": {},
   "outputs": [
    {
     "name": "stdout",
     "output_type": "stream",
     "text": [
      "best params: {'learning_rate': 0.2, 'max_depth': 2, 'n_estimators': 60}\n",
      "best score: 0.76\n"
     ]
    }
   ],
   "source": [
    "from sklearn.grid_search import GridSearchCV\n",
    "grabc_cv = GradientBoostingClassifier(random_state=42)\n",
    "grabc_params = {\n",
    "    'learning_rate': [0.05, 0.1, 0.2, 0.5],\n",
    "    'n_estimators': [20, 40, 60, 80, 100],\n",
    "    'max_depth': [1, 2, 3, 4],\n",
    "}\n",
    "\n",
    "grid_grabc = GridSearchCV(grabc_cv, grabc_params, cv = 5)\n",
    "grid_grabc.fit(X_train, y_train)\n",
    "print('best params:', grid_grabc.best_params_)\n",
    "print('best score:', grid_grabc.best_score_)"
   ]
  },
  {
   "cell_type": "code",
   "execution_count": 526,
   "metadata": {},
   "outputs": [
    {
     "data": {
      "text/plain": [
       "GradientBoostingClassifier(criterion='friedman_mse', init=None,\n",
       "              learning_rate=0.2, loss='deviance', max_depth=2,\n",
       "              max_features=None, max_leaf_nodes=None,\n",
       "              min_impurity_split=1e-07, min_samples_leaf=1,\n",
       "              min_samples_split=2, min_weight_fraction_leaf=0.0,\n",
       "              n_estimators=60, presort='auto', random_state=42,\n",
       "              subsample=1.0, verbose=0, warm_start=False)"
      ]
     },
     "execution_count": 526,
     "metadata": {},
     "output_type": "execute_result"
    }
   ],
   "source": [
    "grabc_bestparams = GradientBoostingClassifier(max_depth = grid_grabc.best_params_['max_depth'],\n",
    "                                                 n_estimators = grid_grabc.best_params_['n_estimators'],\n",
    "                                                 learning_rate = grid_grabc.best_params_['learning_rate'],\n",
    "                                                 random_state = 42)\n",
    "grabc_bestparams.fit(X_train, y_train)"
   ]
  },
  {
   "cell_type": "code",
   "execution_count": 527,
   "metadata": {
    "collapsed": true
   },
   "outputs": [],
   "source": [
    "grabc_bestparams_pred= grabc_bestparams.predict(X_test)"
   ]
  },
  {
   "cell_type": "code",
   "execution_count": 528,
   "metadata": {},
   "outputs": [
    {
     "name": "stdout",
     "output_type": "stream",
     "text": [
      "Test Confusion matrix:\n",
      "[[162  16]\n",
      " [ 39  33]]\n"
     ]
    }
   ],
   "source": [
    "print('Test Confusion matrix:')\n",
    "print(confusion_matrix(y_test, grabc_bestparams_pred))\n"
   ]
  },
  {
   "cell_type": "code",
   "execution_count": 529,
   "metadata": {
    "collapsed": true
   },
   "outputs": [],
   "source": [
    "grabc_bestparams_pred= grabc_bestparams.predict(X_train)"
   ]
  },
  {
   "cell_type": "code",
   "execution_count": 530,
   "metadata": {},
   "outputs": [
    {
     "name": "stdout",
     "output_type": "stream",
     "text": [
      " Train Confusion matrix:\n",
      "[[508  14]\n",
      " [ 68 160]]\n"
     ]
    }
   ],
   "source": [
    "print(' Train Confusion matrix:')\n",
    "print(confusion_matrix(y_train, grabc_bestparams_pred))"
   ]
  },
  {
   "cell_type": "code",
   "execution_count": 531,
   "metadata": {},
   "outputs": [
    {
     "name": "stdout",
     "output_type": "stream",
     "text": [
      "Test Accuracy\n",
      "0.78\n"
     ]
    }
   ],
   "source": [
    "print('Test Accuracy')\n",
    "print(grabc_bestparams.score(X_test, y_test))"
   ]
  },
  {
   "cell_type": "code",
   "execution_count": 532,
   "metadata": {},
   "outputs": [
    {
     "name": "stdout",
     "output_type": "stream",
     "text": [
      "Train Accuracy\n",
      "0.890666666667\n"
     ]
    }
   ],
   "source": [
    "print('Train Accuracy')\n",
    "print(grabc_bestparams.score(X_train, y_train))"
   ]
  },
  {
   "cell_type": "code",
   "execution_count": 534,
   "metadata": {},
   "outputs": [
    {
     "data": {
      "image/png": "[encoded data removed]",
      "text/plain": [
       "<matplotlib.figure.Figure at 0x16e9793c780>"
      ]
     },
     "metadata": {},
     "output_type": "display_data"
    }
   ],
   "source": [
    "importance_best = grabc_bestparams.feature_importances_\n",
    "importance_1 = importance_best\n",
    "indices_1 = np.argsort(importance_1)\n",
    "indices_1 = indices_1[:21]\n",
    "plt.figure(figsize=(10,6))\n",
    "plt.title('Feature Importances')\n",
    "plt.barh(range(len(indices_1)), importance_best[indices_1], color='b', align='center')\n",
    "plt.yticks(range(len(indices_1)), credit.index[indices_1])\n",
    "plt.xlabel('Relative Importance')\n",
    "plt.show()"
   ]
  },
  {
   "cell_type": "markdown",
   "metadata": {},
   "source": [
    "## SVM"
   ]
  },
  {
   "cell_type": "code",
   "execution_count": 535,
   "metadata": {
    "collapsed": true
   },
   "outputs": [],
   "source": [
    "from sklearn import datasets\n",
    "import numpy as np\n",
    "import pandas as pd\n",
    "from sklearn.metrics import accuracy_score\n",
    "from sklearn.metrics import classification_report\n",
    "from sklearn.metrics import confusion_matrix\n",
    "import matplotlib.pyplot as plt\n",
    "from sklearn import svm\n",
    "%matplotlib inline"
   ]
  },
  {
   "cell_type": "code",
   "execution_count": 536,
   "metadata": {},
   "outputs": [
    {
     "name": "stdout",
     "output_type": "stream",
     "text": [
      "data size: \n",
      "(1000, 21)\n",
      "credit.key(): \n",
      "Index(['checkingstatus', 'duration', 'history', 'purpose', 'amount', 'savings',\n",
      "       'employ', 'installment', 'status', 'cosigners', 'residence',\n",
      "       'collateral', 'age', 'otherplans', 'housing', 'existing', 'job', 'no',\n",
      "       'telephone', 'foreign', 'default'],\n",
      "      dtype='object')\n",
      "['checkingstatus', 'duration', 'history', 'purpose', 'amount', 'savings', 'employ', 'installment', 'status', 'cosigners', 'residence', 'collateral', 'age', 'otherplans', 'housing', 'existing', 'job', 'no', 'telephone', 'foreign', 'default']\n",
      "duration\n"
     ]
    }
   ],
   "source": [
    "credit = pd.read_csv(\"credit.csv\", encoding=\"utf-8\")\n",
    "print(\"data size: \\n{}\".format(credit.shape))\n",
    "print(\"credit.key(): \\n{}\".format(credit.keys()))\n",
    "credit_index = (['checkingstatus', 'duration', 'history', 'purpose', 'amount', 'savings',\n",
    "       'employ', 'installment', 'status', 'cosigners', 'residence',\n",
    "       'collateral', 'age', 'otherplans', 'housing', 'existing', 'job', 'no',\n",
    "       'telephone', 'foreign', 'default'])\n",
    "print(credit_index)\n",
    "print(credit_index[1])"
   ]
  },
  {
   "cell_type": "code",
   "execution_count": 537,
   "metadata": {
    "collapsed": true
   },
   "outputs": [],
   "source": [
    "import numpy as np\n",
    "from sklearn import preprocessing\n",
    "from sklearn import utils"
   ]
  },
  {
   "cell_type": "code",
   "execution_count": 538,
   "metadata": {
    "collapsed": true
   },
   "outputs": [],
   "source": [
    "#checkingstatus\n",
    "le = preprocessing.LabelEncoder()\n",
    "le.fit(credit.checkingstatus)\n",
    "le.classes_\n",
    "credit.checkingstatus = le.transform(credit.checkingstatus)\n",
    "\n",
    "#history\n",
    "le = preprocessing.LabelEncoder()\n",
    "le.fit(credit.history)\n",
    "le.classes_\n",
    "credit.history = le.transform(credit.history)\n",
    "\n",
    "#purpose\n",
    "le = preprocessing.LabelEncoder()\n",
    "le.fit(credit.purpose)\n",
    "le.classes_\n",
    "credit.purpose = le.transform(credit.purpose)\n",
    "\n",
    "#savings\n",
    "le = preprocessing.LabelEncoder()\n",
    "le.fit(credit.savings)\n",
    "le.classes_\n",
    "credit.savings = le.transform(credit.savings)\n",
    "\n",
    "#employ\n",
    "le = preprocessing.LabelEncoder()\n",
    "le.fit(credit.employ)\n",
    "le.classes_\n",
    "credit.employ = le.transform(credit.employ)\n",
    "\n",
    "#status\n",
    "le = preprocessing.LabelEncoder()\n",
    "le.fit(credit.status)\n",
    "le.classes_\n",
    "credit.status = le.transform(credit.status)\n",
    "\n",
    "#cosigners\n",
    "le = preprocessing.LabelEncoder()\n",
    "le.fit(credit.cosigners)\n",
    "le.classes_\n",
    "credit.cosigners = le.transform(credit.cosigners)\n",
    "\n",
    "#collateral\n",
    "le = preprocessing.LabelEncoder()\n",
    "le.fit(credit.collateral)\n",
    "le.classes_\n",
    "credit.collateral = le.transform(credit.collateral)\n",
    "\n",
    "#otherplans\n",
    "le = preprocessing.LabelEncoder()\n",
    "le.fit(credit.otherplans)\n",
    "le.classes_\n",
    "credit.otherplans = le.transform(credit.otherplans)\n",
    "\n",
    "#housing\n",
    "le = preprocessing.LabelEncoder()\n",
    "le.fit(credit.housing)\n",
    "le.classes_\n",
    "credit.housing = le.transform(credit.housing)\n",
    "\n",
    "#job\n",
    "le = preprocessing.LabelEncoder()\n",
    "le.fit(credit.job)\n",
    "le.classes_\n",
    "credit.job = le.transform(credit.job)\n",
    "\n",
    "#telephone\n",
    "le = preprocessing.LabelEncoder()\n",
    "le.fit(credit.telephone)\n",
    "le.classes_\n",
    "credit.telephone = le.transform(credit.telephone)\n",
    "\n",
    "#foreign\n",
    "le = preprocessing.LabelEncoder()\n",
    "le.fit(credit.foreign)\n",
    "le.classes_\n",
    "credit.foreign = le.transform(credit.foreign)\n"
   ]
  },
  {
   "cell_type": "code",
   "execution_count": 539,
   "metadata": {},
   "outputs": [
    {
     "data": {
      "text/html": [
       "<div>\n",
       "<style>\n",
       "    .dataframe thead tr:only-child th {\n",
       "        text-align: right;\n",
       "    }\n",
       "\n",
       "    .dataframe thead th {\n",
       "        text-align: left;\n",
       "    }\n",
       "\n",
       "    .dataframe tbody tr th {\n",
       "        vertical-align: top;\n",
       "    }\n",
       "</style>\n",
       "<table border=\"1\" class=\"dataframe\">\n",
       "  <thead>\n",
       "    <tr style=\"text-align: right;\">\n",
       "      <th></th>\n",
       "      <th>checkingstatus</th>\n",
       "      <th>duration</th>\n",
       "      <th>history</th>\n",
       "      <th>purpose</th>\n",
       "      <th>amount</th>\n",
       "      <th>savings</th>\n",
       "      <th>employ</th>\n",
       "      <th>installment</th>\n",
       "      <th>status</th>\n",
       "      <th>cosigners</th>\n",
       "      <th>...</th>\n",
       "      <th>collateral</th>\n",
       "      <th>age</th>\n",
       "      <th>otherplans</th>\n",
       "      <th>housing</th>\n",
       "      <th>existing</th>\n",
       "      <th>job</th>\n",
       "      <th>no</th>\n",
       "      <th>telephone</th>\n",
       "      <th>foreign</th>\n",
       "      <th>default</th>\n",
       "    </tr>\n",
       "  </thead>\n",
       "  <tbody>\n",
       "    <tr>\n",
       "      <th>0</th>\n",
       "      <td>0</td>\n",
       "      <td>6</td>\n",
       "      <td>4</td>\n",
       "      <td>4</td>\n",
       "      <td>1169</td>\n",
       "      <td>4</td>\n",
       "      <td>4</td>\n",
       "      <td>4</td>\n",
       "      <td>2</td>\n",
       "      <td>0</td>\n",
       "      <td>...</td>\n",
       "      <td>0</td>\n",
       "      <td>67</td>\n",
       "      <td>2</td>\n",
       "      <td>1</td>\n",
       "      <td>2</td>\n",
       "      <td>2</td>\n",
       "      <td>1</td>\n",
       "      <td>1</td>\n",
       "      <td>0</td>\n",
       "      <td>1</td>\n",
       "    </tr>\n",
       "    <tr>\n",
       "      <th>1</th>\n",
       "      <td>1</td>\n",
       "      <td>48</td>\n",
       "      <td>2</td>\n",
       "      <td>4</td>\n",
       "      <td>5951</td>\n",
       "      <td>0</td>\n",
       "      <td>2</td>\n",
       "      <td>2</td>\n",
       "      <td>1</td>\n",
       "      <td>0</td>\n",
       "      <td>...</td>\n",
       "      <td>0</td>\n",
       "      <td>22</td>\n",
       "      <td>2</td>\n",
       "      <td>1</td>\n",
       "      <td>1</td>\n",
       "      <td>2</td>\n",
       "      <td>1</td>\n",
       "      <td>0</td>\n",
       "      <td>0</td>\n",
       "      <td>2</td>\n",
       "    </tr>\n",
       "    <tr>\n",
       "      <th>2</th>\n",
       "      <td>3</td>\n",
       "      <td>12</td>\n",
       "      <td>4</td>\n",
       "      <td>7</td>\n",
       "      <td>2096</td>\n",
       "      <td>0</td>\n",
       "      <td>3</td>\n",
       "      <td>2</td>\n",
       "      <td>2</td>\n",
       "      <td>0</td>\n",
       "      <td>...</td>\n",
       "      <td>0</td>\n",
       "      <td>49</td>\n",
       "      <td>2</td>\n",
       "      <td>1</td>\n",
       "      <td>1</td>\n",
       "      <td>1</td>\n",
       "      <td>2</td>\n",
       "      <td>0</td>\n",
       "      <td>0</td>\n",
       "      <td>1</td>\n",
       "    </tr>\n",
       "    <tr>\n",
       "      <th>3</th>\n",
       "      <td>0</td>\n",
       "      <td>42</td>\n",
       "      <td>2</td>\n",
       "      <td>3</td>\n",
       "      <td>7882</td>\n",
       "      <td>0</td>\n",
       "      <td>3</td>\n",
       "      <td>2</td>\n",
       "      <td>2</td>\n",
       "      <td>2</td>\n",
       "      <td>...</td>\n",
       "      <td>1</td>\n",
       "      <td>45</td>\n",
       "      <td>2</td>\n",
       "      <td>2</td>\n",
       "      <td>1</td>\n",
       "      <td>2</td>\n",
       "      <td>2</td>\n",
       "      <td>0</td>\n",
       "      <td>0</td>\n",
       "      <td>1</td>\n",
       "    </tr>\n",
       "    <tr>\n",
       "      <th>4</th>\n",
       "      <td>0</td>\n",
       "      <td>24</td>\n",
       "      <td>3</td>\n",
       "      <td>0</td>\n",
       "      <td>4870</td>\n",
       "      <td>0</td>\n",
       "      <td>2</td>\n",
       "      <td>3</td>\n",
       "      <td>2</td>\n",
       "      <td>0</td>\n",
       "      <td>...</td>\n",
       "      <td>3</td>\n",
       "      <td>53</td>\n",
       "      <td>2</td>\n",
       "      <td>2</td>\n",
       "      <td>2</td>\n",
       "      <td>2</td>\n",
       "      <td>2</td>\n",
       "      <td>0</td>\n",
       "      <td>0</td>\n",
       "      <td>2</td>\n",
       "    </tr>\n",
       "    <tr>\n",
       "      <th>5</th>\n",
       "      <td>3</td>\n",
       "      <td>36</td>\n",
       "      <td>2</td>\n",
       "      <td>7</td>\n",
       "      <td>9055</td>\n",
       "      <td>4</td>\n",
       "      <td>2</td>\n",
       "      <td>2</td>\n",
       "      <td>2</td>\n",
       "      <td>0</td>\n",
       "      <td>...</td>\n",
       "      <td>3</td>\n",
       "      <td>35</td>\n",
       "      <td>2</td>\n",
       "      <td>2</td>\n",
       "      <td>1</td>\n",
       "      <td>1</td>\n",
       "      <td>2</td>\n",
       "      <td>1</td>\n",
       "      <td>0</td>\n",
       "      <td>1</td>\n",
       "    </tr>\n",
       "    <tr>\n",
       "      <th>6</th>\n",
       "      <td>3</td>\n",
       "      <td>24</td>\n",
       "      <td>2</td>\n",
       "      <td>3</td>\n",
       "      <td>2835</td>\n",
       "      <td>2</td>\n",
       "      <td>4</td>\n",
       "      <td>3</td>\n",
       "      <td>2</td>\n",
       "      <td>0</td>\n",
       "      <td>...</td>\n",
       "      <td>1</td>\n",
       "      <td>53</td>\n",
       "      <td>2</td>\n",
       "      <td>1</td>\n",
       "      <td>1</td>\n",
       "      <td>2</td>\n",
       "      <td>1</td>\n",
       "      <td>0</td>\n",
       "      <td>0</td>\n",
       "      <td>1</td>\n",
       "    </tr>\n",
       "    <tr>\n",
       "      <th>7</th>\n",
       "      <td>1</td>\n",
       "      <td>36</td>\n",
       "      <td>2</td>\n",
       "      <td>1</td>\n",
       "      <td>6948</td>\n",
       "      <td>0</td>\n",
       "      <td>2</td>\n",
       "      <td>2</td>\n",
       "      <td>2</td>\n",
       "      <td>0</td>\n",
       "      <td>...</td>\n",
       "      <td>2</td>\n",
       "      <td>35</td>\n",
       "      <td>2</td>\n",
       "      <td>0</td>\n",
       "      <td>1</td>\n",
       "      <td>3</td>\n",
       "      <td>1</td>\n",
       "      <td>1</td>\n",
       "      <td>0</td>\n",
       "      <td>1</td>\n",
       "    </tr>\n",
       "    <tr>\n",
       "      <th>8</th>\n",
       "      <td>3</td>\n",
       "      <td>12</td>\n",
       "      <td>2</td>\n",
       "      <td>4</td>\n",
       "      <td>3059</td>\n",
       "      <td>3</td>\n",
       "      <td>3</td>\n",
       "      <td>2</td>\n",
       "      <td>0</td>\n",
       "      <td>0</td>\n",
       "      <td>...</td>\n",
       "      <td>0</td>\n",
       "      <td>61</td>\n",
       "      <td>2</td>\n",
       "      <td>1</td>\n",
       "      <td>1</td>\n",
       "      <td>1</td>\n",
       "      <td>1</td>\n",
       "      <td>0</td>\n",
       "      <td>0</td>\n",
       "      <td>1</td>\n",
       "    </tr>\n",
       "    <tr>\n",
       "      <th>9</th>\n",
       "      <td>1</td>\n",
       "      <td>30</td>\n",
       "      <td>4</td>\n",
       "      <td>0</td>\n",
       "      <td>5234</td>\n",
       "      <td>0</td>\n",
       "      <td>0</td>\n",
       "      <td>4</td>\n",
       "      <td>3</td>\n",
       "      <td>0</td>\n",
       "      <td>...</td>\n",
       "      <td>2</td>\n",
       "      <td>28</td>\n",
       "      <td>2</td>\n",
       "      <td>1</td>\n",
       "      <td>2</td>\n",
       "      <td>3</td>\n",
       "      <td>1</td>\n",
       "      <td>0</td>\n",
       "      <td>0</td>\n",
       "      <td>2</td>\n",
       "    </tr>\n",
       "  </tbody>\n",
       "</table>\n",
       "<p>10 rows × 21 columns</p>\n",
       "</div>"
      ],
      "text/plain": [
       "   checkingstatus  duration  history  purpose  amount  savings  employ  \\\n",
       "0               0         6        4        4    1169        4       4   \n",
       "1               1        48        2        4    5951        0       2   \n",
       "2               3        12        4        7    2096        0       3   \n",
       "3               0        42        2        3    7882        0       3   \n",
       "4               0        24        3        0    4870        0       2   \n",
       "5               3        36        2        7    9055        4       2   \n",
       "6               3        24        2        3    2835        2       4   \n",
       "7               1        36        2        1    6948        0       2   \n",
       "8               3        12        2        4    3059        3       3   \n",
       "9               1        30        4        0    5234        0       0   \n",
       "\n",
       "   installment  status  cosigners   ...     collateral  age  otherplans  \\\n",
       "0            4       2          0   ...              0   67           2   \n",
       "1            2       1          0   ...              0   22           2   \n",
       "2            2       2          0   ...              0   49           2   \n",
       "3            2       2          2   ...              1   45           2   \n",
       "4            3       2          0   ...              3   53           2   \n",
       "5            2       2          0   ...              3   35           2   \n",
       "6            3       2          0   ...              1   53           2   \n",
       "7            2       2          0   ...              2   35           2   \n",
       "8            2       0          0   ...              0   61           2   \n",
       "9            4       3          0   ...              2   28           2   \n",
       "\n",
       "   housing  existing  job  no  telephone  foreign  default  \n",
       "0        1         2    2   1          1        0        1  \n",
       "1        1         1    2   1          0        0        2  \n",
       "2        1         1    1   2          0        0        1  \n",
       "3        2         1    2   2          0        0        1  \n",
       "4        2         2    2   2          0        0        2  \n",
       "5        2         1    1   2          1        0        1  \n",
       "6        1         1    2   1          0        0        1  \n",
       "7        0         1    3   1          1        0        1  \n",
       "8        1         1    1   1          0        0        1  \n",
       "9        1         2    3   1          0        0        2  \n",
       "\n",
       "[10 rows x 21 columns]"
      ]
     },
     "execution_count": 539,
     "metadata": {},
     "output_type": "execute_result"
    }
   ],
   "source": [
    "credit.head(10)"
   ]
  },
  {
   "cell_type": "code",
   "execution_count": 540,
   "metadata": {
    "collapsed": true
   },
   "outputs": [],
   "source": [
    "from sklearn.preprocessing import normalize\n",
    "\n",
    "X = normalize(credit.drop('default', axis= 1))\n",
    "y = credit.default"
   ]
  },
  {
   "cell_type": "code",
   "execution_count": 541,
   "metadata": {
    "collapsed": true
   },
   "outputs": [],
   "source": [
    "from sklearn.model_selection import train_test_split\n",
    "X_train, X_test, y_train, y_test = train_test_split(X, y,random_state=0)"
   ]
  },
  {
   "cell_type": "code",
   "execution_count": 542,
   "metadata": {},
   "outputs": [
    {
     "name": "stdout",
     "output_type": "stream",
     "text": [
      "X train shape: (750, 20)\n",
      "X test shape: (250, 20)\n",
      "y train shape: (750,)\n",
      "y test shape: (250,)\n"
     ]
    }
   ],
   "source": [
    "print('X train shape:', X_train.shape)\n",
    "print('X test shape:', X_test.shape)\n",
    "print('y train shape:', y_train.shape)\n",
    "print('y test shape:', y_test.shape)"
   ]
  },
  {
   "cell_type": "code",
   "execution_count": 543,
   "metadata": {},
   "outputs": [
    {
     "data": {
      "text/plain": [
       "SVC(C=1, cache_size=200, class_weight=None, coef0=0.0,\n",
       "  decision_function_shape=None, degree=3, gamma='auto', kernel='linear',\n",
       "  max_iter=-1, probability=False, random_state=0, shrinking=True,\n",
       "  tol=0.001, verbose=False)"
      ]
     },
     "execution_count": 543,
     "metadata": {},
     "output_type": "execute_result"
    }
   ],
   "source": [
    "svm_credit= svm.SVC(kernel='linear', C=1, random_state=0)\n",
    "svm_credit = svm_credit.fit(X_train, y_train)\n",
    "svm_credit"
   ]
  },
  {
   "cell_type": "code",
   "execution_count": 544,
   "metadata": {},
   "outputs": [],
   "source": [
    "svm_credit_pred = svm_credit.predict(X_test)"
   ]
  },
  {
   "cell_type": "code",
   "execution_count": 545,
   "metadata": {},
   "outputs": [
    {
     "data": {
      "text/plain": [
       "array([1, 1, 1, 1, 1, 1, 1, 1, 1, 1, 1, 1, 1, 1, 1, 1, 1, 1, 1, 1, 1, 1, 1,\n",
       "       1, 1, 1, 1, 1, 1, 1, 1, 1, 1, 1, 1, 1, 1, 1, 1, 1, 1, 1, 1, 1, 1, 1,\n",
       "       1, 1, 1, 1, 1, 1, 1, 1, 1, 1, 1, 1, 1, 1, 1, 1, 1, 1, 1, 1, 1, 1, 1,\n",
       "       1, 1, 1, 1, 1, 1, 1, 1, 1, 1, 1, 1, 1, 1, 1, 1, 1, 1, 1, 1, 1, 1, 1,\n",
       "       1, 1, 1, 1, 1, 1, 1, 1, 1, 1, 1, 1, 1, 1, 1, 1, 1, 1, 1, 1, 1, 1, 1,\n",
       "       1, 1, 1, 1, 1, 1, 1, 1, 1, 1, 1, 1, 1, 1, 1, 1, 1, 1, 1, 1, 1, 1, 1,\n",
       "       1, 1, 1, 1, 1, 1, 1, 1, 1, 1, 1, 1, 1, 1, 1, 1, 1, 1, 1, 1, 1, 1, 1,\n",
       "       1, 1, 1, 1, 1, 1, 1, 1, 1, 1, 1, 1, 1, 1, 1, 1, 1, 1, 1, 1, 1, 1, 1,\n",
       "       1, 1, 1, 1, 1, 1, 1, 1, 1, 1, 1, 1, 1, 1, 1, 1, 1, 1, 1, 1, 1, 1, 1,\n",
       "       1, 1, 1, 1, 1, 1, 1, 1, 1, 1, 1, 1, 1, 1, 1, 1, 1, 1, 1, 1, 1, 1, 1,\n",
       "       1, 1, 1, 1, 1, 1, 1, 1, 1, 1, 1, 1, 1, 1, 1, 1, 1, 1, 1, 1], dtype=int64)"
      ]
     },
     "execution_count": 545,
     "metadata": {},
     "output_type": "execute_result"
    }
   ],
   "source": [
    "svm_credit_pred"
   ]
  },
  {
   "cell_type": "code",
   "execution_count": 546,
   "metadata": {},
   "outputs": [
    {
     "data": {
      "text/plain": [
       "993    1\n",
       "859    1\n",
       "298    1\n",
       "553    1\n",
       "672    1\n",
       "971    1\n",
       "27     1\n",
       "231    1\n",
       "306    1\n",
       "706    2\n",
       "496    2\n",
       "558    2\n",
       "784    1\n",
       "239    1\n",
       "578    2\n",
       "55     1\n",
       "906    1\n",
       "175    2\n",
       "14     1\n",
       "77     1\n",
       "31     1\n",
       "481    1\n",
       "310    1\n",
       "311    1\n",
       "883    1\n",
       "788    2\n",
       "45     1\n",
       "103    1\n",
       "760    1\n",
       "1      2\n",
       "      ..\n",
       "805    2\n",
       "592    1\n",
       "964    1\n",
       "266    1\n",
       "406    1\n",
       "294    1\n",
       "604    1\n",
       "522    2\n",
       "18     2\n",
       "425    1\n",
       "527    1\n",
       "308    2\n",
       "622    2\n",
       "794    1\n",
       "62     2\n",
       "79     1\n",
       "680    1\n",
       "193    1\n",
       "750    1\n",
       "181    2\n",
       "535    2\n",
       "484    1\n",
       "200    1\n",
       "364    2\n",
       "991    1\n",
       "462    1\n",
       "356    1\n",
       "2      1\n",
       "478    1\n",
       "695    1\n",
       "Name: default, Length: 250, dtype: int64"
      ]
     },
     "execution_count": 546,
     "metadata": {},
     "output_type": "execute_result"
    }
   ],
   "source": [
    "y_test"
   ]
  },
  {
   "cell_type": "code",
   "execution_count": 547,
   "metadata": {},
   "outputs": [
    {
     "data": {
      "text/plain": [
       "array([227, 226])"
      ]
     },
     "execution_count": 547,
     "metadata": {},
     "output_type": "execute_result"
    }
   ],
   "source": [
    "svm_credit.n_support_"
   ]
  },
  {
   "cell_type": "code",
   "execution_count": 548,
   "metadata": {},
   "outputs": [
    {
     "data": {
      "text/plain": [
       "array([[ 0.00083116,  0.01329848,  0.00027705, ...,  0.00027705,\n",
       "         0.        ,  0.        ],\n",
       "       [ 0.0002369 ,  0.00710696,  0.        , ...,  0.0002369 ,\n",
       "         0.        ,  0.        ],\n",
       "       [ 0.        ,  0.00812723,  0.00108363, ...,  0.00054182,\n",
       "         0.        ,  0.        ],\n",
       "       ..., \n",
       "       [ 0.        ,  0.01107874,  0.        , ...,  0.00092323,\n",
       "         0.        ,  0.        ],\n",
       "       [ 0.00025541,  0.00689607,  0.00051082, ...,  0.00051082,\n",
       "         0.00025541,  0.        ],\n",
       "       [ 0.00051858,  0.00933442,  0.00207432, ...,  0.00051858,\n",
       "         0.        ,  0.        ]])"
      ]
     },
     "execution_count": 548,
     "metadata": {},
     "output_type": "execute_result"
    }
   ],
   "source": [
    "svm_credit.support_vectors_"
   ]
  },
  {
   "cell_type": "code",
   "execution_count": 549,
   "metadata": {},
   "outputs": [
    {
     "name": "stdout",
     "output_type": "stream",
     "text": [
      "Test Confusion matrix:\n",
      "[[176   0]\n",
      " [ 74   0]]\n"
     ]
    }
   ],
   "source": [
    "print('Test Confusion matrix:')\n",
    "print(confusion_matrix(y_test, svm_credit_pred))"
   ]
  },
  {
   "cell_type": "code",
   "execution_count": 550,
   "metadata": {},
   "outputs": [
    {
     "name": "stdout",
     "output_type": "stream",
     "text": [
      "classification report:\n",
      "             precision    recall  f1-score   support\n",
      "\n",
      "          1       0.70      1.00      0.83       176\n",
      "          2       0.00      0.00      0.00        74\n",
      "\n",
      "avg / total       0.50      0.70      0.58       250\n",
      "\n"
     ]
    },
    {
     "name": "stderr",
     "output_type": "stream",
     "text": [
      "C:\\ProgramData\\Anaconda3\\lib\\site-packages\\sklearn\\metrics\\classification.py:1113: UndefinedMetricWarning: Precision and F-score are ill-defined and being set to 0.0 in labels with no predicted samples.\n",
      "  'precision', 'predicted', average, warn_for)\n"
     ]
    }
   ],
   "source": [
    "print('classification report:')\n",
    "print(classification_report(y_test, svm_credit_pred))"
   ]
  },
  {
   "cell_type": "code",
   "execution_count": 551,
   "metadata": {},
   "outputs": [
    {
     "name": "stdout",
     "output_type": "stream",
     "text": [
      "Test Accuracy\n",
      "0.704\n"
     ]
    }
   ],
   "source": [
    "print('Test Accuracy')\n",
    "print(svm_credit.score(X_test, y_test))"
   ]
  },
  {
   "cell_type": "code",
   "execution_count": 552,
   "metadata": {},
   "outputs": [
    {
     "name": "stdout",
     "output_type": "stream",
     "text": [
      "Train Accuracy\n",
      "0.698666666667\n"
     ]
    }
   ],
   "source": [
    "print('Train Accuracy')\n",
    "print(svm_credit.score(X_train, y_train))"
   ]
  },
  {
   "cell_type": "code",
   "execution_count": 553,
   "metadata": {},
   "outputs": [
    {
     "data": {
      "text/plain": [
       "SVC(C=1.0, cache_size=200, class_weight=None, coef0=0.0,\n",
       "  decision_function_shape=None, degree=3, gamma='auto', kernel='rbf',\n",
       "  max_iter=-1, probability=False, random_state=0, shrinking=True,\n",
       "  tol=0.001, verbose=False)"
      ]
     },
     "execution_count": 553,
     "metadata": {},
     "output_type": "execute_result"
    }
   ],
   "source": [
    "svm_credit_rbf= svm.SVC(kernel='rbf', random_state=0)\n",
    "svm_credit_rbf = svm_credit_rbf.fit(X_train, y_train)\n",
    "svm_credit_rbf"
   ]
  },
  {
   "cell_type": "code",
   "execution_count": 554,
   "metadata": {
    "collapsed": true
   },
   "outputs": [],
   "source": [
    "svm_credit_rbf_pred = svm_credit_rbf.predict(X_test)"
   ]
  },
  {
   "cell_type": "code",
   "execution_count": 555,
   "metadata": {},
   "outputs": [
    {
     "name": "stdout",
     "output_type": "stream",
     "text": [
      "Test Confusion matrix:\n",
      "[[176   0]\n",
      " [ 74   0]]\n",
      "Test Accuracy\n",
      "0.704\n",
      "Train Accuracy\n",
      "0.698666666667\n"
     ]
    }
   ],
   "source": [
    "print('Test Confusion matrix:')\n",
    "print(confusion_matrix(y_test, svm_credit_rbf_pred))\n",
    "print('Test Accuracy')\n",
    "print(svm_credit_rbf.score(X_test, y_test))\n",
    "print('Train Accuracy')\n",
    "print(svm_credit_rbf.score(X_train, y_train))"
   ]
  },
  {
   "cell_type": "code",
   "execution_count": 556,
   "metadata": {},
   "outputs": [
    {
     "data": {
      "text/plain": [
       "array([226, 226])"
      ]
     },
     "execution_count": 556,
     "metadata": {},
     "output_type": "execute_result"
    }
   ],
   "source": [
    "svm_credit_rbf.n_support_"
   ]
  },
  {
   "cell_type": "code",
   "execution_count": 557,
   "metadata": {},
   "outputs": [
    {
     "name": "stdout",
     "output_type": "stream",
     "text": [
      "classification report:\n",
      "             precision    recall  f1-score   support\n",
      "\n",
      "          1       0.70      1.00      0.83       176\n",
      "          2       0.00      0.00      0.00        74\n",
      "\n",
      "avg / total       0.50      0.70      0.58       250\n",
      "\n"
     ]
    },
    {
     "name": "stderr",
     "output_type": "stream",
     "text": [
      "C:\\ProgramData\\Anaconda3\\lib\\site-packages\\sklearn\\metrics\\classification.py:1113: UndefinedMetricWarning: Precision and F-score are ill-defined and being set to 0.0 in labels with no predicted samples.\n",
      "  'precision', 'predicted', average, warn_for)\n"
     ]
    }
   ],
   "source": [
    "print('classification report:')\n",
    "print(classification_report(y_test, svm_credit_rbf_pred))"
   ]
  },
  {
   "cell_type": "code",
   "execution_count": 558,
   "metadata": {},
   "outputs": [
    {
     "data": {
      "image/png": "[encoded data removed]",
      "text/plain": [
       "<matplotlib.figure.Figure at 0x16e99ff8128>"
      ]
     },
     "metadata": {},
     "output_type": "display_data"
    }
   ],
   "source": [
    "plt.boxplot(X_train)\n",
    "plt.yscale('symlog')"
   ]
  },
  {
   "cell_type": "markdown",
   "metadata": {},
   "source": [
    "### normalize"
   ]
  },
  {
   "cell_type": "code",
   "execution_count": 559,
   "metadata": {},
   "outputs": [
    {
     "data": {
      "text/plain": [
       "array([  0.00000000e+00,   4.02788409e-04,   0.00000000e+00,\n",
       "         0.00000000e+00,   9.86126160e-01,   0.00000000e+00,\n",
       "         0.00000000e+00,   5.42767615e-05,   0.00000000e+00,\n",
       "         0.00000000e+00,   7.84366168e-05,   0.00000000e+00,\n",
       "         1.34158456e-03,   0.00000000e+00,   0.00000000e+00,\n",
       "         5.42767615e-05,   0.00000000e+00,   5.42767615e-05,\n",
       "         0.00000000e+00,   0.00000000e+00])"
      ]
     },
     "execution_count": 559,
     "metadata": {},
     "output_type": "execute_result"
    }
   ],
   "source": [
    "min_train = X_train.min(axis=0)\n",
    "min_train"
   ]
  },
  {
   "cell_type": "code",
   "execution_count": 560,
   "metadata": {},
   "outputs": [
    {
     "data": {
      "text/plain": [
       "array([ 0.01183351,  0.03913727,  0.01577802,  0.02336775,  0.01386929,\n",
       "        0.01183351,  0.01168961,  0.01437967,  0.01082546,  0.00412445,\n",
       "        0.01435551,  0.00584481,  0.16038311,  0.00721697,  0.0039445 ,\n",
       "        0.01021145,  0.00584481,  0.00455601,  0.00256643,  0.00169304])"
      ]
     },
     "execution_count": 560,
     "metadata": {},
     "output_type": "execute_result"
    }
   ],
   "source": [
    "rangee = (X_train-min_train).max(axis=0)\n",
    "rangee"
   ]
  },
  {
   "cell_type": "code",
   "execution_count": 561,
   "metadata": {},
   "outputs": [
    {
     "data": {
      "text/plain": [
       "array([[ 0.06107047,  0.13743008,  0.04580286, ...,  0.04096037,\n",
       "         0.        ,  0.        ],\n",
       "       [ 0.07023738,  0.32949904,  0.01755935, ...,  0.0488969 ,\n",
       "         0.        ,  0.        ],\n",
       "       [ 0.17949349,  0.20679437,  0.17949349, ...,  0.14348863,\n",
       "         0.27587439,  0.        ],\n",
       "       ..., \n",
       "       [ 0.06614826,  0.04970993,  0.03307413, ...,  0.04535662,\n",
       "         0.        ,  0.        ],\n",
       "       [ 0.04382292,  0.22821305,  0.13146875, ...,  0.10190978,\n",
       "         0.        ,  0.        ],\n",
       "       [ 0.00857307,  0.08302556,  0.0192894 , ...,  0.03262111,\n",
       "         0.03952939,  0.        ]])"
      ]
     },
     "execution_count": 561,
     "metadata": {},
     "output_type": "execute_result"
    }
   ],
   "source": [
    "x_normalized = (X_train-min_train)/rangee\n",
    "x_normalized"
   ]
  },
  {
   "cell_type": "code",
   "execution_count": 562,
   "metadata": {},
   "outputs": [
    {
     "data": {
      "text/plain": [
       "array([ 0.,  0.,  0.,  0.,  0.,  0.,  0.,  0.,  0.,  0.,  0.,  0.,  0.,\n",
       "        0.,  0.,  0.,  0.,  0.,  0.,  0.])"
      ]
     },
     "execution_count": 562,
     "metadata": {},
     "output_type": "execute_result"
    }
   ],
   "source": [
    "x_normalized.min(axis=0)"
   ]
  },
  {
   "cell_type": "code",
   "execution_count": 563,
   "metadata": {},
   "outputs": [
    {
     "data": {
      "text/plain": [
       "array([ 1.,  1.,  1.,  1.,  1.,  1.,  1.,  1.,  1.,  1.,  1.,  1.,  1.,\n",
       "        1.,  1.,  1.,  1.,  1.,  1.,  1.])"
      ]
     },
     "execution_count": 563,
     "metadata": {},
     "output_type": "execute_result"
    }
   ],
   "source": [
    "x_normalized.max(axis=0)"
   ]
  },
  {
   "cell_type": "code",
   "execution_count": 564,
   "metadata": {},
   "outputs": [
    {
     "data": {
      "text/plain": [
       "array([[ 0.        ,  0.22203294,  0.03201554, ...,  0.0435236 ,\n",
       "         0.09841322,  0.        ],\n",
       "       [ 0.07087205,  0.05399477,  0.03543602, ...,  0.11080597,\n",
       "         0.        ,  0.16511984],\n",
       "       [ 0.10078425,  0.17254659,  0.05039212, ...,  0.07534376,\n",
       "         0.1549014 ,  0.        ],\n",
       "       ..., \n",
       "       [ 0.12091634,  0.135949  ,  0.12091634, ...,  0.19746066,\n",
       "         0.        ,  0.        ],\n",
       "       [ 0.08142256,  0.28513466,  0.12213384, ...,  0.19956882,\n",
       "         0.        ,  0.        ],\n",
       "       [ 0.2049372 ,  0.11363762,  0.1024686 , ...,  0.16551729,\n",
       "         0.        ,  0.        ]])"
      ]
     },
     "execution_count": 564,
     "metadata": {},
     "output_type": "execute_result"
    }
   ],
   "source": [
    "x_test_normalized = (X_test-min_train)/rangee\n",
    "x_test_normalized"
   ]
  },
  {
   "cell_type": "code",
   "execution_count": 565,
   "metadata": {},
   "outputs": [
    {
     "data": {
      "text/plain": [
       "SVC(C=1.0, cache_size=200, class_weight=None, coef0=0.0,\n",
       "  decision_function_shape=None, degree=3, gamma='auto', kernel='rbf',\n",
       "  max_iter=-1, probability=False, random_state=0, shrinking=True,\n",
       "  tol=0.001, verbose=False)"
      ]
     },
     "execution_count": 565,
     "metadata": {},
     "output_type": "execute_result"
    }
   ],
   "source": [
    "svm_normalized = svm.SVC(random_state=0)\n",
    "svm_normalized  = svm_normalized.fit(x_normalized, y_train)\n",
    "svm_normalized "
   ]
  },
  {
   "cell_type": "code",
   "execution_count": 566,
   "metadata": {},
   "outputs": [
    {
     "data": {
      "text/plain": [
       "array([1, 1, 1, 1, 1, 1, 1, 1, 1, 1, 1, 1, 1, 1, 1, 1, 1, 1, 1, 1, 1, 1, 1,\n",
       "       1, 1, 1, 1, 1, 1, 1, 1, 1, 1, 1, 1, 1, 1, 1, 1, 1, 1, 1, 1, 1, 1, 1,\n",
       "       1, 1, 1, 1, 1, 1, 1, 1, 1, 1, 1, 1, 1, 1, 1, 1, 1, 1, 1, 1, 1, 1, 1,\n",
       "       1, 1, 1, 1, 1, 1, 1, 1, 1, 1, 1, 1, 1, 1, 1, 1, 1, 1, 1, 1, 1, 1, 1,\n",
       "       1, 1, 1, 1, 1, 1, 1, 1, 1, 1, 1, 1, 1, 1, 1, 1, 1, 1, 1, 1, 1, 1, 1,\n",
       "       1, 1, 1, 1, 1, 1, 1, 1, 1, 1, 1, 1, 1, 1, 1, 1, 1, 1, 1, 1, 1, 1, 1,\n",
       "       1, 1, 1, 1, 1, 1, 1, 1, 1, 1, 1, 1, 1, 1, 1, 1, 1, 1, 1, 1, 1, 1, 1,\n",
       "       1, 1, 1, 1, 1, 1, 1, 1, 1, 1, 1, 1, 1, 1, 1, 1, 1, 1, 1, 1, 1, 1, 1,\n",
       "       1, 1, 1, 1, 1, 1, 1, 1, 1, 1, 1, 1, 1, 1, 1, 1, 1, 1, 1, 1, 1, 1, 1,\n",
       "       1, 1, 1, 1, 1, 1, 1, 1, 1, 1, 1, 1, 1, 1, 1, 1, 1, 1, 1, 1, 1, 1, 1,\n",
       "       1, 1, 1, 1, 1, 1, 1, 1, 1, 1, 1, 1, 1, 1, 1, 1, 1, 1, 1, 1], dtype=int64)"
      ]
     },
     "execution_count": 566,
     "metadata": {},
     "output_type": "execute_result"
    }
   ],
   "source": [
    "svm_normalized_pred = svm_normalized.predict(x_test_normalized)\n",
    "svm_normalized_pred "
   ]
  },
  {
   "cell_type": "code",
   "execution_count": 567,
   "metadata": {},
   "outputs": [
    {
     "data": {
      "text/plain": [
       "993    1\n",
       "859    1\n",
       "298    1\n",
       "553    1\n",
       "672    1\n",
       "971    1\n",
       "27     1\n",
       "231    1\n",
       "306    1\n",
       "706    2\n",
       "496    2\n",
       "558    2\n",
       "784    1\n",
       "239    1\n",
       "578    2\n",
       "55     1\n",
       "906    1\n",
       "175    2\n",
       "14     1\n",
       "77     1\n",
       "31     1\n",
       "481    1\n",
       "310    1\n",
       "311    1\n",
       "883    1\n",
       "788    2\n",
       "45     1\n",
       "103    1\n",
       "760    1\n",
       "1      2\n",
       "      ..\n",
       "805    2\n",
       "592    1\n",
       "964    1\n",
       "266    1\n",
       "406    1\n",
       "294    1\n",
       "604    1\n",
       "522    2\n",
       "18     2\n",
       "425    1\n",
       "527    1\n",
       "308    2\n",
       "622    2\n",
       "794    1\n",
       "62     2\n",
       "79     1\n",
       "680    1\n",
       "193    1\n",
       "750    1\n",
       "181    2\n",
       "535    2\n",
       "484    1\n",
       "200    1\n",
       "364    2\n",
       "991    1\n",
       "462    1\n",
       "356    1\n",
       "2      1\n",
       "478    1\n",
       "695    1\n",
       "Name: default, Length: 250, dtype: int64"
      ]
     },
     "execution_count": 567,
     "metadata": {},
     "output_type": "execute_result"
    }
   ],
   "source": [
    "y_test"
   ]
  },
  {
   "cell_type": "code",
   "execution_count": 568,
   "metadata": {},
   "outputs": [
    {
     "data": {
      "text/plain": [
       "array([234, 226])"
      ]
     },
     "execution_count": 568,
     "metadata": {},
     "output_type": "execute_result"
    }
   ],
   "source": [
    "svm_normalized.n_support_"
   ]
  },
  {
   "cell_type": "code",
   "execution_count": 569,
   "metadata": {},
   "outputs": [
    {
     "name": "stdout",
     "output_type": "stream",
     "text": [
      "Test Confusion matrix:\n",
      "[[176   0]\n",
      " [ 74   0]]\n"
     ]
    }
   ],
   "source": [
    "print('Test Confusion matrix:')\n",
    "print(confusion_matrix(y_test, svm_normalized_pred))"
   ]
  },
  {
   "cell_type": "code",
   "execution_count": 570,
   "metadata": {},
   "outputs": [
    {
     "name": "stdout",
     "output_type": "stream",
     "text": [
      "classification report:\n",
      "             precision    recall  f1-score   support\n",
      "\n",
      "          1       0.70      1.00      0.83       176\n",
      "          2       0.00      0.00      0.00        74\n",
      "\n",
      "avg / total       0.50      0.70      0.58       250\n",
      "\n"
     ]
    },
    {
     "name": "stderr",
     "output_type": "stream",
     "text": [
      "C:\\ProgramData\\Anaconda3\\lib\\site-packages\\sklearn\\metrics\\classification.py:1113: UndefinedMetricWarning: Precision and F-score are ill-defined and being set to 0.0 in labels with no predicted samples.\n",
      "  'precision', 'predicted', average, warn_for)\n"
     ]
    }
   ],
   "source": [
    "print('classification report:')\n",
    "print(classification_report(y_test, svm_normalized_pred))"
   ]
  },
  {
   "cell_type": "code",
   "execution_count": 571,
   "metadata": {},
   "outputs": [
    {
     "name": "stdout",
     "output_type": "stream",
     "text": [
      "Test Accuracy\n",
      "0.704\n"
     ]
    }
   ],
   "source": [
    "print('Test Accuracy')\n",
    "print(svm_normalized.score(x_test_normalized, y_test))"
   ]
  },
  {
   "cell_type": "code",
   "execution_count": 572,
   "metadata": {},
   "outputs": [
    {
     "name": "stdout",
     "output_type": "stream",
     "text": [
      "Train Accuracy\n",
      "0.698666666667\n"
     ]
    }
   ],
   "source": [
    "print('Train Accuracy')\n",
    "print(svm_normalized.score(x_normalized, y_train))"
   ]
  },
  {
   "cell_type": "code",
   "execution_count": 573,
   "metadata": {},
   "outputs": [
    {
     "data": {
      "text/plain": [
       "SVC(C=0.1, cache_size=200, class_weight=None, coef0=0.0,\n",
       "  decision_function_shape=None, degree=3, gamma=0.1, kernel='rbf',\n",
       "  max_iter=-1, probability=False, random_state=0, shrinking=True,\n",
       "  tol=0.001, verbose=False)"
      ]
     },
     "execution_count": 573,
     "metadata": {},
     "output_type": "execute_result"
    }
   ],
   "source": [
    "svm_normalized01 = svm.SVC(random_state=0, C=0.1, gamma=0.1)\n",
    "svm_normalized01  = svm_normalized01.fit(x_normalized, y_train)\n",
    "svm_normalized01 "
   ]
  },
  {
   "cell_type": "code",
   "execution_count": 574,
   "metadata": {},
   "outputs": [
    {
     "data": {
      "text/plain": [
       "array([234, 226])"
      ]
     },
     "execution_count": 574,
     "metadata": {},
     "output_type": "execute_result"
    }
   ],
   "source": [
    "svm_normalized01.n_support_"
   ]
  },
  {
   "cell_type": "code",
   "execution_count": 575,
   "metadata": {
    "collapsed": true
   },
   "outputs": [],
   "source": [
    "svm_normalized01_pred= svm_normalized01.predict(x_test_normalized)"
   ]
  },
  {
   "cell_type": "code",
   "execution_count": 576,
   "metadata": {},
   "outputs": [
    {
     "name": "stdout",
     "output_type": "stream",
     "text": [
      "classification report:\n",
      "             precision    recall  f1-score   support\n",
      "\n",
      "          1       0.70      1.00      0.83       176\n",
      "          2       0.00      0.00      0.00        74\n",
      "\n",
      "avg / total       0.50      0.70      0.58       250\n",
      "\n"
     ]
    },
    {
     "name": "stderr",
     "output_type": "stream",
     "text": [
      "C:\\ProgramData\\Anaconda3\\lib\\site-packages\\sklearn\\metrics\\classification.py:1113: UndefinedMetricWarning: Precision and F-score are ill-defined and being set to 0.0 in labels with no predicted samples.\n",
      "  'precision', 'predicted', average, warn_for)\n"
     ]
    }
   ],
   "source": [
    "print('classification report:')\n",
    "print(classification_report(y_test, svm_normalized01_pred))"
   ]
  },
  {
   "cell_type": "code",
   "execution_count": 577,
   "metadata": {},
   "outputs": [
    {
     "name": "stdout",
     "output_type": "stream",
     "text": [
      "Test Accuracy\n",
      "0.704\n"
     ]
    }
   ],
   "source": [
    "print('Test Accuracy')\n",
    "print(svm_normalized01.score(x_test_normalized, y_test))"
   ]
  },
  {
   "cell_type": "code",
   "execution_count": 578,
   "metadata": {},
   "outputs": [
    {
     "name": "stdout",
     "output_type": "stream",
     "text": [
      "Train Accuracy\n",
      "0.698666666667\n"
     ]
    }
   ],
   "source": [
    "print('Train Accuracy')\n",
    "print(svm_normalized01.score(x_normalized, y_train))"
   ]
  },
  {
   "cell_type": "code",
   "execution_count": 579,
   "metadata": {},
   "outputs": [
    {
     "data": {
      "text/plain": [
       "SVC(C=0.1, cache_size=200, class_weight=None, coef0=0.0,\n",
       "  decision_function_shape=None, degree=3, gamma=1.0, kernel='rbf',\n",
       "  max_iter=-1, probability=False, random_state=0, shrinking=True,\n",
       "  tol=0.001, verbose=False)"
      ]
     },
     "execution_count": 579,
     "metadata": {},
     "output_type": "execute_result"
    }
   ],
   "source": [
    "svm_normalized011 = svm.SVC(random_state=0, C=0.1, gamma=1.0)\n",
    "svm_normalized011  = svm_normalized011.fit(x_normalized, y_train)\n",
    "svm_normalized011 "
   ]
  },
  {
   "cell_type": "code",
   "execution_count": 580,
   "metadata": {
    "collapsed": true
   },
   "outputs": [],
   "source": [
    "svm_normalized011_pred= svm_normalized011.predict(x_test_normalized)"
   ]
  },
  {
   "cell_type": "code",
   "execution_count": 581,
   "metadata": {},
   "outputs": [
    {
     "data": {
      "text/plain": [
       "array([248, 226])"
      ]
     },
     "execution_count": 581,
     "metadata": {},
     "output_type": "execute_result"
    }
   ],
   "source": [
    "svm_normalized011.n_support_"
   ]
  },
  {
   "cell_type": "code",
   "execution_count": 582,
   "metadata": {},
   "outputs": [
    {
     "name": "stdout",
     "output_type": "stream",
     "text": [
      "classification report:\n",
      "             precision    recall  f1-score   support\n",
      "\n",
      "          1       0.70      1.00      0.83       176\n",
      "          2       0.00      0.00      0.00        74\n",
      "\n",
      "avg / total       0.50      0.70      0.58       250\n",
      "\n"
     ]
    },
    {
     "name": "stderr",
     "output_type": "stream",
     "text": [
      "C:\\ProgramData\\Anaconda3\\lib\\site-packages\\sklearn\\metrics\\classification.py:1113: UndefinedMetricWarning: Precision and F-score are ill-defined and being set to 0.0 in labels with no predicted samples.\n",
      "  'precision', 'predicted', average, warn_for)\n"
     ]
    }
   ],
   "source": [
    "print('classification report:')\n",
    "print(classification_report(y_test, svm_normalized011_pred))"
   ]
  },
  {
   "cell_type": "code",
   "execution_count": 583,
   "metadata": {},
   "outputs": [
    {
     "name": "stdout",
     "output_type": "stream",
     "text": [
      "Test Accuracy\n",
      "0.704\n"
     ]
    }
   ],
   "source": [
    "print('Test Accuracy')\n",
    "print(svm_normalized011.score(x_test_normalized, y_test))"
   ]
  },
  {
   "cell_type": "code",
   "execution_count": 584,
   "metadata": {},
   "outputs": [
    {
     "name": "stdout",
     "output_type": "stream",
     "text": [
      "Train Accuracy\n",
      "0.698666666667\n"
     ]
    }
   ],
   "source": [
    "print('Train Accuracy')\n",
    "print(svm_normalized011.score(x_normalized, y_train))"
   ]
  },
  {
   "cell_type": "code",
   "execution_count": 585,
   "metadata": {},
   "outputs": [
    {
     "data": {
      "text/plain": [
       "SVC(C=0.1, cache_size=200, class_weight=None, coef0=0.0,\n",
       "  decision_function_shape=None, degree=3, gamma=10, kernel='rbf',\n",
       "  max_iter=-1, probability=False, random_state=0, shrinking=True,\n",
       "  tol=0.001, verbose=False)"
      ]
     },
     "execution_count": 585,
     "metadata": {},
     "output_type": "execute_result"
    }
   ],
   "source": [
    "svm_normalized0110 = svm.SVC(random_state=0, C=0.1, gamma=10)\n",
    "svm_normalized0110  = svm_normalized0110.fit(x_normalized, y_train)\n",
    "svm_normalized0110 "
   ]
  },
  {
   "cell_type": "code",
   "execution_count": 586,
   "metadata": {
    "collapsed": true
   },
   "outputs": [],
   "source": [
    "svm_normalized0110_pred= svm_normalized0110.predict(x_test_normalized)"
   ]
  },
  {
   "cell_type": "code",
   "execution_count": 587,
   "metadata": {},
   "outputs": [
    {
     "name": "stdout",
     "output_type": "stream",
     "text": [
      "classification report:\n",
      "             precision    recall  f1-score   support\n",
      "\n",
      "          1       0.70      1.00      0.83       176\n",
      "          2       0.00      0.00      0.00        74\n",
      "\n",
      "avg / total       0.50      0.70      0.58       250\n",
      "\n"
     ]
    },
    {
     "name": "stderr",
     "output_type": "stream",
     "text": [
      "C:\\ProgramData\\Anaconda3\\lib\\site-packages\\sklearn\\metrics\\classification.py:1113: UndefinedMetricWarning: Precision and F-score are ill-defined and being set to 0.0 in labels with no predicted samples.\n",
      "  'precision', 'predicted', average, warn_for)\n"
     ]
    }
   ],
   "source": [
    "print('classification report:')\n",
    "print(classification_report(y_test, svm_normalized0110_pred))"
   ]
  },
  {
   "cell_type": "code",
   "execution_count": 588,
   "metadata": {},
   "outputs": [
    {
     "name": "stdout",
     "output_type": "stream",
     "text": [
      "Test Accuracy\n",
      "0.704\n"
     ]
    }
   ],
   "source": [
    "print('Test Accuracy')\n",
    "print(svm_normalized0110.score(x_test_normalized, y_test))"
   ]
  },
  {
   "cell_type": "code",
   "execution_count": 589,
   "metadata": {},
   "outputs": [
    {
     "name": "stdout",
     "output_type": "stream",
     "text": [
      "Train Accuracy\n",
      "0.698666666667\n"
     ]
    }
   ],
   "source": [
    "print('Train Accuracy')\n",
    "print(svm_normalized0110.score(x_normalized, y_train))"
   ]
  },
  {
   "cell_type": "code",
   "execution_count": 590,
   "metadata": {},
   "outputs": [
    {
     "data": {
      "text/plain": [
       "SVC(C=1000, cache_size=200, class_weight=None, coef0=0.0,\n",
       "  decision_function_shape=None, degree=3, gamma=0.1, kernel='rbf',\n",
       "  max_iter=-1, probability=False, random_state=0, shrinking=True,\n",
       "  tol=0.001, verbose=False)"
      ]
     },
     "execution_count": 590,
     "metadata": {},
     "output_type": "execute_result"
    }
   ],
   "source": [
    "svm_normalized100001 = svm.SVC(random_state=0, C=1000, gamma=0.1)\n",
    "svm_normalized100001 = svm_normalized100001.fit(x_normalized, y_train)\n",
    "svm_normalized100001 "
   ]
  },
  {
   "cell_type": "code",
   "execution_count": 591,
   "metadata": {
    "collapsed": true
   },
   "outputs": [],
   "source": [
    "svm_normalized100001_pred= svm_normalized100001.predict(x_test_normalized)"
   ]
  },
  {
   "cell_type": "code",
   "execution_count": 592,
   "metadata": {},
   "outputs": [
    {
     "name": "stdout",
     "output_type": "stream",
     "text": [
      "classification report:\n",
      "             precision    recall  f1-score   support\n",
      "\n",
      "          1       0.75      0.93      0.83       176\n",
      "          2       0.62      0.28      0.39        74\n",
      "\n",
      "avg / total       0.71      0.74      0.70       250\n",
      "\n"
     ]
    }
   ],
   "source": [
    "print('classification report:')\n",
    "print(classification_report(y_test, svm_normalized100001_pred))"
   ]
  },
  {
   "cell_type": "code",
   "execution_count": 593,
   "metadata": {},
   "outputs": [
    {
     "name": "stdout",
     "output_type": "stream",
     "text": [
      "Test Accuracy\n",
      "0.736\n"
     ]
    }
   ],
   "source": [
    "print('Test Accuracy')\n",
    "print(svm_normalized100001.score(x_test_normalized, y_test))"
   ]
  },
  {
   "cell_type": "code",
   "execution_count": 594,
   "metadata": {},
   "outputs": [
    {
     "name": "stdout",
     "output_type": "stream",
     "text": [
      "Train Accuracy\n",
      "0.801333333333\n"
     ]
    }
   ],
   "source": [
    "print('Train Accuracy')\n",
    "print(svm_normalized100001.score(x_normalized, y_train))"
   ]
  },
  {
   "cell_type": "code",
   "execution_count": 595,
   "metadata": {},
   "outputs": [
    {
     "data": {
      "text/plain": [
       "SVC(C=1000, cache_size=200, class_weight=None, coef0=0.0,\n",
       "  decision_function_shape=None, degree=3, gamma=1.0, kernel='rbf',\n",
       "  max_iter=-1, probability=False, random_state=0, shrinking=True,\n",
       "  tol=0.001, verbose=False)"
      ]
     },
     "execution_count": 595,
     "metadata": {},
     "output_type": "execute_result"
    }
   ],
   "source": [
    "svm_normalized10001 = svm.SVC(random_state=0, C=1000, gamma=1.0)\n",
    "svm_normalized10001 = svm_normalized10001.fit(x_normalized, y_train)\n",
    "svm_normalized10001 "
   ]
  },
  {
   "cell_type": "code",
   "execution_count": 596,
   "metadata": {
    "collapsed": true
   },
   "outputs": [],
   "source": [
    "svm_normalized10001_pred= svm_normalized10001.predict(x_test_normalized)"
   ]
  },
  {
   "cell_type": "code",
   "execution_count": 597,
   "metadata": {},
   "outputs": [
    {
     "name": "stdout",
     "output_type": "stream",
     "text": [
      "classification report:\n",
      "             precision    recall  f1-score   support\n",
      "\n",
      "          1       0.80      0.85      0.82       176\n",
      "          2       0.57      0.49      0.53        74\n",
      "\n",
      "avg / total       0.73      0.74      0.73       250\n",
      "\n"
     ]
    }
   ],
   "source": [
    "print('classification report:')\n",
    "print(classification_report(y_test, svm_normalized10001_pred))"
   ]
  },
  {
   "cell_type": "code",
   "execution_count": 598,
   "metadata": {},
   "outputs": [
    {
     "name": "stdout",
     "output_type": "stream",
     "text": [
      "Test Accuracy\n",
      "0.74\n"
     ]
    }
   ],
   "source": [
    "print('Test Accuracy')\n",
    "print(svm_normalized10001.score(x_test_normalized, y_test))"
   ]
  },
  {
   "cell_type": "code",
   "execution_count": 599,
   "metadata": {},
   "outputs": [
    {
     "name": "stdout",
     "output_type": "stream",
     "text": [
      "Train Accuracy\n",
      "0.890666666667\n"
     ]
    }
   ],
   "source": [
    "print('Train Accuracy')\n",
    "print(svm_normalized10001.score(x_normalized, y_train))"
   ]
  },
  {
   "cell_type": "code",
   "execution_count": 600,
   "metadata": {},
   "outputs": [
    {
     "data": {
      "text/plain": [
       "SVC(C=1000, cache_size=200, class_weight=None, coef0=0.0,\n",
       "  decision_function_shape=None, degree=3, gamma=10, kernel='rbf',\n",
       "  max_iter=-1, probability=False, random_state=0, shrinking=True,\n",
       "  tol=0.001, verbose=False)"
      ]
     },
     "execution_count": 600,
     "metadata": {},
     "output_type": "execute_result"
    }
   ],
   "source": [
    "svm_normalized100010 = svm.SVC(random_state=0, C=1000, gamma=10)\n",
    "svm_normalized100010 = svm_normalized100010.fit(x_normalized, y_train)\n",
    "svm_normalized100010 "
   ]
  },
  {
   "cell_type": "code",
   "execution_count": 601,
   "metadata": {},
   "outputs": [
    {
     "data": {
      "text/plain": [
       "array([272, 164])"
      ]
     },
     "execution_count": 601,
     "metadata": {},
     "output_type": "execute_result"
    }
   ],
   "source": [
    "svm_normalized100010.n_support_"
   ]
  },
  {
   "cell_type": "code",
   "execution_count": 602,
   "metadata": {
    "collapsed": true
   },
   "outputs": [],
   "source": [
    "svm_normalized100010_pred= svm_normalized100010.predict(x_test_normalized)"
   ]
  },
  {
   "cell_type": "code",
   "execution_count": 603,
   "metadata": {},
   "outputs": [
    {
     "name": "stdout",
     "output_type": "stream",
     "text": [
      "classification report:\n",
      "             precision    recall  f1-score   support\n",
      "\n",
      "          1       0.74      0.76      0.75       176\n",
      "          2       0.39      0.36      0.38        74\n",
      "\n",
      "avg / total       0.64      0.64      0.64       250\n",
      "\n"
     ]
    }
   ],
   "source": [
    "print('classification report:')\n",
    "print(classification_report(y_test, svm_normalized100010_pred))"
   ]
  },
  {
   "cell_type": "code",
   "execution_count": 604,
   "metadata": {},
   "outputs": [
    {
     "name": "stdout",
     "output_type": "stream",
     "text": [
      "Test Accuracy\n",
      "0.644\n"
     ]
    }
   ],
   "source": [
    "print('Test Accuracy')\n",
    "print(svm_normalized100010.score(x_test_normalized, y_test))"
   ]
  },
  {
   "cell_type": "code",
   "execution_count": 605,
   "metadata": {},
   "outputs": [
    {
     "name": "stdout",
     "output_type": "stream",
     "text": [
      "Train Accuracy\n",
      "0.988\n"
     ]
    }
   ],
   "source": [
    "print('Train Accuracy')\n",
    "print(svm_normalized100010.score(x_normalized, y_train))"
   ]
  },
  {
   "cell_type": "code",
   "execution_count": 606,
   "metadata": {
    "collapsed": true
   },
   "outputs": [],
   "source": [
    "from sklearn.grid_search import GridSearchCV"
   ]
  },
  {
   "cell_type": "code",
   "execution_count": 607,
   "metadata": {},
   "outputs": [
    {
     "name": "stdout",
     "output_type": "stream",
     "text": [
      "best params: {'C': 1, 'gamma': 0.0001, 'kernel': 'rbf'}\n",
      "best score: 0.6986666666666667\n"
     ]
    }
   ],
   "source": [
    "svm_cv = svm.SVC(random_state = 0)\n",
    "svm_params = [\n",
    "    {'kernel':['rbf'], 'gamma':[1e-4, 1e-3, 0.01, 0.1],\n",
    "    'C':[1, 10, 100, 1000]},\n",
    "    {'kernel':['linear'], 'C': [1, 10, 100, 1000]}\n",
    "]\n",
    "\n",
    "grid_clf = GridSearchCV(svm_cv, svm_params, cv = 5)\n",
    "grid_clf.fit(X_train, y_train)\n",
    "print('best params:', grid_clf.best_params_)\n",
    "print('best score:', grid_clf.best_score_)"
   ]
  },
  {
   "cell_type": "code",
   "execution_count": 608,
   "metadata": {},
   "outputs": [
    {
     "data": {
      "text/plain": [
       "SVC(C=1, cache_size=200, class_weight=None, coef0=0.0,\n",
       "  decision_function_shape=None, degree=3, gamma='auto', kernel='rbf',\n",
       "  max_iter=-1, probability=False, random_state=0, shrinking=True,\n",
       "  tol=0.001, verbose=False)"
      ]
     },
     "execution_count": 608,
     "metadata": {},
     "output_type": "execute_result"
    }
   ],
   "source": [
    "svm_bestparams = svm.SVC(C= grid_clf.best_params_['C'],\n",
    "                         kernel = grid_clf.best_params_['kernel'],\n",
    "                         random_state = 0)\n",
    "svm_bestparams.fit(X_train, y_train)"
   ]
  },
  {
   "cell_type": "code",
   "execution_count": 609,
   "metadata": {
    "collapsed": true
   },
   "outputs": [],
   "source": [
    "import mglearn"
   ]
  },
  {
   "cell_type": "code",
   "execution_count": 610,
   "metadata": {},
   "outputs": [
    {
     "data": {
      "text/plain": [
       "<matplotlib.legend.Legend at 0x16e98e87828>"
      ]
     },
     "execution_count": 610,
     "metadata": {},
     "output_type": "execute_result"
    },
    {
     "data": {
      "image/png": "[encoded data removed]",
      "text/plain": [
       "<matplotlib.figure.Figure at 0x16e99fac5c0>"
      ]
     },
     "metadata": {},
     "output_type": "display_data"
    }
   ],
   "source": [
    "fig, axes = plt.subplots(3,3,figsize=(15,10))\n",
    "\n",
    "for ax, C in zip(axes, [-1 ,0, 3]):\n",
    "    for a, gamma in zip(ax, np.arange(-1,2)):\n",
    "        mglearn.plots.plot_svm(log_C=C, log_gamma=gamma, ax = a)\n",
    "        \n",
    "axes[0,0].legend([\"Class 0\", \"Class 1\", \"Class 0 support vector\", \"Class support vector\"], ncol=4, loc=(.9,1.2))        "
   ]
  },
  {
   "cell_type": "markdown",
   "metadata": {},
   "source": [
    "## 인공신경망 예제"
   ]
  },
  {
   "cell_type": "code",
   "execution_count": 611,
   "metadata": {
    "collapsed": true
   },
   "outputs": [],
   "source": [
    "from sklearn import datasets\n",
    "import numpy as np\n",
    "import pandas as pd\n",
    "from sklearn.metrics import accuracy_score\n",
    "from sklearn.metrics import classification_report\n",
    "from sklearn.metrics import confusion_matrix\n",
    "import matplotlib.pyplot as plt\n",
    "from sklearn import svm\n",
    "%matplotlib inline"
   ]
  },
  {
   "cell_type": "code",
   "execution_count": 612,
   "metadata": {},
   "outputs": [
    {
     "name": "stdout",
     "output_type": "stream",
     "text": [
      "data size: \n",
      "(1000, 21)\n",
      "credit.key(): \n",
      "Index(['checkingstatus', 'duration', 'history', 'purpose', 'amount', 'savings',\n",
      "       'employ', 'installment', 'status', 'cosigners', 'residence',\n",
      "       'collateral', 'age', 'otherplans', 'housing', 'existing', 'job', 'no',\n",
      "       'telephone', 'foreign', 'default'],\n",
      "      dtype='object')\n"
     ]
    },
    {
     "data": {
      "text/html": [
       "<div>\n",
       "<style>\n",
       "    .dataframe thead tr:only-child th {\n",
       "        text-align: right;\n",
       "    }\n",
       "\n",
       "    .dataframe thead th {\n",
       "        text-align: left;\n",
       "    }\n",
       "\n",
       "    .dataframe tbody tr th {\n",
       "        vertical-align: top;\n",
       "    }\n",
       "</style>\n",
       "<table border=\"1\" class=\"dataframe\">\n",
       "  <thead>\n",
       "    <tr style=\"text-align: right;\">\n",
       "      <th></th>\n",
       "      <th>checkingstatus</th>\n",
       "      <th>duration</th>\n",
       "      <th>history</th>\n",
       "      <th>purpose</th>\n",
       "      <th>amount</th>\n",
       "      <th>savings</th>\n",
       "      <th>employ</th>\n",
       "      <th>installment</th>\n",
       "      <th>status</th>\n",
       "      <th>cosigners</th>\n",
       "      <th>...</th>\n",
       "      <th>collateral</th>\n",
       "      <th>age</th>\n",
       "      <th>otherplans</th>\n",
       "      <th>housing</th>\n",
       "      <th>existing</th>\n",
       "      <th>job</th>\n",
       "      <th>no</th>\n",
       "      <th>telephone</th>\n",
       "      <th>foreign</th>\n",
       "      <th>default</th>\n",
       "    </tr>\n",
       "  </thead>\n",
       "  <tbody>\n",
       "    <tr>\n",
       "      <th>0</th>\n",
       "      <td>A11</td>\n",
       "      <td>6</td>\n",
       "      <td>A34</td>\n",
       "      <td>A43</td>\n",
       "      <td>1169</td>\n",
       "      <td>A65</td>\n",
       "      <td>A75</td>\n",
       "      <td>4</td>\n",
       "      <td>A93</td>\n",
       "      <td>A101</td>\n",
       "      <td>...</td>\n",
       "      <td>A121</td>\n",
       "      <td>67</td>\n",
       "      <td>A143</td>\n",
       "      <td>A152</td>\n",
       "      <td>2</td>\n",
       "      <td>A173</td>\n",
       "      <td>1</td>\n",
       "      <td>A192</td>\n",
       "      <td>A201</td>\n",
       "      <td>1</td>\n",
       "    </tr>\n",
       "    <tr>\n",
       "      <th>1</th>\n",
       "      <td>A12</td>\n",
       "      <td>48</td>\n",
       "      <td>A32</td>\n",
       "      <td>A43</td>\n",
       "      <td>5951</td>\n",
       "      <td>A61</td>\n",
       "      <td>A73</td>\n",
       "      <td>2</td>\n",
       "      <td>A92</td>\n",
       "      <td>A101</td>\n",
       "      <td>...</td>\n",
       "      <td>A121</td>\n",
       "      <td>22</td>\n",
       "      <td>A143</td>\n",
       "      <td>A152</td>\n",
       "      <td>1</td>\n",
       "      <td>A173</td>\n",
       "      <td>1</td>\n",
       "      <td>A191</td>\n",
       "      <td>A201</td>\n",
       "      <td>2</td>\n",
       "    </tr>\n",
       "    <tr>\n",
       "      <th>2</th>\n",
       "      <td>A14</td>\n",
       "      <td>12</td>\n",
       "      <td>A34</td>\n",
       "      <td>A46</td>\n",
       "      <td>2096</td>\n",
       "      <td>A61</td>\n",
       "      <td>A74</td>\n",
       "      <td>2</td>\n",
       "      <td>A93</td>\n",
       "      <td>A101</td>\n",
       "      <td>...</td>\n",
       "      <td>A121</td>\n",
       "      <td>49</td>\n",
       "      <td>A143</td>\n",
       "      <td>A152</td>\n",
       "      <td>1</td>\n",
       "      <td>A172</td>\n",
       "      <td>2</td>\n",
       "      <td>A191</td>\n",
       "      <td>A201</td>\n",
       "      <td>1</td>\n",
       "    </tr>\n",
       "    <tr>\n",
       "      <th>3</th>\n",
       "      <td>A11</td>\n",
       "      <td>42</td>\n",
       "      <td>A32</td>\n",
       "      <td>A42</td>\n",
       "      <td>7882</td>\n",
       "      <td>A61</td>\n",
       "      <td>A74</td>\n",
       "      <td>2</td>\n",
       "      <td>A93</td>\n",
       "      <td>A103</td>\n",
       "      <td>...</td>\n",
       "      <td>A122</td>\n",
       "      <td>45</td>\n",
       "      <td>A143</td>\n",
       "      <td>A153</td>\n",
       "      <td>1</td>\n",
       "      <td>A173</td>\n",
       "      <td>2</td>\n",
       "      <td>A191</td>\n",
       "      <td>A201</td>\n",
       "      <td>1</td>\n",
       "    </tr>\n",
       "    <tr>\n",
       "      <th>4</th>\n",
       "      <td>A11</td>\n",
       "      <td>24</td>\n",
       "      <td>A33</td>\n",
       "      <td>A40</td>\n",
       "      <td>4870</td>\n",
       "      <td>A61</td>\n",
       "      <td>A73</td>\n",
       "      <td>3</td>\n",
       "      <td>A93</td>\n",
       "      <td>A101</td>\n",
       "      <td>...</td>\n",
       "      <td>A124</td>\n",
       "      <td>53</td>\n",
       "      <td>A143</td>\n",
       "      <td>A153</td>\n",
       "      <td>2</td>\n",
       "      <td>A173</td>\n",
       "      <td>2</td>\n",
       "      <td>A191</td>\n",
       "      <td>A201</td>\n",
       "      <td>2</td>\n",
       "    </tr>\n",
       "  </tbody>\n",
       "</table>\n",
       "<p>5 rows × 21 columns</p>\n",
       "</div>"
      ],
      "text/plain": [
       "  checkingstatus  duration history purpose  amount savings employ  \\\n",
       "0            A11         6     A34     A43    1169     A65    A75   \n",
       "1            A12        48     A32     A43    5951     A61    A73   \n",
       "2            A14        12     A34     A46    2096     A61    A74   \n",
       "3            A11        42     A32     A42    7882     A61    A74   \n",
       "4            A11        24     A33     A40    4870     A61    A73   \n",
       "\n",
       "   installment status cosigners   ...    collateral age  otherplans housing  \\\n",
       "0            4    A93      A101   ...          A121  67        A143    A152   \n",
       "1            2    A92      A101   ...          A121  22        A143    A152   \n",
       "2            2    A93      A101   ...          A121  49        A143    A152   \n",
       "3            2    A93      A103   ...          A122  45        A143    A153   \n",
       "4            3    A93      A101   ...          A124  53        A143    A153   \n",
       "\n",
       "  existing   job no  telephone foreign default  \n",
       "0        2  A173  1       A192    A201       1  \n",
       "1        1  A173  1       A191    A201       2  \n",
       "2        1  A172  2       A191    A201       1  \n",
       "3        1  A173  2       A191    A201       1  \n",
       "4        2  A173  2       A191    A201       2  \n",
       "\n",
       "[5 rows x 21 columns]"
      ]
     },
     "execution_count": 612,
     "metadata": {},
     "output_type": "execute_result"
    }
   ],
   "source": [
    "credit = pd.read_csv(\"credit.csv\")\n",
    "print(\"data size: \\n{}\".format(credit.shape))\n",
    "print(\"credit.key(): \\n{}\".format(credit.keys()))\n",
    "credit.head()"
   ]
  },
  {
   "cell_type": "code",
   "execution_count": 613,
   "metadata": {
    "collapsed": true
   },
   "outputs": [],
   "source": [
    "import numpy as np\n",
    "from sklearn import preprocessing\n",
    "from sklearn import utils"
   ]
  },
  {
   "cell_type": "code",
   "execution_count": 614,
   "metadata": {
    "collapsed": true
   },
   "outputs": [],
   "source": [
    "#checkingstatus\n",
    "le = preprocessing.LabelEncoder()\n",
    "le.fit(credit.checkingstatus)\n",
    "le.classes_\n",
    "credit.checkingstatus = le.transform(credit.checkingstatus)\n",
    "\n",
    "#history\n",
    "le = preprocessing.LabelEncoder()\n",
    "le.fit(credit.history)\n",
    "le.classes_\n",
    "credit.history = le.transform(credit.history)\n",
    "\n",
    "#purpose\n",
    "le = preprocessing.LabelEncoder()\n",
    "le.fit(credit.purpose)\n",
    "le.classes_\n",
    "credit.purpose = le.transform(credit.purpose)\n",
    "\n",
    "#savings\n",
    "le = preprocessing.LabelEncoder()\n",
    "le.fit(credit.savings)\n",
    "le.classes_\n",
    "credit.savings = le.transform(credit.savings)\n",
    "\n",
    "#employ\n",
    "le = preprocessing.LabelEncoder()\n",
    "le.fit(credit.employ)\n",
    "le.classes_\n",
    "credit.employ = le.transform(credit.employ)\n",
    "\n",
    "#status\n",
    "le = preprocessing.LabelEncoder()\n",
    "le.fit(credit.status)\n",
    "le.classes_\n",
    "credit.status = le.transform(credit.status)\n",
    "\n",
    "#cosigners\n",
    "le = preprocessing.LabelEncoder()\n",
    "le.fit(credit.cosigners)\n",
    "le.classes_\n",
    "credit.cosigners = le.transform(credit.cosigners)\n",
    "\n",
    "#collateral\n",
    "le = preprocessing.LabelEncoder()\n",
    "le.fit(credit.collateral)\n",
    "le.classes_\n",
    "credit.collateral = le.transform(credit.collateral)\n",
    "\n",
    "#otherplans\n",
    "le = preprocessing.LabelEncoder()\n",
    "le.fit(credit.otherplans)\n",
    "le.classes_\n",
    "credit.otherplans = le.transform(credit.otherplans)\n",
    "\n",
    "#housing\n",
    "le = preprocessing.LabelEncoder()\n",
    "le.fit(credit.housing)\n",
    "le.classes_\n",
    "credit.housing = le.transform(credit.housing)\n",
    "\n",
    "#job\n",
    "le = preprocessing.LabelEncoder()\n",
    "le.fit(credit.job)\n",
    "le.classes_\n",
    "credit.job = le.transform(credit.job)\n",
    "\n",
    "#telephone\n",
    "le = preprocessing.LabelEncoder()\n",
    "le.fit(credit.telephone)\n",
    "le.classes_\n",
    "credit.telephone = le.transform(credit.telephone)\n",
    "\n",
    "#foreign\n",
    "le = preprocessing.LabelEncoder()\n",
    "le.fit(credit.foreign)\n",
    "le.classes_\n",
    "credit.foreign = le.transform(credit.foreign)\n"
   ]
  },
  {
   "cell_type": "code",
   "execution_count": 615,
   "metadata": {},
   "outputs": [
    {
     "data": {
      "text/html": [
       "<div>\n",
       "<style>\n",
       "    .dataframe thead tr:only-child th {\n",
       "        text-align: right;\n",
       "    }\n",
       "\n",
       "    .dataframe thead th {\n",
       "        text-align: left;\n",
       "    }\n",
       "\n",
       "    .dataframe tbody tr th {\n",
       "        vertical-align: top;\n",
       "    }\n",
       "</style>\n",
       "<table border=\"1\" class=\"dataframe\">\n",
       "  <thead>\n",
       "    <tr style=\"text-align: right;\">\n",
       "      <th></th>\n",
       "      <th>checkingstatus</th>\n",
       "      <th>duration</th>\n",
       "      <th>history</th>\n",
       "      <th>purpose</th>\n",
       "      <th>amount</th>\n",
       "      <th>savings</th>\n",
       "      <th>employ</th>\n",
       "      <th>installment</th>\n",
       "      <th>status</th>\n",
       "      <th>cosigners</th>\n",
       "      <th>...</th>\n",
       "      <th>collateral</th>\n",
       "      <th>age</th>\n",
       "      <th>otherplans</th>\n",
       "      <th>housing</th>\n",
       "      <th>existing</th>\n",
       "      <th>job</th>\n",
       "      <th>no</th>\n",
       "      <th>telephone</th>\n",
       "      <th>foreign</th>\n",
       "      <th>default</th>\n",
       "    </tr>\n",
       "  </thead>\n",
       "  <tbody>\n",
       "    <tr>\n",
       "      <th>0</th>\n",
       "      <td>0</td>\n",
       "      <td>6</td>\n",
       "      <td>4</td>\n",
       "      <td>4</td>\n",
       "      <td>1169</td>\n",
       "      <td>4</td>\n",
       "      <td>4</td>\n",
       "      <td>4</td>\n",
       "      <td>2</td>\n",
       "      <td>0</td>\n",
       "      <td>...</td>\n",
       "      <td>0</td>\n",
       "      <td>67</td>\n",
       "      <td>2</td>\n",
       "      <td>1</td>\n",
       "      <td>2</td>\n",
       "      <td>2</td>\n",
       "      <td>1</td>\n",
       "      <td>1</td>\n",
       "      <td>0</td>\n",
       "      <td>1</td>\n",
       "    </tr>\n",
       "    <tr>\n",
       "      <th>1</th>\n",
       "      <td>1</td>\n",
       "      <td>48</td>\n",
       "      <td>2</td>\n",
       "      <td>4</td>\n",
       "      <td>5951</td>\n",
       "      <td>0</td>\n",
       "      <td>2</td>\n",
       "      <td>2</td>\n",
       "      <td>1</td>\n",
       "      <td>0</td>\n",
       "      <td>...</td>\n",
       "      <td>0</td>\n",
       "      <td>22</td>\n",
       "      <td>2</td>\n",
       "      <td>1</td>\n",
       "      <td>1</td>\n",
       "      <td>2</td>\n",
       "      <td>1</td>\n",
       "      <td>0</td>\n",
       "      <td>0</td>\n",
       "      <td>2</td>\n",
       "    </tr>\n",
       "    <tr>\n",
       "      <th>2</th>\n",
       "      <td>3</td>\n",
       "      <td>12</td>\n",
       "      <td>4</td>\n",
       "      <td>7</td>\n",
       "      <td>2096</td>\n",
       "      <td>0</td>\n",
       "      <td>3</td>\n",
       "      <td>2</td>\n",
       "      <td>2</td>\n",
       "      <td>0</td>\n",
       "      <td>...</td>\n",
       "      <td>0</td>\n",
       "      <td>49</td>\n",
       "      <td>2</td>\n",
       "      <td>1</td>\n",
       "      <td>1</td>\n",
       "      <td>1</td>\n",
       "      <td>2</td>\n",
       "      <td>0</td>\n",
       "      <td>0</td>\n",
       "      <td>1</td>\n",
       "    </tr>\n",
       "    <tr>\n",
       "      <th>3</th>\n",
       "      <td>0</td>\n",
       "      <td>42</td>\n",
       "      <td>2</td>\n",
       "      <td>3</td>\n",
       "      <td>7882</td>\n",
       "      <td>0</td>\n",
       "      <td>3</td>\n",
       "      <td>2</td>\n",
       "      <td>2</td>\n",
       "      <td>2</td>\n",
       "      <td>...</td>\n",
       "      <td>1</td>\n",
       "      <td>45</td>\n",
       "      <td>2</td>\n",
       "      <td>2</td>\n",
       "      <td>1</td>\n",
       "      <td>2</td>\n",
       "      <td>2</td>\n",
       "      <td>0</td>\n",
       "      <td>0</td>\n",
       "      <td>1</td>\n",
       "    </tr>\n",
       "    <tr>\n",
       "      <th>4</th>\n",
       "      <td>0</td>\n",
       "      <td>24</td>\n",
       "      <td>3</td>\n",
       "      <td>0</td>\n",
       "      <td>4870</td>\n",
       "      <td>0</td>\n",
       "      <td>2</td>\n",
       "      <td>3</td>\n",
       "      <td>2</td>\n",
       "      <td>0</td>\n",
       "      <td>...</td>\n",
       "      <td>3</td>\n",
       "      <td>53</td>\n",
       "      <td>2</td>\n",
       "      <td>2</td>\n",
       "      <td>2</td>\n",
       "      <td>2</td>\n",
       "      <td>2</td>\n",
       "      <td>0</td>\n",
       "      <td>0</td>\n",
       "      <td>2</td>\n",
       "    </tr>\n",
       "  </tbody>\n",
       "</table>\n",
       "<p>5 rows × 21 columns</p>\n",
       "</div>"
      ],
      "text/plain": [
       "   checkingstatus  duration  history  purpose  amount  savings  employ  \\\n",
       "0               0         6        4        4    1169        4       4   \n",
       "1               1        48        2        4    5951        0       2   \n",
       "2               3        12        4        7    2096        0       3   \n",
       "3               0        42        2        3    7882        0       3   \n",
       "4               0        24        3        0    4870        0       2   \n",
       "\n",
       "   installment  status  cosigners   ...     collateral  age  otherplans  \\\n",
       "0            4       2          0   ...              0   67           2   \n",
       "1            2       1          0   ...              0   22           2   \n",
       "2            2       2          0   ...              0   49           2   \n",
       "3            2       2          2   ...              1   45           2   \n",
       "4            3       2          0   ...              3   53           2   \n",
       "\n",
       "   housing  existing  job  no  telephone  foreign  default  \n",
       "0        1         2    2   1          1        0        1  \n",
       "1        1         1    2   1          0        0        2  \n",
       "2        1         1    1   2          0        0        1  \n",
       "3        2         1    2   2          0        0        1  \n",
       "4        2         2    2   2          0        0        2  \n",
       "\n",
       "[5 rows x 21 columns]"
      ]
     },
     "execution_count": 615,
     "metadata": {},
     "output_type": "execute_result"
    }
   ],
   "source": [
    "credit.head()"
   ]
  },
  {
   "cell_type": "code",
   "execution_count": 616,
   "metadata": {
    "collapsed": true
   },
   "outputs": [],
   "source": [
    "from sklearn.preprocessing import normalize\n",
    "\n",
    "X = normalize(credit.drop('default', axis= 1))\n",
    "y = credit.default"
   ]
  },
  {
   "cell_type": "code",
   "execution_count": 617,
   "metadata": {
    "collapsed": true
   },
   "outputs": [],
   "source": [
    "from sklearn.model_selection import train_test_split\n",
    "X_train, X_test, y_train, y_test = train_test_split(X, y,random_state=0)"
   ]
  },
  {
   "cell_type": "code",
   "execution_count": 618,
   "metadata": {},
   "outputs": [
    {
     "data": {
      "text/plain": [
       "MLPClassifier(activation='relu', alpha=0.0001, batch_size='auto', beta_1=0.9,\n",
       "       beta_2=0.999, early_stopping=False, epsilon=1e-08,\n",
       "       hidden_layer_sizes=(100,), learning_rate='constant',\n",
       "       learning_rate_init=0.001, max_iter=200, momentum=0.9,\n",
       "       nesterovs_momentum=True, power_t=0.5, random_state=42, shuffle=True,\n",
       "       solver='adam', tol=0.0001, validation_fraction=0.1, verbose=False,\n",
       "       warm_start=False)"
      ]
     },
     "execution_count": 618,
     "metadata": {},
     "output_type": "execute_result"
    }
   ],
   "source": [
    "from sklearn.neural_network import MLPClassifier\n",
    "mlp = MLPClassifier(random_state=42)\n",
    "mlp.fit(X_train, y_train)"
   ]
  },
  {
   "cell_type": "code",
   "execution_count": 619,
   "metadata": {},
   "outputs": [
    {
     "data": {
      "text/plain": [
       "[array([[-0.0239861 ,  0.26488096,  0.1931917 , ..., -0.01150936,\n",
       "         -0.16929166, -0.07748173],\n",
       "        [-0.14236414,  0.05539609, -0.0356526 , ...,  0.11476089,\n",
       "          0.15478039,  0.1748887 ],\n",
       "        [ 0.02841942, -0.13394837, -0.07292415, ..., -0.07344059,\n",
       "          0.0806362 , -0.09938435],\n",
       "        ..., \n",
       "        [ 0.14128662, -0.00918388, -0.02384257, ..., -0.12654981,\n",
       "         -0.18473168, -0.15266488],\n",
       "        [ 0.13764136,  0.15217212,  0.01550279, ..., -0.0832807 ,\n",
       "         -0.03037252,  0.21448623],\n",
       "        [ 0.00793011, -0.13454826,  0.20481051, ..., -0.12775607,\n",
       "         -0.12695134, -0.00364586]]), array([[ 0.13606184],\n",
       "        [-0.0347728 ],\n",
       "        [-0.22846072],\n",
       "        [ 0.07514431],\n",
       "        [ 0.08604311],\n",
       "        [-0.14937619],\n",
       "        [ 0.11181249],\n",
       "        [ 0.13226903],\n",
       "        [-0.05943157],\n",
       "        [ 0.1655367 ],\n",
       "        [-0.11268226],\n",
       "        [-0.22813983],\n",
       "        [-0.21286309],\n",
       "        [ 0.12714245],\n",
       "        [ 0.04211379],\n",
       "        [-0.10799768],\n",
       "        [-0.01000521],\n",
       "        [ 0.01477599],\n",
       "        [-0.13667622],\n",
       "        [ 0.13901237],\n",
       "        [ 0.09592748],\n",
       "        [-0.06161245],\n",
       "        [ 0.21539244],\n",
       "        [-0.01523949],\n",
       "        [ 0.16579352],\n",
       "        [ 0.04026208],\n",
       "        [ 0.03238789],\n",
       "        [-0.22172908],\n",
       "        [ 0.12208523],\n",
       "        [-0.01289836],\n",
       "        [-0.10386125],\n",
       "        [-0.30060226],\n",
       "        [ 0.00856704],\n",
       "        [-0.00639662],\n",
       "        [ 0.05807549],\n",
       "        [ 0.17398147],\n",
       "        [-0.1384025 ],\n",
       "        [ 0.06250221],\n",
       "        [-0.09370503],\n",
       "        [ 0.11222381],\n",
       "        [ 0.14753424],\n",
       "        [-0.03484406],\n",
       "        [ 0.0548049 ],\n",
       "        [-0.046215  ],\n",
       "        [-0.07455911],\n",
       "        [ 0.10536449],\n",
       "        [-0.0983949 ],\n",
       "        [-0.13074054],\n",
       "        [-0.09606326],\n",
       "        [ 0.10000043],\n",
       "        [-0.14558921],\n",
       "        [-0.23672907],\n",
       "        [ 0.05543718],\n",
       "        [ 0.10670958],\n",
       "        [-0.28275693],\n",
       "        [-0.19484468],\n",
       "        [-0.11216235],\n",
       "        [-0.03512859],\n",
       "        [-0.00791003],\n",
       "        [ 0.06894415],\n",
       "        [ 0.03483967],\n",
       "        [ 0.02514558],\n",
       "        [-0.13259894],\n",
       "        [ 0.1511028 ],\n",
       "        [-0.09986758],\n",
       "        [ 0.20304711],\n",
       "        [ 0.02957335],\n",
       "        [-0.2519989 ],\n",
       "        [ 0.04300782],\n",
       "        [-0.14910465],\n",
       "        [ 0.0464466 ],\n",
       "        [-0.27095829],\n",
       "        [-0.09873611],\n",
       "        [ 0.12169805],\n",
       "        [-0.19489631],\n",
       "        [ 0.11206025],\n",
       "        [-0.05857124],\n",
       "        [ 0.05483677],\n",
       "        [ 0.04193947],\n",
       "        [-0.05822685],\n",
       "        [-0.04932984],\n",
       "        [-0.08372714],\n",
       "        [-0.15826955],\n",
       "        [-0.15606379],\n",
       "        [ 0.04803985],\n",
       "        [ 0.16647858],\n",
       "        [ 0.11761644],\n",
       "        [ 0.08970361],\n",
       "        [ 0.08887213],\n",
       "        [ 0.03884633],\n",
       "        [-0.18231513],\n",
       "        [ 0.14840827],\n",
       "        [ 0.0411918 ],\n",
       "        [ 0.01017095],\n",
       "        [-0.12505102],\n",
       "        [-0.09577561],\n",
       "        [-0.08844941],\n",
       "        [ 0.11486236],\n",
       "        [-0.03161677],\n",
       "        [-0.12075777]])]"
      ]
     },
     "execution_count": 619,
     "metadata": {},
     "output_type": "execute_result"
    }
   ],
   "source": [
    "mlp.coefs_"
   ]
  },
  {
   "cell_type": "code",
   "execution_count": 620,
   "metadata": {
    "collapsed": true
   },
   "outputs": [],
   "source": [
    "mlp_pred= mlp.predict(X_test)"
   ]
  },
  {
   "cell_type": "code",
   "execution_count": 621,
   "metadata": {},
   "outputs": [
    {
     "name": "stdout",
     "output_type": "stream",
     "text": [
      "Test Confusion matrix:\n",
      "[[176   0]\n",
      " [ 74   0]]\n"
     ]
    }
   ],
   "source": [
    "print('Test Confusion matrix:')\n",
    "print(confusion_matrix(y_test, mlp_pred))"
   ]
  },
  {
   "cell_type": "code",
   "execution_count": 622,
   "metadata": {},
   "outputs": [
    {
     "name": "stdout",
     "output_type": "stream",
     "text": [
      "classification report:\n",
      "             precision    recall  f1-score   support\n",
      "\n",
      "          1       0.70      1.00      0.83       176\n",
      "          2       0.00      0.00      0.00        74\n",
      "\n",
      "avg / total       0.50      0.70      0.58       250\n",
      "\n"
     ]
    },
    {
     "name": "stderr",
     "output_type": "stream",
     "text": [
      "C:\\ProgramData\\Anaconda3\\lib\\site-packages\\sklearn\\metrics\\classification.py:1113: UndefinedMetricWarning: Precision and F-score are ill-defined and being set to 0.0 in labels with no predicted samples.\n",
      "  'precision', 'predicted', average, warn_for)\n"
     ]
    }
   ],
   "source": [
    "print('classification report:')\n",
    "print(classification_report(y_test, mlp_pred))"
   ]
  },
  {
   "cell_type": "code",
   "execution_count": 623,
   "metadata": {},
   "outputs": [
    {
     "name": "stdout",
     "output_type": "stream",
     "text": [
      "Train Accuracy\n",
      "0.698666666667\n"
     ]
    }
   ],
   "source": [
    "print('Train Accuracy')\n",
    "print(mlp.score(X_train, y_train))"
   ]
  },
  {
   "cell_type": "code",
   "execution_count": 624,
   "metadata": {},
   "outputs": [
    {
     "name": "stdout",
     "output_type": "stream",
     "text": [
      "Test Accuracy\n",
      "0.704\n"
     ]
    }
   ],
   "source": [
    "print('Test Accuracy')\n",
    "print(mlp.score(X_test, y_test))"
   ]
  },
  {
   "cell_type": "markdown",
   "metadata": {},
   "source": [
    "### Normalized"
   ]
  },
  {
   "cell_type": "code",
   "execution_count": 625,
   "metadata": {},
   "outputs": [
    {
     "data": {
      "text/plain": [
       "array([  8.70098688e-04,   8.85349532e-03,   1.44085019e-03,\n",
       "         1.90414252e-03,   9.99527057e-01,   5.97057681e-04,\n",
       "         1.37407295e-03,   1.83556603e-03,   9.72867903e-04,\n",
       "         8.49809404e-05,   1.63148743e-03,   6.36159224e-04,\n",
       "         2.03702616e-02,   9.51293344e-04,   5.10625456e-04,\n",
       "         8.00199286e-04,   9.80744331e-04,   6.41138955e-04,\n",
       "         1.78804980e-04,   2.50493542e-05])"
      ]
     },
     "execution_count": 625,
     "metadata": {},
     "output_type": "execute_result"
    }
   ],
   "source": [
    "train_mean = X_train.mean(axis=0)\n",
    "train_mean"
   ]
  },
  {
   "cell_type": "code",
   "execution_count": 626,
   "metadata": {},
   "outputs": [
    {
     "data": {
      "text/plain": [
       "array([ 0.00113569,  0.00538829,  0.00143528,  0.00253805,  0.00115583,\n",
       "        0.00119025,  0.00146219,  0.0018413 ,  0.00103079,  0.00035628,\n",
       "        0.00161593,  0.00079667,  0.01945939,  0.00090294,  0.00051447,\n",
       "        0.00082815,  0.00078528,  0.00055965,  0.00031538,  0.00014877])"
      ]
     },
     "execution_count": 626,
     "metadata": {},
     "output_type": "execute_result"
    }
   ],
   "source": [
    "train_std = X_train.std(axis=0)\n",
    "train_std"
   ]
  },
  {
   "cell_type": "code",
   "execution_count": 627,
   "metadata": {},
   "outputs": [
    {
     "data": {
      "text/plain": [
       "array([[-0.12980686, -0.5701377 , -0.50037021, ..., -0.71517069,\n",
       "        -0.56695656, -0.16837621],\n",
       "       [-0.03429073,  0.8249339 , -0.8108506 , ..., -0.65056097,\n",
       "        -0.56695656, -0.16837621],\n",
       "       [ 1.10412159, -0.06631793,  0.96928852, ...,  0.11949219,\n",
       "         1.67801762, -0.16837621],\n",
       "       ..., \n",
       "       [-0.07689799, -1.20728333, -0.64029684, ..., -0.67938168,\n",
       "        -0.56695656, -0.16837621],\n",
       "       [-0.30952069,  0.08925428,  0.44135338, ..., -0.21899328,\n",
       "        -0.56695656, -0.16837621],\n",
       "       [-0.67681239, -0.96529894, -0.79183216, ..., -0.78305899,\n",
       "        -0.24527951, -0.16837621]])"
      ]
     },
     "execution_count": 627,
     "metadata": {},
     "output_type": "execute_result"
    }
   ],
   "source": [
    "X_train_stand = (X_train - train_mean)/train_std\n",
    "X_train_stand"
   ]
  },
  {
   "cell_type": "code",
   "execution_count": 628,
   "metadata": {},
   "outputs": [
    {
     "data": {
      "text/plain": [
       "(750, 20)"
      ]
     },
     "execution_count": 628,
     "metadata": {},
     "output_type": "execute_result"
    }
   ],
   "source": [
    "X_train_stand.shape"
   ]
  },
  {
   "cell_type": "code",
   "execution_count": 629,
   "metadata": {},
   "outputs": [
    {
     "data": {
      "text/plain": [
       "array([[-0.76614089,  0.04436576, -0.65193397, ..., -0.69430396,\n",
       "         0.23389757, -0.16837621],\n",
       "       [-0.02767773, -1.17616088, -0.61433261, ..., -0.14657113,\n",
       "        -0.56695656,  1.71073137],\n",
       "       [ 0.28399743, -0.31507282, -0.44992048, ..., -0.43526217,\n",
       "         0.69357957, -0.16837621],\n",
       "       ..., \n",
       "       [ 0.4937672 , -0.58089537,  0.32535101, ...,  0.55886804,\n",
       "        -0.56695656, -0.16837621],\n",
       "       [ 0.0822551 ,  0.50269812,  0.33873492, ...,  0.57603022,\n",
       "        -0.56695656, -0.16837621],\n",
       "       [ 1.36923658, -0.74295162,  0.12255529, ...,  0.2988232 ,\n",
       "        -0.56695656, -0.16837621]])"
      ]
     },
     "execution_count": 629,
     "metadata": {},
     "output_type": "execute_result"
    }
   ],
   "source": [
    "X_test_stand = (X_test - train_mean)/train_std\n",
    "X_test_stand"
   ]
  },
  {
   "cell_type": "code",
   "execution_count": 630,
   "metadata": {},
   "outputs": [
    {
     "data": {
      "text/plain": [
       "(250, 20)"
      ]
     },
     "execution_count": 630,
     "metadata": {},
     "output_type": "execute_result"
    }
   ],
   "source": [
    "X_test_stand.shape"
   ]
  },
  {
   "cell_type": "code",
   "execution_count": 631,
   "metadata": {},
   "outputs": [
    {
     "name": "stderr",
     "output_type": "stream",
     "text": [
      "C:\\ProgramData\\Anaconda3\\lib\\site-packages\\sklearn\\neural_network\\multilayer_perceptron.py:563: ConvergenceWarning: Stochastic Optimizer: Maximum iterations reached and the optimization hasn't converged yet.\n",
      "  % (), ConvergenceWarning)\n"
     ]
    },
    {
     "data": {
      "text/plain": [
       "MLPClassifier(activation='relu', alpha=0.0001, batch_size='auto', beta_1=0.9,\n",
       "       beta_2=0.999, early_stopping=False, epsilon=1e-08,\n",
       "       hidden_layer_sizes=(100,), learning_rate='constant',\n",
       "       learning_rate_init=0.001, max_iter=200, momentum=0.9,\n",
       "       nesterovs_momentum=True, power_t=0.5, random_state=42, shuffle=True,\n",
       "       solver='adam', tol=0.0001, validation_fraction=0.1, verbose=False,\n",
       "       warm_start=False)"
      ]
     },
     "execution_count": 631,
     "metadata": {},
     "output_type": "execute_result"
    }
   ],
   "source": [
    "m = MLPClassifier(random_state=42)\n",
    "m.fit(X_train_stand, y_train)"
   ]
  },
  {
   "cell_type": "code",
   "execution_count": 632,
   "metadata": {},
   "outputs": [
    {
     "data": {
      "text/plain": [
       "[array([[-0.11766324,  0.55225844,  0.19364204, ..., -0.28087307,\n",
       "         -0.56285536, -0.05341806],\n",
       "        [-0.14993826,  0.273769  , -0.12225897, ...,  0.13636819,\n",
       "          0.18938986,  0.05739682],\n",
       "        [ 0.06881178, -0.0680578 , -0.15483999, ..., -0.23264648,\n",
       "         -0.28117984,  0.00245231],\n",
       "        ..., \n",
       "        [ 0.21218497, -0.26339257, -0.06641011, ..., -0.15987735,\n",
       "         -0.33896515, -0.10465979],\n",
       "        [ 0.02348984,  0.14850022,  0.07308438, ...,  0.06157919,\n",
       "          0.01083837,  0.06079801],\n",
       "        [ 0.02965552, -0.39979778,  0.10864847, ..., -0.1702611 ,\n",
       "         -0.02772309, -0.23000357]]), array([[ 0.31657245],\n",
       "        [-0.32121327],\n",
       "        [-0.2752957 ],\n",
       "        [ 0.44524922],\n",
       "        [ 0.45126642],\n",
       "        [-0.22878166],\n",
       "        [ 0.26593233],\n",
       "        [ 0.22543498],\n",
       "        [-0.24685126],\n",
       "        [ 0.37742728],\n",
       "        [-0.59975555],\n",
       "        [-0.32995388],\n",
       "        [-0.2700905 ],\n",
       "        [ 0.5017554 ],\n",
       "        [ 0.15177895],\n",
       "        [-0.1915803 ],\n",
       "        [-0.05085651],\n",
       "        [ 0.14203002],\n",
       "        [-0.29066514],\n",
       "        [ 0.31959893],\n",
       "        [ 0.19773684],\n",
       "        [-0.13096596],\n",
       "        [ 0.36132594],\n",
       "        [-0.33784108],\n",
       "        [ 0.27115756],\n",
       "        [ 0.20959593],\n",
       "        [ 0.19218533],\n",
       "        [-0.22838471],\n",
       "        [ 0.19499117],\n",
       "        [-0.27044463],\n",
       "        [-0.32570243],\n",
       "        [-0.42365626],\n",
       "        [-0.0936205 ],\n",
       "        [-0.12585273],\n",
       "        [ 0.18313121],\n",
       "        [ 0.37968812],\n",
       "        [-0.44519279],\n",
       "        [ 0.3903626 ],\n",
       "        [-0.36282534],\n",
       "        [ 0.44962332],\n",
       "        [ 0.20054508],\n",
       "        [-0.32731928],\n",
       "        [ 0.18521169],\n",
       "        [-0.27221551],\n",
       "        [-0.19086971],\n",
       "        [ 0.16691065],\n",
       "        [-0.06883674],\n",
       "        [-0.25331672],\n",
       "        [-0.04683713],\n",
       "        [ 0.39153875],\n",
       "        [-0.28904103],\n",
       "        [-0.22750298],\n",
       "        [ 0.16639435],\n",
       "        [ 0.22638264],\n",
       "        [-0.40926601],\n",
       "        [-0.22723001],\n",
       "        [-0.30773694],\n",
       "        [-0.33978021],\n",
       "        [-0.24152511],\n",
       "        [ 0.35696921],\n",
       "        [ 0.39515689],\n",
       "        [ 0.10908044],\n",
       "        [-0.30169674],\n",
       "        [ 0.43477363],\n",
       "        [-0.19526889],\n",
       "        [ 0.40071554],\n",
       "        [ 0.20644406],\n",
       "        [-0.37342926],\n",
       "        [ 0.15686303],\n",
       "        [-0.36947872],\n",
       "        [ 0.01834143],\n",
       "        [-0.35657496],\n",
       "        [-0.34372601],\n",
       "        [ 0.18201804],\n",
       "        [-0.33760381],\n",
       "        [ 0.13828537],\n",
       "        [-0.35877475],\n",
       "        [ 0.18760238],\n",
       "        [ 0.060686  ],\n",
       "        [-0.2858527 ],\n",
       "        [-0.37985037],\n",
       "        [-0.39071969],\n",
       "        [-0.51316789],\n",
       "        [-0.20908286],\n",
       "        [ 0.00452587],\n",
       "        [ 0.37139776],\n",
       "        [ 0.25917286],\n",
       "        [ 0.22684309],\n",
       "        [ 0.23533903],\n",
       "        [ 0.28668305],\n",
       "        [-0.18661036],\n",
       "        [ 0.32625656],\n",
       "        [ 0.30782335],\n",
       "        [ 0.32930317],\n",
       "        [-0.35036004],\n",
       "        [-0.2555175 ],\n",
       "        [-0.26273065],\n",
       "        [ 0.24306773],\n",
       "        [ 0.23988532],\n",
       "        [-0.11361716]])]"
      ]
     },
     "execution_count": 632,
     "metadata": {},
     "output_type": "execute_result"
    }
   ],
   "source": [
    "m.coefs_"
   ]
  },
  {
   "cell_type": "code",
   "execution_count": 633,
   "metadata": {},
   "outputs": [
    {
     "data": {
      "text/plain": [
       "array([2, 1, 1, 1, 1, 1, 1, 1, 1, 1, 2, 2, 1, 1, 2, 2, 1, 1, 2, 1, 2, 2, 1,\n",
       "       1, 1, 1, 1, 1, 1, 2, 1, 1, 1, 1, 1, 2, 1, 1, 2, 1, 1, 2, 1, 1, 1, 2,\n",
       "       2, 2, 1, 1, 1, 2, 1, 1, 2, 1, 2, 1, 1, 1, 2, 1, 2, 1, 1, 1, 1, 1, 2,\n",
       "       1, 1, 1, 2, 1, 2, 1, 1, 1, 2, 1, 2, 1, 1, 1, 1, 1, 1, 1, 1, 1, 1, 1,\n",
       "       1, 1, 2, 1, 1, 1, 2, 1, 1, 1, 1, 1, 1, 1, 1, 2, 2, 1, 1, 2, 2, 1, 1,\n",
       "       1, 2, 1, 1, 1, 1, 1, 1, 1, 1, 1, 1, 1, 1, 1, 1, 2, 2, 1, 1, 2, 1, 1,\n",
       "       1, 2, 2, 2, 1, 1, 1, 1, 1, 2, 1, 1, 1, 1, 1, 1, 1, 1, 1, 1, 1, 1, 1,\n",
       "       2, 1, 1, 2, 2, 2, 1, 1, 1, 2, 1, 2, 1, 1, 2, 2, 2, 1, 1, 1, 1, 1, 2,\n",
       "       1, 2, 1, 2, 1, 1, 1, 2, 1, 1, 1, 1, 1, 1, 2, 1, 1, 2, 2, 2, 1, 1, 2,\n",
       "       1, 1, 1, 1, 1, 1, 1, 1, 1, 1, 1, 1, 2, 2, 1, 1, 1, 1, 1, 1, 2, 1, 1,\n",
       "       1, 1, 1, 1, 2, 1, 1, 1, 1, 2, 1, 1, 1, 2, 1, 2, 1, 1, 1, 1], dtype=int64)"
      ]
     },
     "execution_count": 633,
     "metadata": {},
     "output_type": "execute_result"
    }
   ],
   "source": [
    "m_pred = m.predict(X_test_stand)\n",
    "m_pred"
   ]
  },
  {
   "cell_type": "code",
   "execution_count": 634,
   "metadata": {},
   "outputs": [
    {
     "name": "stdout",
     "output_type": "stream",
     "text": [
      "Test Confusion matrix:\n",
      "[[152  24]\n",
      " [ 34  40]]\n"
     ]
    }
   ],
   "source": [
    "print('Test Confusion matrix:')\n",
    "print(confusion_matrix(y_test, m_pred))"
   ]
  },
  {
   "cell_type": "code",
   "execution_count": 635,
   "metadata": {},
   "outputs": [
    {
     "name": "stdout",
     "output_type": "stream",
     "text": [
      "classification report:\n",
      "             precision    recall  f1-score   support\n",
      "\n",
      "          1       0.82      0.86      0.84       176\n",
      "          2       0.62      0.54      0.58        74\n",
      "\n",
      "avg / total       0.76      0.77      0.76       250\n",
      "\n"
     ]
    }
   ],
   "source": [
    "print('classification report:')\n",
    "print(classification_report(y_test, m_pred))"
   ]
  },
  {
   "cell_type": "code",
   "execution_count": 636,
   "metadata": {},
   "outputs": [
    {
     "name": "stdout",
     "output_type": "stream",
     "text": [
      "Train Accuracy\n",
      "0.850666666667\n"
     ]
    }
   ],
   "source": [
    "print('Train Accuracy')\n",
    "print(m.score(X_train_stand, y_train))"
   ]
  },
  {
   "cell_type": "code",
   "execution_count": 637,
   "metadata": {},
   "outputs": [
    {
     "name": "stdout",
     "output_type": "stream",
     "text": [
      "Test Accuracy\n",
      "0.768\n"
     ]
    }
   ],
   "source": [
    "print('Test Accuracy')\n",
    "print(m.score(X_test_stand, y_test))"
   ]
  },
  {
   "cell_type": "code",
   "execution_count": 638,
   "metadata": {},
   "outputs": [
    {
     "data": {
      "text/plain": [
       "MLPClassifier(activation='relu', alpha=0.0001, batch_size='auto', beta_1=0.9,\n",
       "       beta_2=0.999, early_stopping=False, epsilon=1e-08,\n",
       "       hidden_layer_sizes=(100,), learning_rate='constant',\n",
       "       learning_rate_init=0.001, max_iter=1500, momentum=0.9,\n",
       "       nesterovs_momentum=True, power_t=0.5, random_state=42, shuffle=True,\n",
       "       solver='adam', tol=0.0001, validation_fraction=0.1, verbose=False,\n",
       "       warm_start=False)"
      ]
     },
     "execution_count": 638,
     "metadata": {},
     "output_type": "execute_result"
    }
   ],
   "source": [
    "m1500 = MLPClassifier(random_state=42, max_iter=1500)\n",
    "m1500.fit(X_train_stand, y_train)"
   ]
  },
  {
   "cell_type": "code",
   "execution_count": 639,
   "metadata": {
    "collapsed": true
   },
   "outputs": [],
   "source": [
    "m1500_pred= m1500.predict(X_test_stand)"
   ]
  },
  {
   "cell_type": "code",
   "execution_count": 640,
   "metadata": {},
   "outputs": [
    {
     "data": {
      "text/plain": [
       "array([2, 1, 1, 1, 1, 1, 1, 1, 1, 1, 2, 2, 1, 1, 2, 2, 1, 1, 2, 1, 2, 2, 1,\n",
       "       1, 1, 1, 1, 1, 1, 2, 1, 1, 1, 1, 1, 2, 1, 1, 2, 1, 1, 2, 1, 1, 1, 2,\n",
       "       2, 2, 1, 1, 1, 2, 1, 1, 2, 1, 2, 1, 1, 1, 2, 1, 2, 1, 1, 1, 1, 1, 2,\n",
       "       1, 1, 1, 2, 1, 2, 1, 1, 1, 2, 1, 2, 1, 1, 1, 1, 1, 1, 1, 1, 1, 1, 1,\n",
       "       1, 1, 2, 1, 1, 1, 2, 1, 1, 1, 1, 1, 1, 1, 1, 2, 2, 1, 1, 2, 2, 1, 1,\n",
       "       1, 2, 1, 1, 1, 1, 1, 1, 1, 1, 1, 1, 1, 1, 1, 1, 2, 2, 1, 1, 1, 1, 1,\n",
       "       1, 2, 2, 2, 1, 1, 1, 1, 1, 2, 2, 1, 1, 1, 1, 1, 1, 1, 1, 1, 1, 1, 1,\n",
       "       2, 1, 1, 2, 2, 2, 1, 1, 1, 2, 1, 2, 2, 1, 2, 2, 2, 1, 1, 1, 1, 1, 2,\n",
       "       1, 2, 1, 1, 1, 1, 1, 2, 1, 1, 1, 1, 1, 1, 2, 1, 1, 2, 2, 2, 1, 1, 2,\n",
       "       1, 1, 1, 1, 1, 1, 1, 1, 1, 1, 2, 1, 2, 2, 1, 2, 1, 1, 1, 1, 2, 2, 1,\n",
       "       1, 1, 1, 1, 2, 1, 1, 1, 1, 2, 1, 1, 1, 2, 1, 2, 1, 1, 1, 1], dtype=int64)"
      ]
     },
     "execution_count": 640,
     "metadata": {},
     "output_type": "execute_result"
    }
   ],
   "source": [
    "m1500_pred"
   ]
  },
  {
   "cell_type": "code",
   "execution_count": 641,
   "metadata": {},
   "outputs": [
    {
     "name": "stdout",
     "output_type": "stream",
     "text": [
      "Test Confusion matrix:\n",
      "[[151  25]\n",
      " [ 32  42]]\n"
     ]
    }
   ],
   "source": [
    "print('Test Confusion matrix:')\n",
    "print(confusion_matrix(y_test, m1500_pred))"
   ]
  },
  {
   "cell_type": "code",
   "execution_count": 642,
   "metadata": {},
   "outputs": [
    {
     "name": "stdout",
     "output_type": "stream",
     "text": [
      "classification report:\n",
      "             precision    recall  f1-score   support\n",
      "\n",
      "          1       0.83      0.86      0.84       176\n",
      "          2       0.63      0.57      0.60        74\n",
      "\n",
      "avg / total       0.77      0.77      0.77       250\n",
      "\n"
     ]
    }
   ],
   "source": [
    "print('classification report:')\n",
    "print(classification_report(y_test, m1500_pred))"
   ]
  },
  {
   "cell_type": "code",
   "execution_count": 643,
   "metadata": {},
   "outputs": [
    {
     "name": "stdout",
     "output_type": "stream",
     "text": [
      "Test Accuracy\n",
      "0.772\n"
     ]
    }
   ],
   "source": [
    "print('Test Accuracy')\n",
    "print(m1500.score(X_test_stand, y_test))"
   ]
  },
  {
   "cell_type": "code",
   "execution_count": 644,
   "metadata": {},
   "outputs": [
    {
     "name": "stdout",
     "output_type": "stream",
     "text": [
      "Train Accuracy\n",
      "0.858666666667\n"
     ]
    }
   ],
   "source": [
    "print('Train Accuracy')\n",
    "print(m1500.score(X_train_stand, y_train))"
   ]
  },
  {
   "cell_type": "code",
   "execution_count": 645,
   "metadata": {},
   "outputs": [
    {
     "data": {
      "text/plain": [
       "MLPClassifier(activation='relu', alpha=0.0001, batch_size='auto', beta_1=0.9,\n",
       "       beta_2=0.999, early_stopping=False, epsilon=1e-08,\n",
       "       hidden_layer_sizes=(10, 10), learning_rate='constant',\n",
       "       learning_rate_init=0.001, max_iter=1500, momentum=0.9,\n",
       "       nesterovs_momentum=True, power_t=0.5, random_state=42, shuffle=True,\n",
       "       solver='adam', tol=0.0001, validation_fraction=0.1, verbose=False,\n",
       "       warm_start=False)"
      ]
     },
     "execution_count": 645,
     "metadata": {},
     "output_type": "execute_result"
    }
   ],
   "source": [
    "m1 = MLPClassifier(random_state=42, max_iter=1500,hidden_layer_sizes=(10,10))\n",
    "m1.fit(X_train_stand, y_train)"
   ]
  },
  {
   "cell_type": "code",
   "execution_count": 646,
   "metadata": {},
   "outputs": [
    {
     "data": {
      "text/plain": [
       "[array([[-0.15967043,  0.7816055 ,  0.25467694,  0.11903865, -0.28313644,\n",
       "         -0.6836696 , -0.33454605,  0.55598248, -0.08082814, -0.12430769],\n",
       "        [-0.54697726,  0.21853387, -0.05276832, -0.47328526, -0.00213248,\n",
       "          0.50449427, -0.57505914,  0.01822008,  0.28424339, -0.44627908],\n",
       "        [ 0.20193132, -0.261041  , -0.40689775,  0.14064097, -0.46377479,\n",
       "         -0.15132992,  0.16706732,  0.03297338,  0.20595858, -0.7547045 ],\n",
       "        [ 0.06776415, -0.2755083 ,  0.08265742,  0.37430917, -0.06877102,\n",
       "         -0.37610068, -0.04865497, -0.40518361, -0.09562486,  0.05653939],\n",
       "        [-0.19025179,  0.21619708, -0.73027445,  0.47856044, -0.4189123 ,\n",
       "          0.21700858, -0.06998078,  0.14213663,  0.0649293 , -0.06072664],\n",
       "        [ 0.58138263,  0.15265343,  0.46677449,  0.49357419, -0.10090688,\n",
       "          0.00900577, -0.80177046, -0.16506203, -0.75782895, -0.00125593],\n",
       "        [-0.08476592,  0.14652212,  0.26514043, -0.02129496, -0.63999126,\n",
       "         -0.36189868, -0.63961357,  0.30657056, -0.37215356,  0.47493774],\n",
       "        [-0.07701818, -0.40014827, -0.31034005, -0.03860251,  0.45342878,\n",
       "          0.29578632,  0.25653682, -0.4830338 , -0.02604216, -0.31164059],\n",
       "        [ 0.29692015,  0.37986162, -0.31405228, -0.70686239, -0.67861422,\n",
       "          0.28132305, -0.23590801,  0.09599782,  0.43716129, -0.21752937],\n",
       "        [-0.39984378,  0.2782209 ,  0.17083523, -0.25332895, -0.347771  ,\n",
       "          0.08985835,  0.39112363, -0.70358609,  0.02816586, -0.02274314],\n",
       "        [-0.70115913,  0.21164596, -0.05558105, -0.02464556,  0.40131962,\n",
       "          0.16489731,  0.47991815,  0.33202932, -0.3379184 , -0.3732729 ],\n",
       "        [-0.05116865, -0.37146547,  0.33723339, -0.29870019, -0.05195485,\n",
       "          0.6858674 ,  0.30336172,  0.09553796, -0.15074473,  0.28447922],\n",
       "        [ 0.09755424,  0.08377684,  0.17050036, -0.26536502, -0.13818033,\n",
       "          0.00698333,  0.26817893,  0.27330212, -0.4724768 ,  0.03618105],\n",
       "        [-0.29444634,  0.03311227, -0.10717487, -0.25103892,  0.3610936 ,\n",
       "         -0.15272594,  0.15798706,  0.64023465, -0.22916864,  0.32203209],\n",
       "        [ 0.49311412,  0.33173042,  0.17471938,  0.00767572, -0.1902113 ,\n",
       "         -0.07062584, -0.15974417, -0.523626  , -0.67696094, -0.27368203],\n",
       "        [ 0.11810001, -0.27555109, -0.04729058, -0.22987534,  0.35005417,\n",
       "         -0.06061945,  0.5919892 ,  0.00928882, -0.11284861,  0.62267714],\n",
       "        [-0.35600679,  0.09602504,  0.325585  ,  0.15161068, -0.36191447,\n",
       "          0.3532169 ,  0.37496625, -0.46242972, -0.29352534,  0.38370976],\n",
       "        [-0.1004132 , -0.80240684, -0.3952096 , -0.57019399,  0.00297135,\n",
       "          0.06880532,  0.07996476, -0.0998014 ,  0.14107022, -0.47811688],\n",
       "        [-0.25181232, -0.44409857,  0.41900461,  0.56079457, -0.08287823,\n",
       "         -0.1419666 ,  0.04355081,  0.21418559,  0.1115846 ,  0.13648741],\n",
       "        [-1.00002041,  0.46321511,  0.64893255,  0.12236271, -0.16461224,\n",
       "          0.22195388,  0.25084626,  0.6474512 ,  0.32374406,  0.42798316]]),\n",
       " array([[ 0.09696746, -0.29640055, -0.08039571, -0.16679545,  0.48473944,\n",
       "         -0.79748033, -0.66477807, -0.01553698,  0.28660635,  0.47262403],\n",
       "        [ 0.2681115 , -0.2636638 , -1.51838326,  0.07187276, -0.91818149,\n",
       "         -0.6093973 ,  0.50712813,  0.29662176,  0.67063309,  0.42641254],\n",
       "        [ 1.33711108, -0.18852564, -0.35651537,  0.73523396, -0.80448921,\n",
       "         -0.01839566, -0.41644992, -1.02652407,  0.92001984,  0.4616561 ],\n",
       "        [ 0.64936016,  0.39255064,  0.52170409,  0.14050928, -1.14495388,\n",
       "          0.49741515,  0.10889473,  0.48766398,  0.75789214,  0.71584793],\n",
       "        [-0.34304034,  0.15570048,  0.58898685, -0.46749998,  0.04207986,\n",
       "          0.31366298,  0.89578848,  0.29377156, -0.36692919, -0.60613263],\n",
       "        [-0.07801528,  1.26625038, -0.20968165, -0.26312195,  1.04074386,\n",
       "          1.07231792,  1.27019   ,  0.19224675,  0.03400433, -0.09793833],\n",
       "        [ 1.03961741,  0.58970516,  0.29962952,  0.92768395, -0.55954799,\n",
       "          0.14545537,  0.17152366,  0.35854876,  0.77266821,  0.88297867],\n",
       "        [ 0.9307987 , -0.25509418, -0.97128564, -0.00850193,  0.30129959,\n",
       "         -1.25734838, -1.11087569, -0.14881278,  0.28281353,  0.57373813],\n",
       "        [-0.49874389, -0.89678303,  0.47281558, -0.22407666, -0.06571701,\n",
       "          0.03818308,  0.43671957, -0.69308699, -0.06664668, -0.45988804],\n",
       "        [-0.94092471,  0.83269827,  0.53960478, -0.14737009,  0.95242466,\n",
       "          0.92358658,  0.58812303,  0.70536588,  0.01614153, -0.45357054]]),\n",
       " array([[-0.55749337],\n",
       "        [ 1.12270715],\n",
       "        [ 0.69826365],\n",
       "        [-0.72059035],\n",
       "        [ 1.59294335],\n",
       "        [ 0.97703478],\n",
       "        [ 0.79216694],\n",
       "        [ 0.9764767 ],\n",
       "        [-0.51926473],\n",
       "        [-0.91567337]])]"
      ]
     },
     "execution_count": 646,
     "metadata": {},
     "output_type": "execute_result"
    }
   ],
   "source": [
    "m1.coefs_"
   ]
  },
  {
   "cell_type": "code",
   "execution_count": 647,
   "metadata": {},
   "outputs": [
    {
     "data": {
      "text/plain": [
       "array([[-0.15967043,  0.7816055 ,  0.25467694,  0.11903865, -0.28313644,\n",
       "        -0.6836696 , -0.33454605,  0.55598248, -0.08082814, -0.12430769],\n",
       "       [-0.54697726,  0.21853387, -0.05276832, -0.47328526, -0.00213248,\n",
       "         0.50449427, -0.57505914,  0.01822008,  0.28424339, -0.44627908],\n",
       "       [ 0.20193132, -0.261041  , -0.40689775,  0.14064097, -0.46377479,\n",
       "        -0.15132992,  0.16706732,  0.03297338,  0.20595858, -0.7547045 ],\n",
       "       [ 0.06776415, -0.2755083 ,  0.08265742,  0.37430917, -0.06877102,\n",
       "        -0.37610068, -0.04865497, -0.40518361, -0.09562486,  0.05653939],\n",
       "       [-0.19025179,  0.21619708, -0.73027445,  0.47856044, -0.4189123 ,\n",
       "         0.21700858, -0.06998078,  0.14213663,  0.0649293 , -0.06072664],\n",
       "       [ 0.58138263,  0.15265343,  0.46677449,  0.49357419, -0.10090688,\n",
       "         0.00900577, -0.80177046, -0.16506203, -0.75782895, -0.00125593],\n",
       "       [-0.08476592,  0.14652212,  0.26514043, -0.02129496, -0.63999126,\n",
       "        -0.36189868, -0.63961357,  0.30657056, -0.37215356,  0.47493774],\n",
       "       [-0.07701818, -0.40014827, -0.31034005, -0.03860251,  0.45342878,\n",
       "         0.29578632,  0.25653682, -0.4830338 , -0.02604216, -0.31164059],\n",
       "       [ 0.29692015,  0.37986162, -0.31405228, -0.70686239, -0.67861422,\n",
       "         0.28132305, -0.23590801,  0.09599782,  0.43716129, -0.21752937],\n",
       "       [-0.39984378,  0.2782209 ,  0.17083523, -0.25332895, -0.347771  ,\n",
       "         0.08985835,  0.39112363, -0.70358609,  0.02816586, -0.02274314],\n",
       "       [-0.70115913,  0.21164596, -0.05558105, -0.02464556,  0.40131962,\n",
       "         0.16489731,  0.47991815,  0.33202932, -0.3379184 , -0.3732729 ],\n",
       "       [-0.05116865, -0.37146547,  0.33723339, -0.29870019, -0.05195485,\n",
       "         0.6858674 ,  0.30336172,  0.09553796, -0.15074473,  0.28447922],\n",
       "       [ 0.09755424,  0.08377684,  0.17050036, -0.26536502, -0.13818033,\n",
       "         0.00698333,  0.26817893,  0.27330212, -0.4724768 ,  0.03618105],\n",
       "       [-0.29444634,  0.03311227, -0.10717487, -0.25103892,  0.3610936 ,\n",
       "        -0.15272594,  0.15798706,  0.64023465, -0.22916864,  0.32203209],\n",
       "       [ 0.49311412,  0.33173042,  0.17471938,  0.00767572, -0.1902113 ,\n",
       "        -0.07062584, -0.15974417, -0.523626  , -0.67696094, -0.27368203],\n",
       "       [ 0.11810001, -0.27555109, -0.04729058, -0.22987534,  0.35005417,\n",
       "        -0.06061945,  0.5919892 ,  0.00928882, -0.11284861,  0.62267714],\n",
       "       [-0.35600679,  0.09602504,  0.325585  ,  0.15161068, -0.36191447,\n",
       "         0.3532169 ,  0.37496625, -0.46242972, -0.29352534,  0.38370976],\n",
       "       [-0.1004132 , -0.80240684, -0.3952096 , -0.57019399,  0.00297135,\n",
       "         0.06880532,  0.07996476, -0.0998014 ,  0.14107022, -0.47811688],\n",
       "       [-0.25181232, -0.44409857,  0.41900461,  0.56079457, -0.08287823,\n",
       "        -0.1419666 ,  0.04355081,  0.21418559,  0.1115846 ,  0.13648741],\n",
       "       [-1.00002041,  0.46321511,  0.64893255,  0.12236271, -0.16461224,\n",
       "         0.22195388,  0.25084626,  0.6474512 ,  0.32374406,  0.42798316]])"
      ]
     },
     "execution_count": 647,
     "metadata": {},
     "output_type": "execute_result"
    }
   ],
   "source": [
    "m1.coefs_[0]"
   ]
  },
  {
   "cell_type": "code",
   "execution_count": 648,
   "metadata": {},
   "outputs": [
    {
     "data": {
      "text/plain": [
       "array([[ 0.09696746, -0.29640055, -0.08039571, -0.16679545,  0.48473944,\n",
       "        -0.79748033, -0.66477807, -0.01553698,  0.28660635,  0.47262403],\n",
       "       [ 0.2681115 , -0.2636638 , -1.51838326,  0.07187276, -0.91818149,\n",
       "        -0.6093973 ,  0.50712813,  0.29662176,  0.67063309,  0.42641254],\n",
       "       [ 1.33711108, -0.18852564, -0.35651537,  0.73523396, -0.80448921,\n",
       "        -0.01839566, -0.41644992, -1.02652407,  0.92001984,  0.4616561 ],\n",
       "       [ 0.64936016,  0.39255064,  0.52170409,  0.14050928, -1.14495388,\n",
       "         0.49741515,  0.10889473,  0.48766398,  0.75789214,  0.71584793],\n",
       "       [-0.34304034,  0.15570048,  0.58898685, -0.46749998,  0.04207986,\n",
       "         0.31366298,  0.89578848,  0.29377156, -0.36692919, -0.60613263],\n",
       "       [-0.07801528,  1.26625038, -0.20968165, -0.26312195,  1.04074386,\n",
       "         1.07231792,  1.27019   ,  0.19224675,  0.03400433, -0.09793833],\n",
       "       [ 1.03961741,  0.58970516,  0.29962952,  0.92768395, -0.55954799,\n",
       "         0.14545537,  0.17152366,  0.35854876,  0.77266821,  0.88297867],\n",
       "       [ 0.9307987 , -0.25509418, -0.97128564, -0.00850193,  0.30129959,\n",
       "        -1.25734838, -1.11087569, -0.14881278,  0.28281353,  0.57373813],\n",
       "       [-0.49874389, -0.89678303,  0.47281558, -0.22407666, -0.06571701,\n",
       "         0.03818308,  0.43671957, -0.69308699, -0.06664668, -0.45988804],\n",
       "       [-0.94092471,  0.83269827,  0.53960478, -0.14737009,  0.95242466,\n",
       "         0.92358658,  0.58812303,  0.70536588,  0.01614153, -0.45357054]])"
      ]
     },
     "execution_count": 648,
     "metadata": {},
     "output_type": "execute_result"
    }
   ],
   "source": [
    "m1.coefs_[1]"
   ]
  },
  {
   "cell_type": "code",
   "execution_count": 649,
   "metadata": {},
   "outputs": [
    {
     "data": {
      "text/plain": [
       "array([[-0.55749337],\n",
       "       [ 1.12270715],\n",
       "       [ 0.69826365],\n",
       "       [-0.72059035],\n",
       "       [ 1.59294335],\n",
       "       [ 0.97703478],\n",
       "       [ 0.79216694],\n",
       "       [ 0.9764767 ],\n",
       "       [-0.51926473],\n",
       "       [-0.91567337]])"
      ]
     },
     "execution_count": 649,
     "metadata": {},
     "output_type": "execute_result"
    }
   ],
   "source": [
    "m1.coefs_[2]"
   ]
  },
  {
   "cell_type": "code",
   "execution_count": 650,
   "metadata": {
    "collapsed": true
   },
   "outputs": [],
   "source": [
    "m1_pred= m1.predict(X_test_stand)"
   ]
  },
  {
   "cell_type": "code",
   "execution_count": 651,
   "metadata": {},
   "outputs": [
    {
     "name": "stdout",
     "output_type": "stream",
     "text": [
      "Train Accuracy\n",
      "0.865333333333\n"
     ]
    }
   ],
   "source": [
    "print('Train Accuracy')\n",
    "print(m1.score(X_train_stand, y_train))"
   ]
  },
  {
   "cell_type": "code",
   "execution_count": 652,
   "metadata": {},
   "outputs": [
    {
     "name": "stdout",
     "output_type": "stream",
     "text": [
      "Test Accuracy\n",
      "0.732\n"
     ]
    }
   ],
   "source": [
    "print('Test Accuracy')\n",
    "print(m1.score(X_test_stand, y_test))"
   ]
  },
  {
   "cell_type": "code",
   "execution_count": 653,
   "metadata": {},
   "outputs": [
    {
     "data": {
      "text/plain": [
       "MLPClassifier(activation='relu', alpha=0.1, batch_size='auto', beta_1=0.9,\n",
       "       beta_2=0.999, early_stopping=False, epsilon=1e-08,\n",
       "       hidden_layer_sizes=(10, 10), learning_rate='constant',\n",
       "       learning_rate_init=0.001, max_iter=1500, momentum=0.9,\n",
       "       nesterovs_momentum=True, power_t=0.5, random_state=42, shuffle=True,\n",
       "       solver='adam', tol=0.0001, validation_fraction=0.1, verbose=False,\n",
       "       warm_start=False)"
      ]
     },
     "execution_count": 653,
     "metadata": {},
     "output_type": "execute_result"
    }
   ],
   "source": [
    "m2 = MLPClassifier(random_state=42, max_iter=1500,hidden_layer_sizes=(10,10), alpha=0.1)\n",
    "m2.fit(X_train_stand, y_train)"
   ]
  },
  {
   "cell_type": "code",
   "execution_count": 654,
   "metadata": {
    "collapsed": true
   },
   "outputs": [],
   "source": [
    "m2_pred= m2.predict(X_test_stand)"
   ]
  },
  {
   "cell_type": "code",
   "execution_count": 655,
   "metadata": {},
   "outputs": [
    {
     "name": "stdout",
     "output_type": "stream",
     "text": [
      "Train Accuracy\n",
      "0.858666666667\n"
     ]
    }
   ],
   "source": [
    "print('Train Accuracy')\n",
    "print(m2.score(X_train_stand, y_train))"
   ]
  },
  {
   "cell_type": "code",
   "execution_count": 656,
   "metadata": {},
   "outputs": [
    {
     "name": "stdout",
     "output_type": "stream",
     "text": [
      "Test Accuracy\n",
      "0.748\n"
     ]
    }
   ],
   "source": [
    "print('Test Accuracy')\n",
    "print(m2.score(X_test_stand, y_test))"
   ]
  },
  {
   "cell_type": "code",
   "execution_count": 657,
   "metadata": {},
   "outputs": [
    {
     "data": {
      "text/plain": [
       "MLPClassifier(activation='relu', alpha=1.0, batch_size='auto', beta_1=0.9,\n",
       "       beta_2=0.999, early_stopping=False, epsilon=1e-08,\n",
       "       hidden_layer_sizes=(10, 10), learning_rate='constant',\n",
       "       learning_rate_init=0.001, max_iter=1500, momentum=0.9,\n",
       "       nesterovs_momentum=True, power_t=0.5, random_state=42, shuffle=True,\n",
       "       solver='adam', tol=0.0001, validation_fraction=0.1, verbose=False,\n",
       "       warm_start=False)"
      ]
     },
     "execution_count": 657,
     "metadata": {},
     "output_type": "execute_result"
    }
   ],
   "source": [
    "m3 = MLPClassifier(random_state=42, max_iter=1500,hidden_layer_sizes=(10,10), alpha=1.0)\n",
    "m3.fit(X_train_stand, y_train)"
   ]
  },
  {
   "cell_type": "code",
   "execution_count": 658,
   "metadata": {
    "collapsed": true
   },
   "outputs": [],
   "source": [
    "m3_pred= m3.predict(X_test_stand)"
   ]
  },
  {
   "cell_type": "code",
   "execution_count": 659,
   "metadata": {},
   "outputs": [
    {
     "name": "stdout",
     "output_type": "stream",
     "text": [
      "Train Accuracy\n",
      "0.825333333333\n"
     ]
    }
   ],
   "source": [
    "print('Train Accuracy')\n",
    "print(m3.score(X_train_stand, y_train))"
   ]
  },
  {
   "cell_type": "code",
   "execution_count": 660,
   "metadata": {},
   "outputs": [
    {
     "name": "stdout",
     "output_type": "stream",
     "text": [
      "Test Accuracy\n",
      "0.776\n"
     ]
    }
   ],
   "source": [
    "print('Test Accuracy')\n",
    "print(m3.score(X_test_stand, y_test))"
   ]
  },
  {
   "cell_type": "code",
   "execution_count": 661,
   "metadata": {},
   "outputs": [
    {
     "data": {
      "text/plain": [
       "MLPClassifier(activation='relu', alpha=1.0, batch_size='auto', beta_1=0.9,\n",
       "       beta_2=0.999, early_stopping=False, epsilon=1e-08,\n",
       "       hidden_layer_sizes=(10, 100), learning_rate='constant',\n",
       "       learning_rate_init=0.001, max_iter=1500, momentum=0.9,\n",
       "       nesterovs_momentum=True, power_t=0.5, random_state=42, shuffle=True,\n",
       "       solver='adam', tol=0.0001, validation_fraction=0.1, verbose=False,\n",
       "       warm_start=False)"
      ]
     },
     "execution_count": 661,
     "metadata": {},
     "output_type": "execute_result"
    }
   ],
   "source": [
    "m4 = MLPClassifier(random_state=42, max_iter=1500,hidden_layer_sizes=(10,100), alpha=1.0)\n",
    "m4.fit(X_train_stand, y_train)"
   ]
  },
  {
   "cell_type": "code",
   "execution_count": 662,
   "metadata": {
    "collapsed": true
   },
   "outputs": [],
   "source": [
    "m4_pred= m4.predict(X_test_stand)"
   ]
  },
  {
   "cell_type": "code",
   "execution_count": 663,
   "metadata": {},
   "outputs": [
    {
     "name": "stdout",
     "output_type": "stream",
     "text": [
      "Train Accuracy\n",
      "0.829333333333\n"
     ]
    }
   ],
   "source": [
    "print('Train Accuracy')\n",
    "print(m4.score(X_train_stand, y_train))"
   ]
  },
  {
   "cell_type": "code",
   "execution_count": 664,
   "metadata": {},
   "outputs": [
    {
     "name": "stdout",
     "output_type": "stream",
     "text": [
      "Test Accuracy\n",
      "0.744\n"
     ]
    }
   ],
   "source": [
    "print('Test Accuracy')\n",
    "print(m4.score(X_test_stand, y_test))"
   ]
  },
  {
   "cell_type": "code",
   "execution_count": 665,
   "metadata": {},
   "outputs": [
    {
     "data": {
      "text/plain": [
       "MLPClassifier(activation='relu', alpha=1.0, batch_size='auto', beta_1=0.9,\n",
       "       beta_2=0.999, early_stopping=False, epsilon=1e-08,\n",
       "       hidden_layer_sizes=(10, 10, 10), learning_rate='constant',\n",
       "       learning_rate_init=0.001, max_iter=1500, momentum=0.9,\n",
       "       nesterovs_momentum=True, power_t=0.5, random_state=42, shuffle=True,\n",
       "       solver='adam', tol=0.0001, validation_fraction=0.1, verbose=False,\n",
       "       warm_start=False)"
      ]
     },
     "execution_count": 665,
     "metadata": {},
     "output_type": "execute_result"
    }
   ],
   "source": [
    "m5 = MLPClassifier(random_state=42, max_iter=1500,hidden_layer_sizes=(10,10,10), alpha=1.0)\n",
    "m5.fit(X_train_stand, y_train)"
   ]
  },
  {
   "cell_type": "code",
   "execution_count": 666,
   "metadata": {
    "collapsed": true
   },
   "outputs": [],
   "source": [
    "m5_pred= m5.predict(X_test_stand)"
   ]
  },
  {
   "cell_type": "code",
   "execution_count": 667,
   "metadata": {},
   "outputs": [
    {
     "name": "stdout",
     "output_type": "stream",
     "text": [
      "Train Accuracy\n",
      "0.809333333333\n"
     ]
    }
   ],
   "source": [
    "print('Train Accuracy')\n",
    "print(m5.score(X_train_stand, y_train))"
   ]
  },
  {
   "cell_type": "code",
   "execution_count": 668,
   "metadata": {},
   "outputs": [
    {
     "name": "stdout",
     "output_type": "stream",
     "text": [
      "Test Accuracy\n",
      "0.744\n"
     ]
    }
   ],
   "source": [
    "print('Test Accuracy')\n",
    "print(m5.score(X_test_stand, y_test))"
   ]
  },
  {
   "cell_type": "code",
   "execution_count": 669,
   "metadata": {},
   "outputs": [
    {
     "data": {
      "text/plain": [
       "MLPClassifier(activation='tanh', alpha=1.0, batch_size='auto', beta_1=0.9,\n",
       "       beta_2=0.999, early_stopping=False, epsilon=1e-08,\n",
       "       hidden_layer_sizes=(10, 10, 10), learning_rate='constant',\n",
       "       learning_rate_init=0.001, max_iter=1500, momentum=0.9,\n",
       "       nesterovs_momentum=True, power_t=0.5, random_state=42, shuffle=True,\n",
       "       solver='lbfgs', tol=0.0001, validation_fraction=0.1, verbose=False,\n",
       "       warm_start=False)"
      ]
     },
     "execution_count": 669,
     "metadata": {},
     "output_type": "execute_result"
    }
   ],
   "source": [
    "m6 = MLPClassifier(random_state=42, max_iter=1500,hidden_layer_sizes=(10,10,10), alpha=1.0,solver='lbfgs', activation='tanh')\n",
    "m6.fit(X_train_stand, y_train)"
   ]
  },
  {
   "cell_type": "code",
   "execution_count": 670,
   "metadata": {
    "collapsed": true
   },
   "outputs": [],
   "source": [
    "m6_pred= m6.predict(X_test_stand)"
   ]
  },
  {
   "cell_type": "code",
   "execution_count": 671,
   "metadata": {},
   "outputs": [
    {
     "name": "stdout",
     "output_type": "stream",
     "text": [
      "Train Accuracy\n",
      "0.998666666667\n"
     ]
    }
   ],
   "source": [
    "print('Train Accuracy')\n",
    "print(m6.score(X_train_stand, y_train))"
   ]
  },
  {
   "cell_type": "code",
   "execution_count": 672,
   "metadata": {},
   "outputs": [
    {
     "name": "stdout",
     "output_type": "stream",
     "text": [
      "Test Accuracy\n",
      "0.684\n"
     ]
    }
   ],
   "source": [
    "print('Test Accuracy')\n",
    "print(m6.score(X_test_stand, y_test))"
   ]
  },
  {
   "cell_type": "code",
   "execution_count": 673,
   "metadata": {},
   "outputs": [
    {
     "data": {
      "text/plain": [
       "[array([[ -1.67378983e-02,   8.96369997e-02,  -6.51067873e-02,\n",
       "          -5.53818824e-01,  -1.09937681e+00,  -7.10285038e-01,\n",
       "          -9.21613889e-01,   5.48214075e-01,   4.46250430e-01,\n",
       "          -2.04809248e-01],\n",
       "        [ -2.32820785e-01,   4.07598609e-01,   1.02542412e+00,\n",
       "          -9.66065363e-01,   1.38047299e-01,  -7.33056229e-01,\n",
       "           4.46253170e-01,  -3.41255064e-01,  -2.80976870e-01,\n",
       "          -6.89078639e-01],\n",
       "        [  5.41095389e-01,  -3.09110509e-01,   1.00600221e-01,\n",
       "           2.84622958e-01,   7.24483101e-01,   5.32426655e-01,\n",
       "          -2.62518426e-01,  -7.44129656e-02,  -2.91442073e-02,\n",
       "           4.72314958e-01],\n",
       "        [ -4.22920004e-01,   3.22036018e-01,   7.17045272e-01,\n",
       "           2.03311910e-01,   5.17211151e-01,  -6.62989221e-01,\n",
       "          -8.91504112e-02,  -8.07934146e-01,  -3.29755977e-01,\n",
       "          -1.01153291e+00],\n",
       "        [  2.51525290e-01,  -1.21553436e-01,  -1.04465979e-01,\n",
       "          -2.57202113e-01,  -4.70626997e-02,   2.14150418e-01,\n",
       "          -4.58340680e-02,  -4.24679710e-01,   7.68720511e-01,\n",
       "           4.67643233e-02],\n",
       "        [  1.18773996e-01,  -1.44324257e-02,  -1.61751541e-01,\n",
       "          -7.09127581e-02,  -6.14852074e-01,   3.77067324e-01,\n",
       "          -2.56753473e-02,  -3.35751200e-01,   2.05967575e-01,\n",
       "           1.55359113e-01],\n",
       "        [  3.37427523e-01,   7.82712078e-01,  -6.69944453e-02,\n",
       "           2.72371310e-01,   1.87458733e-01,   2.43420865e-01,\n",
       "           1.68126378e-01,  -2.84171880e-01,  -8.28751799e-01,\n",
       "           4.63194601e-01],\n",
       "        [  5.15942017e-01,  -6.34839748e-01,   4.67419508e-02,\n",
       "           1.45366173e-01,   1.17705315e+00,  -1.91767234e-01,\n",
       "           1.08503768e-03,   4.71862936e-01,   2.54403329e-01,\n",
       "           3.24662328e-02],\n",
       "        [  2.92226616e-01,  -9.54506757e-01,  -1.30617219e+00,\n",
       "          -1.24720572e+00,  -4.93330370e-01,   1.41285718e-01,\n",
       "           1.50695180e-01,   4.40728747e-01,   4.21012317e-01,\n",
       "          -9.29757898e-01],\n",
       "        [  7.64563976e-02,   4.32293516e-01,   3.50487298e-01,\n",
       "           3.10251446e-01,   8.53674571e-01,   3.51543119e-01,\n",
       "          -3.59182871e-02,   1.99380989e-01,  -3.19525601e-01,\n",
       "           3.60588506e-01],\n",
       "        [ -8.82652401e-01,  -5.57208706e-01,  -2.56828692e-01,\n",
       "           6.29629091e-01,   2.85126251e-01,   3.03596929e-01,\n",
       "           5.60902370e-02,   1.69500620e+00,   3.90378401e-01,\n",
       "           1.17056584e-01],\n",
       "        [ -4.50293755e-01,  -4.56538345e-01,   7.35763003e-01,\n",
       "           2.24930985e-01,  -2.67737622e-02,  -2.93071181e-01,\n",
       "           2.72094109e-01,  -4.61485255e-01,   5.57319339e-01,\n",
       "          -4.76052512e-01],\n",
       "        [  4.40453743e-01,   7.05638573e-01,  -1.24079278e-01,\n",
       "          -5.54846005e-01,  -7.18330553e-01,   5.75774889e-01,\n",
       "           8.17618256e-01,  -3.79337374e-01,   5.14462464e-01,\n",
       "          -5.61406682e-01],\n",
       "        [  2.21271555e-01,   4.19194516e-01,  -5.47964408e-01,\n",
       "           4.21595395e-01,   6.17834853e-01,  -1.34603327e-01,\n",
       "          -1.27097830e-01,   5.00462695e-01,  -8.46038432e-01,\n",
       "           7.85770677e-02],\n",
       "        [  7.34234941e-01,  -3.70141262e-01,  -1.69988718e-01,\n",
       "           1.93238075e-01,  -4.15085770e-01,   4.60100389e-01,\n",
       "           1.23612109e-01,  -6.05998744e-01,   5.27733959e-01,\n",
       "           4.72130617e-01],\n",
       "        [  1.83279971e-01,  -4.87235945e-01,  -4.10867173e-01,\n",
       "          -1.72236655e-02,  -9.47131284e-01,  -9.36614925e-01,\n",
       "          -3.48347942e-01,   2.93960643e-01,  -1.68685422e-01,\n",
       "           1.09120304e+00],\n",
       "        [ -9.17625267e-01,  -7.33810764e-01,  -1.47672327e-01,\n",
       "           4.65832811e-01,  -6.12066192e-01,  -2.61806855e-01,\n",
       "           2.17128295e-01,  -1.01609254e+00,  -2.25221454e-01,\n",
       "          -2.69890005e-01],\n",
       "        [  1.14005912e+00,   3.51530105e-01,  -7.20056475e-01,\n",
       "          -1.93883982e-01,   4.92532525e-01,  -4.50300593e-01,\n",
       "          -3.72260530e-01,  -2.09194547e-01,  -2.41650034e-01,\n",
       "          -5.88500019e-01],\n",
       "        [ -4.68152400e-01,  -8.11262324e-01,  -2.48576177e-01,\n",
       "           3.76394984e-01,  -3.80282245e-01,   5.95591947e-02,\n",
       "          -3.73134078e-01,   7.88125569e-01,   5.88040075e-01,\n",
       "           2.56244125e-01],\n",
       "        [ -3.04505219e-01,   2.16822391e-01,  -2.01445712e-01,\n",
       "           3.34723529e-02,   5.56639369e-02,  -3.84692537e-01,\n",
       "          -2.04949440e-01,   4.06742204e-01,  -8.62343449e-02,\n",
       "          -5.58372761e-01]]),\n",
       " array([[ -7.28270022e-01,  -4.74519891e-03,   2.54361674e-03,\n",
       "          -1.32061448e+00,   5.32323525e-01,   1.19015888e+00,\n",
       "          -3.06990239e-01,   5.61994152e-01,  -3.79511432e-01,\n",
       "           4.49427938e-01],\n",
       "        [ -3.02023837e-01,   3.84310370e-03,  -7.87875942e-03,\n",
       "           8.42698889e-01,  -3.32794542e-01,  -1.57675779e-01,\n",
       "           8.11491332e-01,  -1.07087074e+00,  -4.60627014e-01,\n",
       "           5.17264779e-01],\n",
       "        [  1.02907657e+00,   6.21543187e-04,   5.72517760e-03,\n",
       "          -9.72445638e-01,   2.09674413e-01,   8.96530147e-01,\n",
       "           9.01412623e-01,  -1.41240943e-01,  -6.59585547e-01,\n",
       "          -8.32069218e-01],\n",
       "        [  7.29721922e-01,  -2.40552676e-03,   2.20182557e-04,\n",
       "          -3.66772554e-01,   1.25030123e-01,  -1.16476685e+00,\n",
       "           7.61613277e-01,   1.20225277e+00,  -4.02964443e-01,\n",
       "          -1.07404300e-01],\n",
       "        [ -1.19520537e-01,   4.28347298e-03,  -7.71618839e-03,\n",
       "           5.50045668e-01,  -6.34175011e-01,   2.75334790e-01,\n",
       "           1.38827080e+00,   8.28273598e-02,   1.51414077e+00,\n",
       "           1.79543732e-01],\n",
       "        [  4.83144863e-01,  -6.94939596e-03,  -4.11539969e-04,\n",
       "          -1.09145669e+00,   5.78310786e-01,   1.16430814e+00,\n",
       "           6.10962119e-01,   2.20069329e-01,  -8.52672014e-01,\n",
       "           3.88122237e-01],\n",
       "        [  1.90858710e-01,   6.47928959e-03,  -6.41917994e-04,\n",
       "           9.26018097e-01,  -7.40770378e-02,   3.34963145e-02,\n",
       "           6.91329708e-01,  -3.74906548e-01,   7.77194480e-01,\n",
       "           6.06856670e-01],\n",
       "        [ -3.73902097e-01,  -3.85100587e-03,   5.96609339e-03,\n",
       "          -1.13978236e+00,   1.48893514e-01,  -1.31887068e+00,\n",
       "           5.92234233e-02,   1.16243055e+00,  -3.51758854e-01,\n",
       "          -7.52376327e-01],\n",
       "        [ -1.13274583e+00,  -1.13143468e-04,  -9.64384252e-03,\n",
       "           5.88127185e-01,  -4.22419661e-01,  -9.80377857e-01,\n",
       "           2.66565486e-02,  -9.65451286e-01,   2.04318996e-02,\n",
       "           6.09440960e-01],\n",
       "        [ -4.32750154e-01,  -3.54000792e-04,  -3.83835084e-03,\n",
       "           1.76366705e+00,  -5.39280855e-02,   3.13180826e-01,\n",
       "           1.01858377e+00,   1.25803923e+00,   7.29196864e-01,\n",
       "           8.97870783e-02]]),\n",
       " array([[  5.73031372e-01,  -6.45646733e-01,  -1.21600103e-01,\n",
       "           4.76365028e-01,   6.78756154e-01,  -4.04692101e-01,\n",
       "           1.00895488e+00,   1.33049584e-02,  -5.99392781e-01,\n",
       "           9.94108918e-02],\n",
       "        [ -4.88155527e-03,   7.27279595e-03,  -7.74260482e-03,\n",
       "          -6.81728969e-04,  -8.79907490e-03,  -7.52060073e-04,\n",
       "          -2.04688717e-02,  -4.17703228e-03,   5.90609372e-03,\n",
       "          -1.60088606e-02],\n",
       "        [  2.70812591e-03,  -7.71218543e-04,  -1.18695596e-02,\n",
       "           6.67286763e-03,  -6.89257253e-04,  -7.49305921e-03,\n",
       "          -1.12108590e-02,  -5.13978814e-03,  -1.83477458e-03,\n",
       "          -1.90925278e-02],\n",
       "        [ -1.09492420e+00,   1.23349139e+00,   2.32937477e-01,\n",
       "          -9.14456343e-01,  -1.29362483e+00,   7.90467372e-01,\n",
       "          -1.90442335e+00,  -2.29918623e-02,   1.14614594e+00,\n",
       "          -1.93577468e-01],\n",
       "        [  4.07740284e-01,  -4.58929629e-01,  -8.50835816e-02,\n",
       "           3.40943775e-01,   4.82580069e-01,  -2.95543996e-01,\n",
       "           7.01396985e-01,   1.48950676e-02,  -4.27131628e-01,\n",
       "           9.82900883e-02],\n",
       "        [  6.27324869e-01,  -7.04036862e-01,  -1.36876614e-01,\n",
       "           5.21774277e-01,   7.40782683e-01,  -4.42830873e-01,\n",
       "           1.10588059e+00,   1.49012093e-02,  -6.55076696e-01,\n",
       "           1.31843796e-01],\n",
       "        [ -5.96756552e-01,   6.74613513e-01,   1.17277058e-01,\n",
       "          -4.91864624e-01,  -7.08470690e-01,   4.24895441e-01,\n",
       "          -1.06267878e+00,  -2.01140725e-02,   6.25861980e-01,\n",
       "          -1.28750499e-01],\n",
       "        [  7.25383933e-01,  -8.23148487e-01,  -1.53338750e-01,\n",
       "           6.09664315e-01,   8.67937589e-01,  -5.25997998e-01,\n",
       "           1.27881280e+00,   1.46250814e-02,  -7.61745619e-01,\n",
       "           1.20483880e-01],\n",
       "        [ -7.22984365e-01,   8.14144196e-01,   1.57643006e-01,\n",
       "          -6.06823022e-01,  -8.56628037e-01,   5.25796371e-01,\n",
       "          -1.24384313e+00,  -2.12468309e-02,   7.57153876e-01,\n",
       "          -1.53516512e-01],\n",
       "        [ -4.92901647e-01,   5.61692679e-01,   8.92901453e-02,\n",
       "          -4.04365979e-01,  -5.93031515e-01,   3.45431145e-01,\n",
       "          -8.95887834e-01,  -1.54117690e-02,   5.18333978e-01,\n",
       "          -1.09176375e-01]]),\n",
       " array([[-1.94040694],\n",
       "        [ 2.19645228],\n",
       "        [ 0.43282933],\n",
       "        [-1.612253  ],\n",
       "        [-2.31247164],\n",
       "        [ 1.38359232],\n",
       "        [-3.47856173],\n",
       "        [-0.06144746],\n",
       "        [ 2.0347386 ],\n",
       "        [-0.37874437]])]"
      ]
     },
     "execution_count": 673,
     "metadata": {},
     "output_type": "execute_result"
    }
   ],
   "source": [
    "m6.coefs_"
   ]
  },
  {
   "cell_type": "code",
   "execution_count": 674,
   "metadata": {},
   "outputs": [
    {
     "data": {
      "text/plain": [
       "array([[ -1.67378983e-02,   8.96369997e-02,  -6.51067873e-02,\n",
       "         -5.53818824e-01,  -1.09937681e+00,  -7.10285038e-01,\n",
       "         -9.21613889e-01,   5.48214075e-01,   4.46250430e-01,\n",
       "         -2.04809248e-01],\n",
       "       [ -2.32820785e-01,   4.07598609e-01,   1.02542412e+00,\n",
       "         -9.66065363e-01,   1.38047299e-01,  -7.33056229e-01,\n",
       "          4.46253170e-01,  -3.41255064e-01,  -2.80976870e-01,\n",
       "         -6.89078639e-01],\n",
       "       [  5.41095389e-01,  -3.09110509e-01,   1.00600221e-01,\n",
       "          2.84622958e-01,   7.24483101e-01,   5.32426655e-01,\n",
       "         -2.62518426e-01,  -7.44129656e-02,  -2.91442073e-02,\n",
       "          4.72314958e-01],\n",
       "       [ -4.22920004e-01,   3.22036018e-01,   7.17045272e-01,\n",
       "          2.03311910e-01,   5.17211151e-01,  -6.62989221e-01,\n",
       "         -8.91504112e-02,  -8.07934146e-01,  -3.29755977e-01,\n",
       "         -1.01153291e+00],\n",
       "       [  2.51525290e-01,  -1.21553436e-01,  -1.04465979e-01,\n",
       "         -2.57202113e-01,  -4.70626997e-02,   2.14150418e-01,\n",
       "         -4.58340680e-02,  -4.24679710e-01,   7.68720511e-01,\n",
       "          4.67643233e-02],\n",
       "       [  1.18773996e-01,  -1.44324257e-02,  -1.61751541e-01,\n",
       "         -7.09127581e-02,  -6.14852074e-01,   3.77067324e-01,\n",
       "         -2.56753473e-02,  -3.35751200e-01,   2.05967575e-01,\n",
       "          1.55359113e-01],\n",
       "       [  3.37427523e-01,   7.82712078e-01,  -6.69944453e-02,\n",
       "          2.72371310e-01,   1.87458733e-01,   2.43420865e-01,\n",
       "          1.68126378e-01,  -2.84171880e-01,  -8.28751799e-01,\n",
       "          4.63194601e-01],\n",
       "       [  5.15942017e-01,  -6.34839748e-01,   4.67419508e-02,\n",
       "          1.45366173e-01,   1.17705315e+00,  -1.91767234e-01,\n",
       "          1.08503768e-03,   4.71862936e-01,   2.54403329e-01,\n",
       "          3.24662328e-02],\n",
       "       [  2.92226616e-01,  -9.54506757e-01,  -1.30617219e+00,\n",
       "         -1.24720572e+00,  -4.93330370e-01,   1.41285718e-01,\n",
       "          1.50695180e-01,   4.40728747e-01,   4.21012317e-01,\n",
       "         -9.29757898e-01],\n",
       "       [  7.64563976e-02,   4.32293516e-01,   3.50487298e-01,\n",
       "          3.10251446e-01,   8.53674571e-01,   3.51543119e-01,\n",
       "         -3.59182871e-02,   1.99380989e-01,  -3.19525601e-01,\n",
       "          3.60588506e-01],\n",
       "       [ -8.82652401e-01,  -5.57208706e-01,  -2.56828692e-01,\n",
       "          6.29629091e-01,   2.85126251e-01,   3.03596929e-01,\n",
       "          5.60902370e-02,   1.69500620e+00,   3.90378401e-01,\n",
       "          1.17056584e-01],\n",
       "       [ -4.50293755e-01,  -4.56538345e-01,   7.35763003e-01,\n",
       "          2.24930985e-01,  -2.67737622e-02,  -2.93071181e-01,\n",
       "          2.72094109e-01,  -4.61485255e-01,   5.57319339e-01,\n",
       "         -4.76052512e-01],\n",
       "       [  4.40453743e-01,   7.05638573e-01,  -1.24079278e-01,\n",
       "         -5.54846005e-01,  -7.18330553e-01,   5.75774889e-01,\n",
       "          8.17618256e-01,  -3.79337374e-01,   5.14462464e-01,\n",
       "         -5.61406682e-01],\n",
       "       [  2.21271555e-01,   4.19194516e-01,  -5.47964408e-01,\n",
       "          4.21595395e-01,   6.17834853e-01,  -1.34603327e-01,\n",
       "         -1.27097830e-01,   5.00462695e-01,  -8.46038432e-01,\n",
       "          7.85770677e-02],\n",
       "       [  7.34234941e-01,  -3.70141262e-01,  -1.69988718e-01,\n",
       "          1.93238075e-01,  -4.15085770e-01,   4.60100389e-01,\n",
       "          1.23612109e-01,  -6.05998744e-01,   5.27733959e-01,\n",
       "          4.72130617e-01],\n",
       "       [  1.83279971e-01,  -4.87235945e-01,  -4.10867173e-01,\n",
       "         -1.72236655e-02,  -9.47131284e-01,  -9.36614925e-01,\n",
       "         -3.48347942e-01,   2.93960643e-01,  -1.68685422e-01,\n",
       "          1.09120304e+00],\n",
       "       [ -9.17625267e-01,  -7.33810764e-01,  -1.47672327e-01,\n",
       "          4.65832811e-01,  -6.12066192e-01,  -2.61806855e-01,\n",
       "          2.17128295e-01,  -1.01609254e+00,  -2.25221454e-01,\n",
       "         -2.69890005e-01],\n",
       "       [  1.14005912e+00,   3.51530105e-01,  -7.20056475e-01,\n",
       "         -1.93883982e-01,   4.92532525e-01,  -4.50300593e-01,\n",
       "         -3.72260530e-01,  -2.09194547e-01,  -2.41650034e-01,\n",
       "         -5.88500019e-01],\n",
       "       [ -4.68152400e-01,  -8.11262324e-01,  -2.48576177e-01,\n",
       "          3.76394984e-01,  -3.80282245e-01,   5.95591947e-02,\n",
       "         -3.73134078e-01,   7.88125569e-01,   5.88040075e-01,\n",
       "          2.56244125e-01],\n",
       "       [ -3.04505219e-01,   2.16822391e-01,  -2.01445712e-01,\n",
       "          3.34723529e-02,   5.56639369e-02,  -3.84692537e-01,\n",
       "         -2.04949440e-01,   4.06742204e-01,  -8.62343449e-02,\n",
       "         -5.58372761e-01]])"
      ]
     },
     "execution_count": 674,
     "metadata": {},
     "output_type": "execute_result"
    }
   ],
   "source": [
    "m6.coefs_[0]"
   ]
  },
  {
   "cell_type": "code",
   "execution_count": 675,
   "metadata": {},
   "outputs": [
    {
     "data": {
      "image/png": "[encoded data removed]",
      "text/plain": [
       "<matplotlib.figure.Figure at 0x16e97a32da0>"
      ]
     },
     "metadata": {},
     "output_type": "display_data"
    }
   ],
   "source": [
    "plt.figure(figsize=(20,5))\n",
    "plt.imshow(mlp.coefs_[0])\n",
    "plt.yticks(range(20), credit_index)\n",
    "plt.colorbar()\n",
    "plt.show()"
   ]
  }
 ],
 "metadata": {
  "kernelspec": {
   "display_name": "Python 3",
   "language": "python",
   "name": "python3"
  },
  "language_info": {
   "codemirror_mode": {
    "name": "ipython",
    "version": 3
   },
   "file_extension": ".py",
   "mimetype": "text/x-python",
   "name": "python",
   "nbconvert_exporter": "python",
   "pygments_lexer": "ipython3",
   "version": "3.6.1"
  }
 },
 "nbformat": 4,
 "nbformat_minor": 2
}
